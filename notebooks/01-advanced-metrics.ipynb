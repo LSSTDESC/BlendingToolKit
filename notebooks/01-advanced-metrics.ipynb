{
 "cells": [
  {
   "cell_type": "markdown",
   "metadata": {},
   "source": [
    "*Authors:* Ismael Mendoza, Andrii Torchylo"
   ]
  },
  {
   "cell_type": "markdown",
   "metadata": {},
   "source": [
    "*Outline*:\n",
    "\n",
    "- Showcase one of each of the types of metrics, explain inputs/outputs\n",
    "- Show how to create your own custom metric, specifically an F1 Score metric (which is not yet implemented)\n",
    "- the two different matching algorithms and what the inputs/outputs are, brief description of each and their arguments\n",
    "- Each of the measure functions and expected input, histogram for one or two of them"
   ]
  },
  {
   "cell_type": "markdown",
   "metadata": {},
   "source": [
    "# Setup "
   ]
  },
  {
   "cell_type": "markdown",
   "metadata": {},
   "source": [
    "# Metrics"
   ]
  },
  {
   "cell_type": "markdown",
   "metadata": {},
   "source": [
    "# Measure Functions"
   ]
  },
  {
   "cell_type": "markdown",
   "metadata": {},
   "source": [
    "# Matching"
   ]
  },
  {
   "cell_type": "markdown",
   "metadata": {},
   "source": []
  }
 ],
 "metadata": {
  "language_info": {
   "name": "python"
  }
 },
 "nbformat": 4,
 "nbformat_minor": 2
}
