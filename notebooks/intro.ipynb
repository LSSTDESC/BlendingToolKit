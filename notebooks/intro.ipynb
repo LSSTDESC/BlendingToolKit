{
 "cells": [
  {
   "cell_type": "markdown",
   "metadata": {},
   "source": [
    "**Summary:** \n",
    "This tutorial shows the basic functions and usages of btk. For a more detailed understanding of the btk pipeline refer to the [User Guide](https://blendingtoolkit.readthedocs.io/en/latest/user_guide.html) on the package [website](https://blendingtoolkit.readthedocs.io/en/latest/index.html). \n",
    "\n",
    "For instructions on how to download required dependencies take a look at this [page](https://blendingtoolkit.readthedocs.io/en/latest/install.html)."
   ]
  },
  {
   "cell_type": "markdown",
   "metadata": {},
   "source": [
    "# Setup"
   ]
  },
  {
   "cell_type": "code",
   "execution_count": 1,
   "metadata": {},
   "outputs": [],
   "source": [
    "# Autoreload packages in case they change.\n",
    "%load_ext autoreload\n",
    "%reload_ext autoreload"
   ]
  },
  {
   "cell_type": "code",
   "execution_count": 2,
   "metadata": {},
   "outputs": [],
   "source": [
    "%matplotlib inline\n",
    "import matplotlib.pyplot as plt\n",
    "import numpy as np\n",
    "import os\n",
    "import sys"
   ]
  },
  {
   "cell_type": "code",
   "execution_count": 3,
   "metadata": {},
   "outputs": [],
   "source": [
    "sys.path.insert(0,os.path.dirname(os.getcwd())) # add BlendingToolKit so we can import btk "
   ]
  },
  {
   "cell_type": "code",
   "execution_count": 4,
   "metadata": {},
   "outputs": [],
   "source": [
    "import btk\n",
    "import btk.plot_utils, btk.utils\n",
    "from btk.obs_conditions import Rubin\n",
    "from btk.create_observing_generator import ObservingGenerator\n",
    "from btk.create_blend_generator import BlendGenerator\n",
    "import astropy.table\n",
    "import inspect\n",
    "import descwl"
   ]
  },
  {
   "cell_type": "code",
   "execution_count": 5,
   "metadata": {},
   "outputs": [],
   "source": [
    "import sklearn"
   ]
  },
  {
   "cell_type": "code",
   "execution_count": 6,
   "metadata": {},
   "outputs": [],
   "source": [
    "import scarlet \n",
    "import scarlet.display"
   ]
  },
  {
   "cell_type": "markdown",
   "metadata": {},
   "source": [
    "## Utility functions "
   ]
  },
  {
   "cell_type": "code",
   "execution_count": 7,
   "metadata": {},
   "outputs": [],
   "source": [
    "def make_histograms(*vals, labels=None, loc='best'):\n",
    "    # make a histogram of each np.array in vals. \n",
    "    labels = labels if labels else [None]*len(vals)   \n",
    "    bins = np.histogram(np.hstack(vals), bins=40)[1]  #get the bin edges\n",
    "    for val, label in zip(vals, labels): \n",
    "        plt.hist(val, bins, label=label, histtype='step')\n",
    "    plt.legend(loc=loc)"
   ]
  },
  {
   "cell_type": "markdown",
   "metadata": {},
   "source": [
    "# Set Params "
   ]
  },
  {
   "cell_type": "markdown",
   "metadata": {},
   "source": [
    "In this first part we establish a set of parameters that we'll be using throughout the tutorial. You can think of them as user-defined global variables that are used throughout the simulations in BTK. \n",
    "These parameters will be fixed throughout this tutorial as well. \n",
    "\n",
    "Note that the `verbose` flag is turned off, in case you would like additional messages that show the functionality you can turn it on. "
   ]
  },
  {
   "cell_type": "code",
   "execution_count": 8,
   "metadata": {},
   "outputs": [],
   "source": [
    "catalog_name = os.path.join(os.path.dirname(os.getcwd()), 'data', 'sample_input_catalog.fits')\n",
    "max_number = 6 # Number of galaxies in a stamp\n",
    "batch_size = 2 # Number of stamps in a batch\n",
    "stamp_size = 24.0 # Size of the desired stamp, in arcsecs (default to 24.0)\n",
    "survey = Rubin\n",
    "\n",
    "np.random.seed(0)"
   ]
  },
  {
   "cell_type": "markdown",
   "metadata": {},
   "source": [
    "# Load Catalog"
   ]
  },
  {
   "cell_type": "markdown",
   "metadata": {},
   "source": [
    "Let's load the small catalog that we will be using. \n",
    "\n",
    "The file containing this catalog is defined in the `catalog_name` variable above."
   ]
  },
  {
   "cell_type": "code",
   "execution_count": null,
   "metadata": {},
   "outputs": [],
   "source": [
    "catalog = btk.catalog.WLDCatalog.from_file(catalog_name)\n",
    "catalog_full = catalog.get_raw_catalog()\n",
    "\n",
    "# as you can see this is just a astropy table. \n",
    "print(type(catalog_full))\n",
    "print(len(catalog_full))"
   ]
  },
  {
   "cell_type": "markdown",
   "metadata": {},
   "source": [
    "As you can see this catalog only contains 100 entries. "
   ]
  },
  {
   "cell_type": "code",
   "execution_count": null,
   "metadata": {},
   "outputs": [],
   "source": [
    "# display available columns\n",
    "catalog_full.colnames"
   ]
  },
  {
   "cell_type": "markdown",
   "metadata": {},
   "source": [
    "## Selection function "
   ]
  },
  {
   "cell_type": "markdown",
   "metadata": {},
   "source": [
    "One can optionally apply selection function at this step, there is the basic selection function already implemented inside BTK in `btk.utils` that we will use as an example: "
   ]
  },
  {
   "cell_type": "code",
   "execution_count": null,
   "metadata": {},
   "outputs": [],
   "source": [
    "# this function selects everything with i band mag < 27 and second moment size < 4 arcsecs \n",
    "print(inspect.getsource(btk.utils.basic_selection_function))"
   ]
  },
  {
   "cell_type": "markdown",
   "metadata": {},
   "source": [
    "As you can see in the function above, a `selection_function` simply takes in the catalog and \n",
    "returns a new (filtered) one. \n",
    "\n",
    "In the example below, we can see how the filtering of the `selection_function` reduced the number of objects."
   ]
  },
  {
   "cell_type": "code",
   "execution_count": null,
   "metadata": {},
   "outputs": [],
   "source": [
    "# After defining the function, you can use it like: \n",
    "catalog = btk.catalog.WLDCatalog.from_file(catalog_name)\n",
    "catalog.apply_selection_function(btk.utils.basic_selection_function)\n",
    "\n",
    "table = catalog.table\n",
    "\n",
    "len(table)"
   ]
  },
  {
   "cell_type": "markdown",
   "metadata": {},
   "source": [
    "## Histograms "
   ]
  },
  {
   "cell_type": "code",
   "execution_count": null,
   "metadata": {},
   "outputs": [],
   "source": [
    "# let's see if our selection function is making sense by doing some histograms with the provided utility function.\n",
    "labels = ['full', 'default_selection']\n",
    "make_histograms(catalog_full['ref_mag'], table['ref_mag'], labels=labels, loc=2)\n",
    "plt.xlabel('i_ab', size=18)"
   ]
  },
  {
   "cell_type": "markdown",
   "metadata": {},
   "source": [
    "# Create blend generator "
   ]
  },
  {
   "cell_type": "markdown",
   "metadata": {},
   "source": [
    "A `generator` is python jargon - it's a convenient data structure that only returns one object at a time. Never loading all of the objects into memory at once. \n",
    "\n",
    "`BTK` uses generators to create batches of images and corresponding parameters on the fly. We will now work on an example. \n",
    "\n",
    "A `blend_generator` uses a `SamplingFunction` object which defines how BTK generates and returns blends (groups of galaxies in a postage stamp that are considered 'blended' and that are drawn together). As you might expect, a `SamplingFunction` is required by BTK, but a default one can be used. Even though the `SamplingFunction` is not a true function, it can be called like one, hence its name."
   ]
  },
  {
   "cell_type": "code",
   "execution_count": null,
   "metadata": {},
   "outputs": [],
   "source": [
    "sampling_function = btk.sampling_functions.DefaultSampling(max_number,\n",
    "                                                           stamp_size) \n",
    "#blend_generator = btk.create_blend_generator.BlendGenerator(catalog, \n",
    "#                                                            sampling_function, \n",
    "#                                                            batch_size)"
   ]
  },
  {
   "cell_type": "markdown",
   "metadata": {},
   "source": [
    "Here is the `SamplingFunction` used:"
   ]
  },
  {
   "cell_type": "code",
   "execution_count": null,
   "metadata": {},
   "outputs": [],
   "source": [
    "print(inspect.getsource(btk.sampling_functions.DefaultSampling))"
   ]
  },
  {
   "cell_type": "markdown",
   "metadata": {},
   "source": [
    "The `SamplingFunction` should always be returning a `blend_catalog` from its `__call__` method, which is a (random) small subset from the catalog that defines a blend. In the example above, we are sampling a subset of size `number_of_objects` from the `catalog` after making a more stringent cut on i band magnitude and randomly shifting each galaxy from the center. "
   ]
  },
  {
   "cell_type": "code",
   "execution_count": null,
   "metadata": {},
   "outputs": [],
   "source": [
    "# to use the blend generator we use the 'next' python syntax\n",
    "blend_catalog = next(blend_generator)\n",
    "\n",
    "# blend catalog is a batch of list of astropy tables (# tables = batch_size)\n",
    "# tables same format as original astropy catalog table. \n",
    "# objects in each table is variable and depends on params settings. \n",
    "blend_catalog"
   ]
  },
  {
   "cell_type": "markdown",
   "metadata": {},
   "source": [
    "# Observing generator "
   ]
  },
  {
   "cell_type": "markdown",
   "metadata": {},
   "source": [
    "Now we turn to specifying the observational conditions for the blends created. Currently, the observing conditions are specified via the [WeakLensingDeblending](https://weaklensingdeblending.readthedocs.io/en/latest/) package (WLD), this package contains an object called `descwl.survey.Survey` that internally specifies observing conditions. Changeable parameters from the survey object include: \n",
    "\n",
    "- mirror_diameter\n",
    "- effective_area \n",
    "- pixel_scale \n",
    "- airmass\n",
    "- exposure_time\n",
    "- sky_brightness \n",
    "- zenith_psf_fwhm\n",
    "- zero_points\n",
    "- extinction \n",
    "\n",
    "The PSF used for both the optics in the atmosphere are either a Moffat or Kolmogorov model. For more details see the [source code](https://github.com/ismael2395/WeakLensingDeblending/blob/master/descwl/survey.py) of `descwl.survey`."
   ]
  },
  {
   "cell_type": "markdown",
   "metadata": {},
   "source": [
    "The default observing conditions function in BTK are just constant across batches and will always return the defaults in the WLD package. "
   ]
  },
  {
   "cell_type": "code",
   "execution_count": null,
   "metadata": {},
   "outputs": [],
   "source": [
    "print(inspect.getsource(btk.obs_conditions.WLDObsConditions))"
   ]
  },
  {
   "cell_type": "code",
   "execution_count": null,
   "metadata": {},
   "outputs": [],
   "source": [
    "observing_generator = ObservingGenerator(survey, stamp_size=stamp_size)\n",
    "# A None value for the obs_conditions create default conditions for each band, using WLDObsConditions(stamp_size=24)"
   ]
  },
  {
   "cell_type": "markdown",
   "metadata": {},
   "source": [
    "## Example of custom observing conditions "
   ]
  },
  {
   "cell_type": "markdown",
   "metadata": {},
   "source": [
    "Here is an example of a customized observing conditions function, different batches will have different observing conditions as they are produced. "
   ]
  },
  {
   "cell_type": "code",
   "execution_count": null,
   "metadata": {},
   "outputs": [],
   "source": [
    "class CustomObsConditions(btk.obs_conditions.WLDObsConditions):\n",
    "    def __init__(self,stamp_size=24):\n",
    "        \"\"\"Returns the default observing conditions from the WLD package\n",
    "        for a given survey_name and band.\n",
    "        \"\"\"\n",
    "        super().__init__(stamp_size)\n",
    "\n",
    "    def get_cutout_params(self, survey_name, band, pixel_scale):\n",
    "        # get default survey params\n",
    "        pix_stamp_size = int(self.stamp_size / pixel_scale)\n",
    "        cutout_params = descwl.survey.Survey.get_defaults(\n",
    "            survey_name=survey_name, filter_band=band\n",
    "        )\n",
    "        cutout_params[\"image_width\"] = pix_stamp_size\n",
    "        cutout_params[\"image_height\"] = pix_stamp_size\n",
    "        cutout_params['exposure_time'] = random.uniform(10, cutout_params['exposure_time'])\n",
    "        cutout_params['zenith_psf_fwhm'] += random.uniform(-0.3,0.3)\n",
    "\n",
    "\n",
    "        # Information for WCS\n",
    "        cutout_params[\"center_sky\"] = None\n",
    "        cutout_params[\"center_pix\"] = None\n",
    "        cutout_params[\"projection\"] = \"TAN\"\n",
    "\n",
    "        return cutout_params\n"
   ]
  },
  {
   "cell_type": "code",
   "execution_count": null,
   "metadata": {},
   "outputs": [],
   "source": [
    "# Here is how to use it: \n",
    "obs_conds = CustomObsConditions(stamp_size)\n",
    "observing_generator = ObservingGenerator(survey, \n",
    "                                         obs_conds=obs_conds,\n",
    "                                         stamp_size=stamp_size)"
   ]
  },
  {
   "cell_type": "markdown",
   "metadata": {},
   "source": [
    "We will use this custom observing condition to create images in the next part. "
   ]
  },
  {
   "cell_type": "markdown",
   "metadata": {},
   "source": [
    "# Draw blends"
   ]
  },
  {
   "cell_type": "markdown",
   "metadata": {},
   "source": [
    "## Setup"
   ]
  },
  {
   "cell_type": "markdown",
   "metadata": {},
   "source": [
    "Here I'm just gathering all the results from the previous sections in case you want to experiment quickly by changing one of the generators. \n",
    "\n",
    "Remember that all the `None` statements below can be replaced with your favorite customized function, but I just let them be `None` here for simplicity (uses `BTK` default as explained in the sections above).  "
   ]
  },
  {
   "cell_type": "code",
   "execution_count": 9,
   "metadata": {},
   "outputs": [],
   "source": [
    "# setup params and catalog \n",
    "catalog_name = os.path.join(os.path.dirname(os.getcwd()), \n",
    "                            'data', \n",
    "                            'sample_input_catalog.fits')\n",
    "catalog = btk.catalog.WLDCatalog.from_file(catalog_name)\n",
    "# blend_generator = BlendGenerator(catalog, \n",
    "#                                  btk.sampling_functions.DefaultSampling(), \n",
    "#                                  batch_size)\n",
    "# observing_generator = ObservingGenerator(survey, \n",
    "#                                          obs_conds=None, \n",
    "#                                          stamp_size=stamp_size)"
   ]
  },
  {
   "cell_type": "markdown",
   "metadata": {},
   "source": [
    "## Draw blend generator"
   ]
  },
  {
   "cell_type": "markdown",
   "metadata": {},
   "source": [
    "Now we get to play with some images :) We will put together all the generators we have built so far and create some images simulated with `galsim` by interfacing with the WLD package and BTK. \n",
    "\n",
    "We first need one more generator created from the other two generators: `draw_blend_generator`"
   ]
  },
  {
   "cell_type": "code",
   "execution_count": 10,
   "metadata": {},
   "outputs": [],
   "source": [
    "#Generate images of blends in all the observing bands\n",
    "draw_blend_generator = btk.draw_blends.WLDGenerator(catalog,\n",
    "                                                    btk.sampling_functions.DefaultSampling(),\n",
    "                                                    survey,\n",
    "                                                    batch_size=batch_size,\n",
    "                                                    stamp_size=stamp_size) "
   ]
  },
  {
   "cell_type": "code",
   "execution_count": 11,
   "metadata": {},
   "outputs": [
    {
     "name": "stdout",
     "output_type": "stream",
     "text": [
      "2\n",
      "2\n"
     ]
    }
   ],
   "source": [
    "# This cell generates new `batch_size` number of blends each time it's executed\n",
    "\n",
    "# Draw blend\n",
    "blend_results = next(draw_blend_generator)\n",
    "output = blend_results\n",
    "blend_images = output['blend_images']\n",
    "isolated_images = output['isolated_images']\n",
    "blend_list = output['blend_list']"
   ]
  },
  {
   "cell_type": "code",
   "execution_count": 12,
   "metadata": {},
   "outputs": [
    {
     "data": {
      "text/plain": [
       "dict_keys(['blend_images', 'isolated_images', 'blend_list', 'obs_condition'])"
      ]
     },
     "execution_count": 12,
     "metadata": {},
     "output_type": "execute_result"
    }
   ],
   "source": [
    "output.keys()"
   ]
  },
  {
   "cell_type": "markdown",
   "metadata": {},
   "source": [
    "Note the following: \n",
    "\n",
    "- Each time the function `next` is used on `draw_blend_generator` a fresh batch of data is simulated (based on your pre-specified `blend_generator` and `observing_generator`.\n",
    "\n",
    "- The output of the `draw_blend_generator` is a `dict` containing the following: \n",
    "\n",
    "    - `blend_images`: A `np.array` of shape `batch_size x stamp_size x stamp_size x n_bands`. This contains the actual postage stamps with the blends.\n",
    "                        \n",
    "    - `isolated_images`: A `np.array` of shape `batch_size x max_objects x stamp_size x stamp_size x n_bands`. This contains the images that were added together the create the `blend_images`.   \n",
    "    \n",
    "    - `blend_list`: A list of `astropy.Table`s containing the source catalog of each blend in the batch. \n",
    "    \n",
    "    - `obs_condition`: A list of `batch_size` of list of `n_bands` observing conditions  `n_bands` that is used for every element in the batch. \n",
    "    \n",
    "    - `wcs`: A list of `astropy.wcs.WCS` objects, which can be used to convert sky coordinates to pixel coordinates (and reverse)"
   ]
  },
  {
   "cell_type": "markdown",
   "metadata": {},
   "source": [
    "## Draw some blends!"
   ]
  },
  {
   "cell_type": "code",
   "execution_count": null,
   "metadata": {},
   "outputs": [],
   "source": [
    "# Plot blended images\n",
    "btk.plot_utils.plot_blends(blend_images, blend_list, limits=(30,90))\n",
    "\n",
    "#this also shows the true centers of the drawn galaxies with a red 'x'"
   ]
  },
  {
   "cell_type": "markdown",
   "metadata": {},
   "source": [
    "In case you would also like to see each individual source in the blend you can take a look at the `isolated_images` "
   ]
  },
  {
   "cell_type": "code",
   "execution_count": null,
   "metadata": {},
   "outputs": [],
   "source": [
    "# plot the first source in the first blend in the 'i' band. \n",
    "# mark its appropriate position manually from the blend list. \n",
    "im = plt.imshow(isolated_images[0][0][...,3])\n",
    "plt.scatter(blend_list[0][0]['dx'], blend_list[0][0]['dy'], marker='x', color='r')\n",
    "plt.colorbar(im)\n"
   ]
  },
  {
   "cell_type": "markdown",
   "metadata": {},
   "source": [
    "# Create Measure generator "
   ]
  },
  {
   "cell_type": "markdown",
   "metadata": {},
   "source": [
    "In this next part, we will see how we can combine the functionality of creating blends in BTK  with your favorite detection/deblending/measurement algorithms. \n",
    "\n",
    "For simplicity let's start by defining everything we did so far in one function. "
   ]
  },
  {
   "cell_type": "code",
   "execution_count": null,
   "metadata": {},
   "outputs": [],
   "source": [
    "def get_draw_blend_generator():\n",
    "    # Load parameters\n",
    "    #Input catalog name\n",
    "    catalog_name = os.path.join(os.path.dirname(os.getcwd()), 'data', 'sample_input_catalog.fits')\n",
    "    batch_size = 2\n",
    "    max_number = 5\n",
    "    survey_name = \"LSST\"\n",
    "    stamp_size = 24.0\n",
    "    np.random.seed(0)\n",
    "\n",
    "    #Load input catalog\n",
    "    catalog = btk.catalog.WLDCatalog.from_file(catalog_name)\n",
    "\n",
    "    #Generate catalogs of blended objects \n",
    "    blend_generator = btk.create_blend_generator.BlendGenerator(catalog,\n",
    "                                                                btk.sampling_functions.DefaultSampling(max_number,stamp_size),\n",
    "                                                                batch_size)\n",
    "\n",
    "    #Generates observing conditions for the selected survey_name and all input bands\n",
    "    observing_generator = btk.create_observing_generator.ObservingGenerator(survey,obs_conds=None, stamp_size=stamp_size)\n",
    "\n",
    "    #Generate images of blends in all the observing bands\n",
    "    draw_blend_generator = btk.draw_blends.WLDGenerator(blend_generator, observing_generator)\n",
    "    return draw_blend_generator"
   ]
  },
  {
   "cell_type": "code",
   "execution_count": null,
   "metadata": {},
   "outputs": [],
   "source": [
    "draw_blend_generator = get_draw_blend_generator()"
   ]
  },
  {
   "cell_type": "markdown",
   "metadata": {},
   "source": [
    "Measurement/Deblending in BTK is structured very similarly to the previous approaches: using a generator. The reason for this is that the measurement might produce additional images or data that is later summarized, so it makes sense to not store it all at once but rather aggregate at the end if desired. "
   ]
  },
  {
   "cell_type": "markdown",
   "metadata": {},
   "source": [
    "The functionality that a user needs to add to BTK in order to specify their own algorithm is summarized in a class `btk.measure.Measurement_params`. You need to implement at least one of two functions:\n",
    "\n",
    "- `make_measurement`: Given a dictionary `data` (`output` in the above section) return an astropy table with the measurements you made (fluxes, shapes, size, etc.) for each object in the blend. \n",
    "\n",
    "- `get_deblended_images`: Return output of deblending algorithm as dict. \n",
    "\n",
    "We will now walk through an example demonstration. "
   ]
  },
  {
   "cell_type": "markdown",
   "metadata": {},
   "source": [
    "Here is an example class to perform peak detection with sklearn that is copied from `btk.utils` :"
   ]
  },
  {
   "cell_type": "markdown",
   "metadata": {},
   "source": [
    "## Basic Detection algorithm "
   ]
  },
  {
   "cell_type": "code",
   "execution_count": null,
   "metadata": {},
   "outputs": [],
   "source": [
    "from btk.measure import Measurement_params\n",
    "class Basic_measure_params(Measurement_params):\n",
    "    \"\"\"Class to perform detection by identifying peaks with skimage\"\"\"\n",
    "\n",
    "    def get_centers(self, image):\n",
    "        # set detection threshold to 5 times std of image\n",
    "        threshold = 5 * np.std(image)\n",
    "        coordinates = skimage.feature.peak_local_max(image, min_distance=2,\n",
    "                                                     threshold_abs=threshold)\n",
    "        return np.stack((coordinates[:, 1], coordinates[:, 0]), axis=1)\n",
    "\n",
    "    def get_deblended_images(self, data, index):\n",
    "        \"\"\"Returns scarlet modeled blend and centers for the given blend\"\"\"\n",
    "        image = np.mean(data['blend_images'][index], axis=2)  # don't use multi-band information. \n",
    "        peaks = self.get_centers(image)\n",
    "        return {'deblend_image': None, 'peaks': peaks}"
   ]
  },
  {
   "cell_type": "code",
   "execution_count": null,
   "metadata": {},
   "outputs": [],
   "source": [
    "#this is how we specify the measurement params\n",
    "meas_params = btk.utils.Basic_measure_params()"
   ]
  },
  {
   "cell_type": "code",
   "execution_count": null,
   "metadata": {},
   "outputs": [],
   "source": [
    "# get generator that yields measured values by running the algorithm in the images from the draw_blend_generator. \n",
    "# you can also turn on multiprocessing in this step in case your algorithm is CPU intensive. \n",
    "meas_generator = btk.measure.MeasureGenerator(\n",
    "        meas_params, get_draw_blend_generator())"
   ]
  },
  {
   "cell_type": "code",
   "execution_count": null,
   "metadata": {},
   "outputs": [],
   "source": [
    "output, deb, _ = next(meas_generator)  # obtain simulation measurement output for this next batch. \n",
    "blend_list = output['blend_list']\n",
    "for i in range(len(blend_list)):\n",
    "    blend_images = output['blend_images'][i:i+1]\n",
    "    detected_centers = deb[i]['peaks']\n",
    "    true_centers = np.stack([blend_list[i]['dx'], blend_list[i]['dy']]).T\n",
    "    true_table = blend_list[i]\n",
    "    det_table = astropy.table.Table(detected_centers, names=('dx', 'dy'))\n",
    "    _, _, summary = btk.compute_metrics.evaluate_detection([true_table], [det_table], 0)\n",
    "    det, undet, spur = summary[0][1:4]\n",
    "    print(\"Out of %i objects, %i detected, %i undetected, & %i  spurious detections\"%(len(true_centers), det, undet, spur))\n",
    "    btk.plot_utils.plot_blends(blend_images, blend_list[i: i+1], [detected_centers],limits=(30,90))"
   ]
  },
  {
   "cell_type": "markdown",
   "metadata": {},
   "source": [
    "We can see how to basic `skimage` algorithm misses detection when the amount of blending is considerable. "
   ]
  },
  {
   "cell_type": "markdown",
   "metadata": {},
   "source": [
    "## Deblending with Scarlet "
   ]
  },
  {
   "cell_type": "markdown",
   "metadata": {},
   "source": [
    "There is already an implementation of Scarlet as `Measurement_params`, take a look in `utils.measure.Scarlet_params`. We will walk through it step by step in this section. "
   ]
  },
  {
   "cell_type": "code",
   "execution_count": null,
   "metadata": {},
   "outputs": [],
   "source": [
    "# get output from draw_blend_generator and let's look at the blends. \n",
    "output = next(get_draw_blend_generator())\n",
    "blend_images = output['blend_images']\n",
    "blend_list = output['blend_list']\n",
    "obs_conds = output['obs_condition']\n",
    "btk.plot_utils.plot_blends(blend_images, blend_list, limits=(30,90))"
   ]
  },
  {
   "cell_type": "markdown",
   "metadata": {},
   "source": [
    "Let's try to deblend the second image which has two galaxies that look somewhat blended. \n"
   ]
  },
  {
   "cell_type": "code",
   "execution_count": null,
   "metadata": {},
   "outputs": [],
   "source": [
    "catalog = blend_list[1] \n",
    "\n",
    "#make the order of the axis convention match that of scarlet \n",
    "images = np.transpose(blend_images[1], axes=(2,0,1))  # shape = (6, 120, 120 )\n",
    "\n",
    "bands = np.array([obs_cond.filter_band for obs_cond in obs_conds], dtype=str)\n",
    "\n",
    " # use the true peaks and organize them. \n",
    "peaks = np.stack((catalog['dx'], catalog['dy']), axis=1) "
   ]
  },
  {
   "cell_type": "markdown",
   "metadata": {},
   "source": [
    "First we define an utility function for obtaining the true PSF used to create the image. "
   ]
  },
  {
   "cell_type": "code",
   "execution_count": null,
   "metadata": {},
   "outputs": [],
   "source": [
    "from functools import partial \n",
    "\n",
    "def get_psf_sky(obs_cond, psf_stamp_size):\n",
    "    \"\"\"Returns postage stamp image of the PSF and mean background sky\n",
    "    level value saved in the input obs_cond class\n",
    "    Args:\n",
    "        obs_cond:`descwl.survey.Survey` class describing observing\n",
    "            conditions.\n",
    "        psf_stamp_size: Size of postage stamp to draw PSF on in pixels.\n",
    "    Returns:\n",
    "        `np.ndarray`: Postage stamp image of PSF\n",
    "        float: Mean of sky background\n",
    "\n",
    "    \"\"\"\n",
    "    mean_sky_level = obs_cond.mean_sky_level\n",
    "    psf = obs_cond.psf_model\n",
    "    psf_image = psf.drawImage(\n",
    "        scale=obs_cond.pixel_scale,\n",
    "        nx=psf_stamp_size,\n",
    "        ny=psf_stamp_size).array\n",
    "    return psf_image, mean_sky_level"
   ]
  },
  {
   "cell_type": "markdown",
   "metadata": {},
   "source": [
    "We now proceed to initialize scarlet, the following procedure is based heavily on the Scarlet tutorial which I recommend checking out: https://pmelchior.github.io/scarlet/0-quickstart.html"
   ]
  },
  {
   "cell_type": "code",
   "execution_count": null,
   "metadata": {},
   "outputs": [],
   "source": [
    "#create model psf. \n",
    "model_psf = scarlet.GaussianPSF(sigma=(0.8,)*len(bands))\n",
    "\n",
    "#create a frame for the model using the model_psf. \n",
    "model_frame = scarlet.Frame(\n",
    "    images.shape,\n",
    "    psfs=model_psf,\n",
    "    channels=bands)"
   ]
  },
  {
   "cell_type": "code",
   "execution_count": null,
   "metadata": {},
   "outputs": [],
   "source": [
    "# Now we need to do some setting up to define the observation. \n",
    "psf_stamp_size=41\n",
    "n_bands = len(bands)\n",
    "psfs = np.zeros((n_bands, psf_stamp_size, psf_stamp_size),\n",
    "                dtype=np.float32)\n",
    "variances = np.zeros_like(images)\n",
    "\n",
    "for i in range(n_bands): \n",
    "    psf, mean_sky_level = get_psf_sky(\n",
    "        obs_conds[i], psf_stamp_size)\n",
    "    psfs[i] = psf\n",
    "    variances[i] = images[i] + mean_sky_level\n"
   ]
  },
  {
   "cell_type": "code",
   "execution_count": null,
   "metadata": {},
   "outputs": [],
   "source": [
    "# observation frame based on the image. \n",
    "observation = scarlet.Observation(\n",
    "    images,\n",
    "    psfs=scarlet.ImagePSF(psfs),\n",
    "    weights=1. / variances,\n",
    "    channels=bands).match(model_frame)"
   ]
  },
  {
   "cell_type": "code",
   "execution_count": null,
   "metadata": {},
   "outputs": [],
   "source": [
    "#specify the fitting model using the true centers and some constraints. \n",
    "sources = []\n",
    "for n, peak in enumerate(peaks):\n",
    "    result = scarlet.ExtendedSource(\n",
    "        model_frame, (peak[1], peak[0]), observation, thresh=1, shifting=True)\n",
    "    sources.append(result)"
   ]
  },
  {
   "cell_type": "code",
   "execution_count": null,
   "metadata": {},
   "outputs": [],
   "source": [
    "# perform the fit of the blended sscene. \n",
    "iters=200\n",
    "blend = scarlet.Blend(sources, observation)\n",
    "%time it, logL = blend.fit(iters, e_rel=1e-6)\n",
    "print(f\"scarlet ran for {it} iterations to logL = {logL}\")\n",
    "scarlet.display.show_likelihood(blend)\n",
    "plt.show()"
   ]
  },
  {
   "cell_type": "code",
   "execution_count": null,
   "metadata": {},
   "outputs": [],
   "source": [
    "# use an btk internal plotting tool to get the visualization. \n",
    "btk.plot_utils.show_scarlet_residual(blend, observation, limits=(30,90))"
   ]
  },
  {
   "cell_type": "code",
   "execution_count": null,
   "metadata": {},
   "outputs": [],
   "source": [
    "# Looks pretty good :) "
   ]
  },
  {
   "cell_type": "markdown",
   "metadata": {},
   "source": [
    "In case you want to look at what this function is doing internally: "
   ]
  },
  {
   "cell_type": "code",
   "execution_count": null,
   "metadata": {},
   "outputs": [],
   "source": [
    "# get the model resulting form the fit and render it into the observationn frame\n",
    "# these resizes the model to the original image size. \n",
    "model = blend.get_model()\n",
    "model_ = observation.render(model)\n",
    "residual = images-model_\n",
    "\n",
    "# finally plot residual. \n",
    "plt.imshow(scarlet.display.img_to_rgb(residual))"
   ]
  },
  {
   "cell_type": "markdown",
   "metadata": {},
   "source": [
    "### Scarlet integration with BTK  "
   ]
  },
  {
   "cell_type": "markdown",
   "metadata": {},
   "source": [
    "`BTK` already has an implementation of Scarlet deblending where centers are obtained using `SEP`. So model might not be as good as the above depending on detection accuracy."
   ]
  },
  {
   "cell_type": "code",
   "execution_count": null,
   "metadata": {
    "jupyter": {
     "outputs_hidden": true
    }
   },
   "outputs": [],
   "source": [
    "meas_params = btk.utils.Scarlet_params(show_scene=True)\n",
    "meas_generator = btk.measure.MeasureGenerator(\n",
    "    meas_params, get_draw_blend_generator())\n",
    "output, deb,_ = next(meas_generator)\n",
    "blend_list = output['blend_list']\n",
    "blend_images = output['blend_images']\n",
    "deblend_images = [deb[i]['deblend_image'] for i in range(len(blend_list))]\n",
    "detected_centers = [deb[i]['peaks'] for i in range(len(blend_list))]\n",
    "\n",
    "# you would get a similar plot to the one above but you need SEP installed for this to work."
   ]
  },
  {
   "cell_type": "markdown",
   "metadata": {},
   "source": [
    "# Metrics"
   ]
  },
  {
   "cell_type": "markdown",
   "metadata": {},
   "source": [
    "Now let's show how use metrics to evaluate your deblenders robustly over several batches. \n",
    "\n",
    "For this example we will use the LSST Stack for detection. "
   ]
  },
  {
   "cell_type": "markdown",
   "metadata": {},
   "source": [
    "In BTK, evaluating the detection efficiency of your algorithm is as easy as creating a children from the parent class `btk.compute_metrics.Metrics_params` "
   ]
  },
  {
   "cell_type": "code",
   "execution_count": null,
   "metadata": {},
   "outputs": [],
   "source": [
    "def get_meas_generator(meas_params):\n",
    "    \"\"\"Returns generator that yields output of user defined algorithm specified in meas_param.    \n",
    "    Measurements are performed for default sampling function with maximum of 6 objects per blend.\n",
    "    \n",
    "    Returns:\n",
    "        meas_generator: Generator that yeilds output of deblender and measurement algorithm..\n",
    "    \"\"\"\n",
    "    # Load parameters\n",
    "    #Input catalog name\n",
    "    catalog_name = os.path.join(os.path.dirname(os.getcwd()), 'data', 'sample_input_catalog.fits')\n",
    "    batch_size = 2\n",
    "    max_number = 6\n",
    "    survey_name = \"LSST\"\n",
    "    stamp_size = 24.0\n",
    "    np.random.seed(0)\n",
    "\n",
    "    #Load input catalog\n",
    "    catalog = btk.catalog.WLDCatalog.from_file(catalog_name)\n",
    "\n",
    "    #Generate catalogs of blended objects \n",
    "    blend_generator = btk.create_blend_generator.BlendGenerator(catalog,btk.sampling_functions.DefaultSampling(max_number,stamp_size),batch_size)\n",
    "\n",
    "    #Generates observing conditions for the selected survey_name and all input bands\n",
    "    observing_generator = btk.create_observing_generator.ObservingGenerator(survey,stamp_size=stamp_size, obs_conds=None)\n",
    "\n",
    "    #Generate images of blends in all the observing bands\n",
    "    draw_blend_generator = btk.draw_blends.WLDGenerator(blend_generator, observing_generator)\n",
    "    # get generator that yields measured values.\n",
    "    meas_generator = btk.measure.MeasureGenerator(\n",
    "            meas_params, draw_blend_generator)\n",
    "    return meas_generator\n",
    "\n"
   ]
  },
  {
   "cell_type": "code",
   "execution_count": null,
   "metadata": {},
   "outputs": [],
   "source": [
    "import astropy.table\n",
    "class Stack_metric_params(btk.compute_metrics.Metrics_params):\n",
    "    def __init__(self, *args, **kwargs):\n",
    "        super(Stack_metric_params, self).__init__(*args, **kwargs)\n",
    "        \"\"\"Class describing functions to return results of\n",
    "         detection/deblending/measurement algorithm in meas_generator. Each\n",
    "         blend results yielded by the meas_generator for a batch.\n",
    "    \"\"\"\n",
    "\n",
    "    def get_detections(self):\n",
    "        \"\"\"Returns blend catalog and detection catalog for detction performed\n",
    "\n",
    "        Returns:\n",
    "            Results of the detection algorithm are returned as:\n",
    "                true_tables:  List of astropy Tables of the blend catalogs of the\n",
    "                    batch. Length of tables must be the batch size. x and y coordinate\n",
    "                    values must be under columns named 'dx' and 'dy' respectively, in\n",
    "                    pixels from bottom left corner as (0, 0).\n",
    "                detected_tables: List of astropy Tables of output from detection\n",
    "                    algorithm. Length of tables must be the batch size. x and y\n",
    "                    coordinate values must be under columns named 'dx' and 'dy'\n",
    "                    respectively, in pixels from bottom left corner as (0, 0).\n",
    "        \"\"\"\n",
    "        # Astropy table with entries corresponding to true sources\n",
    "        blend_op, _, cat = next(self.meas_generator)\n",
    "        true_tables = blend_op['blend_list']\n",
    "        detected_tables = []\n",
    "        for i in range(len(true_tables)):\n",
    "            detected_centers = np.stack([cat[i]['base_NaiveCentroid_x'], cat[i]['base_NaiveCentroid_y']], axis=1)\n",
    "            detected_table = astropy.table.Table(detected_centers,\n",
    "                                                 names=['dx', 'dy'])\n",
    "            detected_tables.append(detected_table)\n",
    "        return true_tables, detected_tables"
   ]
  },
  {
   "cell_type": "code",
   "execution_count": null,
   "metadata": {},
   "outputs": [],
   "source": [
    "# here we follow the same steps as before, and we specify the size of the test (how many batches)\n",
    "meas_param = btk.utils.Stack_params()\n",
    "meas_generator = get_meas_generator(meas_param)\n",
    "metric_param = Stack_metric_params(meas_generator=meas_generator, batch_size=batch_size)\n",
    "results = btk.compute_metrics.run(metric_param, test_size=10)\n",
    "true_table, detected_table, detection_summary = results['detection']"
   ]
  },
  {
   "cell_type": "code",
   "execution_count": null,
   "metadata": {},
   "outputs": [],
   "source": [
    "num = np.array(detection_summary).max()\n",
    "\n",
    "_, ax = plt.subplots(1,3,figsize=(15,5))\n",
    "plt.subplots_adjust(wspace=0.3, hspace=0.3)\n",
    "\n",
    "#match1\n",
    "det_summary = np.array(detection_summary)\n",
    "tot = np.sum(det_summary[:, 0])\n",
    "det = np.sum(det_summary[:, 1])\n",
    "spur = np.sum(det_summary[:, 3])\n",
    "print(\"match1\", \"precision: \", float(det/(det + spur)), \"recall: \", float(det/(tot)))\n",
    "btk.plot_utils.plot_metrics_summary(det_summary, num, ax=ax[0])\n",
    "ax[0].set_title('match1')\n",
    "    \n",
    "# match 2\n",
    "summ = np.array(detection_summary)\n",
    "det_summary = np.concatenate([summ[:, 0, np.newaxis], summ[:, 5:]], axis=1)\n",
    "tot = np.sum(det_summary[:, 0])\n",
    "det = np.sum(det_summary[:, 1])\n",
    "spur = np.sum(det_summary[:, 3])\n",
    "\n",
    "print(\"match2\", \"precision: \", float(det/(det + spur)), \"recall: \", float(det/(tot)))\n",
    "btk.plot_utils.plot_metrics_summary(det_summary, num, ax=ax[1])\n",
    "ax[1].set_title('match2')\n",
    "\n",
    "summ = np.array(detection_summary)\n",
    "det_summary = np.concatenate([summ[:, 0, np.newaxis], summ[:, 5:]], axis=1)\n",
    "det_summary[:, 1] += det_summary[:, 3] +det_summary[:, 4]\n",
    "btk.plot_utils.plot_metrics_summary(det_summary, num, ax=ax[2])\n",
    "ax[2].set_title('Blend')\n",
    "ax[2].set_ylabel('# detected objects')"
   ]
  },
  {
   "cell_type": "code",
   "execution_count": null,
   "metadata": {},
   "outputs": [],
   "source": []
  }
 ],
 "metadata": {
  "kernelspec": {
   "display_name": "APC",
   "language": "python",
   "name": "apc"
  },
  "language_info": {
   "codemirror_mode": {
    "name": "ipython",
    "version": 3
   },
   "file_extension": ".py",
   "mimetype": "text/x-python",
   "name": "python",
   "nbconvert_exporter": "python",
   "pygments_lexer": "ipython3",
   "version": "3.7.8"
  },
  "latex_envs": {
   "LaTeX_envs_menu_present": true,
   "autoclose": false,
   "autocomplete": true,
   "bibliofile": "biblio.bib",
   "cite_by": "apalike",
   "current_citInitial": 1,
   "eqLabelWithNumbers": true,
   "eqNumInitial": 1,
   "hotkeys": {
    "equation": "meta-shift-y"
   },
   "labels_anchors": false,
   "latex_user_defs": false,
   "report_style_numbering": false,
   "user_envs_cfg": false
  },
  "toc": {
   "base_numbering": 1,
   "nav_menu": {},
   "number_sections": false,
   "sideBar": true,
   "skip_h1_title": false,
   "title_cell": "Table of Contents",
   "title_sidebar": "Contents",
   "toc_cell": false,
   "toc_position": {
    "height": "811.111px",
    "left": "216px",
    "top": "257.052px",
    "width": "365.764px"
   },
   "toc_section_display": true,
   "toc_window_display": true
  },
  "toc-autonumbering": true,
  "toc-showcode": false,
  "toc-showmarkdowntxt": false,
  "toc-showtags": false
 },
 "nbformat": 4,
 "nbformat_minor": 4
}
