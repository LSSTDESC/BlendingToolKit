{
 "cells": [
  {
   "cell_type": "markdown",
   "metadata": {},
   "source": [
    "### Examples of how to use btk to asses detection algorithm performance \n",
    "This tutorial shows how to btk can produce metrics to asses the performance of a detection algorithm. Detected centroids are compared to true centers to ascertain if a source was detected or not. First, the on plane euclidean distance, d, between a true source and deteceted object is computed. If d is less than a certain criterion, we match a detected object to a true source. This source matching is done in two ways. \n",
    "1. if d < 5 pixels, then detection is matched to the source.\n",
    "2. if d/size < 0.5 where size is the PSF convolved sigma of the true source\n",
    "\n",
    "Detection metrics are computed for:\n",
    "1. SEP (Source Extractor in Python)\n",
    "2. DM Stack (LSST Science Pipeline)"
   ]
  },
  {
   "cell_type": "code",
   "execution_count": null,
   "metadata": {
    "jupyter": {
     "outputs_hidden": true
    }
   },
   "outputs": [],
   "source": [
    "%matplotlib inline\n",
    "import matplotlib.pyplot as plt\n",
    "import os\n",
    "import sys\n",
    "import numpy as np\n",
    "\n",
    "sys.path.insert(0,os.path.dirname(os.getcwd()))\n",
    "import btk\n",
    "import btk.config, btk.plot_utils"
   ]
  },
  {
   "cell_type": "markdown",
   "metadata": {
    "code_folding": [
     1,
     14,
     31,
     68,
     69,
     84,
     97,
     112
    ]
   },
   "source": [
    "Define a function that returns a `btk.measure generator` when input a class `meas_params`. `meas_params` contains functions that perform the detection. Defining this function here saves us the task of creating a new btk.draw_blends generator for each new detection algorithm we want to test, while also making sure we get the same dataset.\n",
    "\n",
    "Note: This function uses the One square Degree CatSim catalog as input. For more details on\n",
    "the input catalog refer [here](https://blendingtoolkit.readthedocs.io/en/latest/catalog.html)."
   ]
  },
  {
   "cell_type": "code",
   "execution_count": null,
   "metadata": {
    "code_folding": [
     1,
     14,
     31,
     68,
     69,
     84,
     97,
     112
    ],
    "jupyter": {
     "outputs_hidden": true
    }
   },
   "outputs": [],
   "source": [
    "def get_meas_generator(meas_params):\n",
    "    \"\"\"Returns generator that yields output of user defined algorithm specified in meas_param.    \n",
    "    Measurements are performed for default sampling function with maximum of 6 objects per blend.\n",
    "    \n",
    "    Returns:\n",
    "        meas_generator: Generator that yeilds output of deblender and measurement algorithm..\n",
    "    \"\"\"\n",
    "    # Load parameters\n",
    "    #Input catalog name\n",
    "    catalog_name = os.path.join(os.path.dirname(os.getcwd()), 'data', 'sample_input_catalog.fits')\n",
    "    param = btk.config.Simulation_params(catalog_name,batch_size=4, max_number=6 )\n",
    "    np.random.seed(param.seed)\n",
    "\n",
    "    #Load input catalog\n",
    "    catalog = btk.get_input_catalog.load_catalog(param)\n",
    "\n",
    "    #Generate catlogs of blended objects \n",
    "    blend_generator = btk.create_blend_generator.generate(param, catalog)\n",
    "\n",
    "    #Generates observing conditions for the selected survey_name and all input bands\n",
    "    observing_generator = btk.create_observing_generator.generate(param)\n",
    "    \n",
    "    np.random.seed(int(param.seed))\n",
    "    #Generate images of blends in all the observing bands\n",
    "    draw_blend_generator = btk.draw_blends.generate(param, blend_generator, observing_generator) \n",
    "    # get generator that yields measured values.\n",
    "    meas_generator = btk.measure.generate(\n",
    "            meas_params, draw_blend_generator, param)\n",
    "    return meas_generator, param\n",
    "\n"
   ]
  },
  {
   "cell_type": "markdown",
   "metadata": {},
   "source": [
    "## Finding peak with SEP (Source extractor in python)\n",
    "\n",
    "Note: This requires sep to have been installed\n",
    "\n",
    "We first show results of the detection method and the two matching algorithm for four difffernt blend images.\n"
   ]
  },
  {
   "cell_type": "code",
   "execution_count": null,
   "metadata": {
    "jupyter": {
     "outputs_hidden": true
    }
   },
   "outputs": [],
   "source": [
    "meas_param = btk.utils.SEP_params()\n",
    "meas_generator, param = get_meas_generator(meas_param)\n",
    "metric_param = btk.utils.Basic_metric_params(meas_generator=meas_generator, sim_param=param)\n",
    "results = btk.compute_metrics.run(metric_param, test_size=1)\n",
    "true_p, detected_p, blend_list_p = results['detection']"
   ]
  },
  {
   "cell_type": "code",
   "execution_count": null,
   "metadata": {},
   "outputs": [],
   "source": [
    "meas_params = btk.utils.Basic_measure_params()\n",
    "meas_generator, param = get_meas_generator(meas_param)\n",
    "output, deb, _ = next(meas_generator)\n",
    "blend_list = output['blend_list']\n",
    "figs = []\n",
    "count = 0\n",
    "for i in range(len(blend_list)):\n",
    "    blend_images = output['blend_images'][i:i+1]\n",
    "    detected_centers = deb[i]['peaks']\n",
    "    true_centers = np.stack([blend_list[i]['dx'], blend_list[i]['dy']]).T\n",
    "    blend_detected = detected_p[detected_p['blend_index']==i]\n",
    "    print(\"Using matching algorithm1\")\n",
    "    print(f\"Out of {blend_list_p[i][0]} true sources {blend_list_p[i][1]} were detected, \"\n",
    "          f\"{blend_list_p[i][2]} were undetected, with {blend_list_p[i][4]} being shredded,\")\n",
    "    print(f\"Out of {len(blend_detected)} detections, \"\n",
    "          f\"{len(blend_detected[blend_detected['match_true_id1']!=-1])} were matched, {blend_list_p[i][3]} were spurious\")\n",
    "    print(\"Using matching algorithm2\")\n",
    "    print(f\"Out of {blend_list_p[i][0]} true sources {blend_list_p[i][5]} were detected, \"\n",
    "          f\"{blend_list_p[i][6]} were undetected, with {blend_list_p[i][8]} being shredded,\")\n",
    "    print(f\"Out of {len(blend_detected)} detections, \"\n",
    "          f\"{len(blend_detected[blend_detected['match_true_id2']!=-1])} were matched, {blend_list_p[i][7]} were spurious\")\n",
    "    btk.plot_utils.plot_blends(blend_images, blend_list[i: i+1], [detected_centers],limits=(30,90))"
   ]
  },
  {
   "cell_type": "markdown",
   "metadata": {},
   "source": [
    "To numerically quantify the performance of a detection algorithm, we run `btk.compute_metrics` with a test size of 100 batches (100$\\times$4 blends).\n",
    "We then count the number of sources that were correctly detcted as a function of magnitude, size and distance to nearest neighbor. These cumulative plots are a function of the true parametrs of the source galaxies.\n",
    "\n",
    "We then make a summary matrix that shows the number of detections as a function of the number of sources in the blend. The detection here include spurious predictions.\n",
    "We make a similar plot again, but this time with only the correctly matched detections."
   ]
  },
  {
   "cell_type": "code",
   "execution_count": null,
   "metadata": {
    "jupyter": {
     "outputs_hidden": true
    }
   },
   "outputs": [],
   "source": [
    "meas_param = btk.utils.SEP_params()\n",
    "meas_generator, param = get_meas_generator(meas_param)\n",
    "metric_param = btk.utils.Basic_metric_params(meas_generator=meas_generator, sim_param=param)\n",
    "results = btk.compute_metrics.run(metric_param, test_size=100)\n",
    "true_table, detected_table, detection_summary = results['detection']"
   ]
  },
  {
   "cell_type": "code",
   "execution_count": null,
   "metadata": {},
   "outputs": [],
   "source": [
    "num = np.array(detection_summary).max()\n",
    "\n",
    "_, ax = plt.subplots(1,3,figsize=(15,5))\n",
    "plt.subplots_adjust(wspace=0.3, hspace=0.3)\n",
    "\n",
    "#match1\n",
    "det_summary = np.array(detection_summary)\n",
    "tot = np.sum(det_summary[:, 0])\n",
    "det = np.sum(det_summary[:, 1])\n",
    "spur = np.sum(det_summary[:, 3])\n",
    "print(\"match1\", \"precision: \", float(det/(det + spur)), \"recall: \", float(det/(tot)))\n",
    "btk.plot_utils.plot_metrics_summary(det_summary, num, ax=ax[0])\n",
    "ax[0].set_title('match1')\n",
    "    \n",
    "# match 2\n",
    "summ = np.array(detection_summary)\n",
    "det_summary = np.concatenate([summ[:, 0, np.newaxis], summ[:, 5:]], axis=1)\n",
    "tot = np.sum(det_summary[:, 0])\n",
    "det = np.sum(det_summary[:, 1])\n",
    "spur = np.sum(det_summary[:, 3])\n",
    "\n",
    "print(\"match2\", \"precision: \", float(det/(det + spur)), \"recall: \", float(det/(tot)))\n",
    "btk.plot_utils.plot_metrics_summary(det_summary, num, ax=ax[1])\n",
    "ax[1].set_title('match2')\n",
    "\n",
    "summ = np.array(detection_summary)\n",
    "det_summary = np.concatenate([summ[:, 0, np.newaxis], summ[:, 5:]], axis=1)\n",
    "det_summary[:, 1] += det_summary[:, 3] +det_summary[:, 4]\n",
    "btk.plot_utils.plot_metrics_summary(det_summary, num, ax=ax[2])\n",
    "ax[2].set_title('Blend')\n",
    "ax[2].set_ylabel('# detected objects')"
   ]
  },
  {
   "cell_type": "code",
   "execution_count": null,
   "metadata": {},
   "outputs": [],
   "source": [
    "_, axs = plt.subplots(1,3,figsize=(10,4))\n",
    "plt.subplots_adjust(wspace=0.5, hspace=0.)\n",
    "mag_bins = np.linspace(18, 30, 20)\n",
    "size_bins = np.linspace(0, 15, 20)\n",
    "dist_bins = np.linspace(0, 15, 20)\n",
    "# match1\n",
    "true_table['min_dist'][np.isinf(true_table['min_dist'])] =128\n",
    "q_detected, = np.where(true_table['num_detections1'] ==1)\n",
    "# Plot by magnitude    \n",
    "btk.plot_utils.plot_cumulative(true_table[q_detected], 'i_ab', axs[0],\n",
    "                           mag_bins, color='r', xlabel='i mag', label='match1')\n",
    "# Plot by size\n",
    "btk.plot_utils.plot_cumulative(true_table[q_detected], 'size', axs[1],\n",
    "                           size_bins, color='r', xlabel='size (pixels)', label='match1')\n",
    "# Plot by min dist to neighbor \n",
    "btk.plot_utils.plot_cumulative(true_table[q_detected], 'min_dist', axs[2],\n",
    "                           dist_bins, color='r', xlabel='nearsest neighbor (pixels)', label='match1')\n",
    "# match2\n",
    "true_table['min_dist'][np.isinf(true_table['min_dist'])] = 128\n",
    "q_detected, = np.where(true_table['num_detections2'] ==1)\n",
    "# Plot by magnitude    \n",
    "btk.plot_utils.plot_cumulative(true_table[q_detected], 'i_ab', axs[0],\n",
    "                           mag_bins, color='g', xlabel='i mag', label='match2')\n",
    "# Plot by size\n",
    "btk.plot_utils.plot_cumulative(true_table[q_detected], 'size', axs[1],\n",
    "                           size_bins, color='g', xlabel='size (pixels)', label='match2')\n",
    "# Plot by min dist to neighbor \n",
    "btk.plot_utils.plot_cumulative(true_table[q_detected], 'min_dist', axs[2],\n",
    "                           dist_bins, color='g', xlabel='nearsest neighbor (pixels)', label='match2')\n",
    "#true entries\n",
    "# Plot by magnitude    \n",
    "btk.plot_utils.plot_cumulative(true_table, 'i_ab', axs[0],\n",
    "                           mag_bins, color='blue', xlabel='i mag', label='true')\n",
    "# Plot by size\n",
    "btk.plot_utils.plot_cumulative(true_table, 'size', axs[1],\n",
    "                           size_bins, color='blue', xlabel='size (pixels)', label='true')\n",
    "# Plot by min dist to neighbor \n",
    "btk.plot_utils.plot_cumulative(true_table, 'min_dist', axs[2],\n",
    "                           dist_bins, color='blue', xlabel='nearsest neighbor (pixels)', label='true')\n",
    "axs[2].legend(bbox_to_anchor=(1.05, 1), loc=2, borderaxespad=0.)\n",
    "axs[0].set_title(\"Detected objects\")\n",
    "axs[1].set_title(\"Detected objects\")\n",
    "axs[2].set_title(\"Detected objects\")\n",
    "plt.show()\n",
    "\n"
   ]
  },
  {
   "cell_type": "markdown",
   "metadata": {},
   "source": [
    "## Detectection metrics for LSST Science Pipeline (stack)\n"
   ]
  },
  {
   "cell_type": "code",
   "execution_count": null,
   "metadata": {
    "jupyter": {
     "outputs_hidden": true
    }
   },
   "outputs": [],
   "source": [
    "import astropy.table\n",
    "class Stack_metric_params(btk.compute_metrics.Metrics_params):\n",
    "    def __init__(self, *args, **kwargs):\n",
    "        super(Stack_metric_params, self).__init__(*args, **kwargs)\n",
    "        \"\"\"Class describing functions to return results of\n",
    "         detection/deblending/measurement algorithm in meas_generator. Each\n",
    "         blend results yielded by the meas_generator for a batch.\n",
    "    \"\"\"\n",
    "\n",
    "    def get_detections(self):\n",
    "        \"\"\"Returns blend catalog and detection catalog for detction performed\n",
    "\n",
    "        Returns:\n",
    "            Results of the detection algorithm are returned as:\n",
    "                true_tables:  List of astropy Tables of the blend catalogs of the\n",
    "                    batch. Length of tables must be the batch size. x and y coordinate\n",
    "                    values must be under columns named 'dx' and 'dy' respectively, in\n",
    "                    pixels from bottom left corner as (0, 0).\n",
    "                detected_tables: List of astropy Tables of output from detection\n",
    "                    algorithm. Length of tables must be the batch size. x and y\n",
    "                    coordinate values must be under columns named 'dx' and 'dy'\n",
    "                    respectively, in pixels from bottom left corner as (0, 0).\n",
    "        \"\"\"\n",
    "        # Astropy table with entries corresponding to true sources\n",
    "        blend_op, _, cat = next(self.meas_generator)\n",
    "        true_tables = blend_op['blend_list']\n",
    "        detected_tables = []\n",
    "        for i in range(len(true_tables)):\n",
    "            detected_centers = np.stack([cat[i]['base_NaiveCentroid_x'], cat[i]['base_NaiveCentroid_y']], axis=1)\n",
    "            detected_table = astropy.table.Table(detected_centers,\n",
    "                                                 names=['dx', 'dy'])\n",
    "            detected_tables.append(detected_table)\n",
    "        return true_tables, detected_tables"
   ]
  },
  {
   "cell_type": "code",
   "execution_count": null,
   "metadata": {
    "jupyter": {
     "outputs_hidden": true
    }
   },
   "outputs": [],
   "source": [
    "meas_param = btk.utils.Stack_params()\n",
    "meas_generator, param = get_meas_generator(meas_param)\n",
    "metric_param = Stack_metric_params(meas_generator=meas_generator, sim_param=param)\n",
    "results = btk.compute_metrics.run(metric_param, test_size=100)\n",
    "true_table, detected_table, detection_summary = results['detection']\n"
   ]
  },
  {
   "cell_type": "code",
   "execution_count": null,
   "metadata": {},
   "outputs": [],
   "source": [
    "num = np.array(detection_summary).max()\n",
    "\n",
    "_, ax = plt.subplots(1,3,figsize=(15,5))\n",
    "plt.subplots_adjust(wspace=0.3, hspace=0.3)\n",
    "\n",
    "#match1\n",
    "det_summary = np.array(detection_summary)\n",
    "tot = np.sum(det_summary[:, 0])\n",
    "det = np.sum(det_summary[:, 1])\n",
    "spur = np.sum(det_summary[:, 3])\n",
    "print(\"match1\", \"precision: \", float(det/(det + spur)), \"recall: \", float(det/(tot)))\n",
    "btk.plot_utils.plot_metrics_summary(det_summary, num, ax=ax[0])\n",
    "ax[0].set_title('match1')\n",
    "    \n",
    "# match 2\n",
    "summ = np.array(detection_summary)\n",
    "det_summary = np.concatenate([summ[:, 0, np.newaxis], summ[:, 5:]], axis=1)\n",
    "tot = np.sum(det_summary[:, 0])\n",
    "det = np.sum(det_summary[:, 1])\n",
    "spur = np.sum(det_summary[:, 3])\n",
    "\n",
    "print(\"match2\", \"precision: \", float(det/(det + spur)), \"recall: \", float(det/(tot)))\n",
    "btk.plot_utils.plot_metrics_summary(det_summary, num, ax=ax[1])\n",
    "ax[1].set_title('match2')\n",
    "\n",
    "summ = np.array(detection_summary)\n",
    "det_summary = np.concatenate([summ[:, 0, np.newaxis], summ[:, 5:]], axis=1)\n",
    "det_summary[:, 1] += det_summary[:, 3] +det_summary[:, 4]\n",
    "btk.plot_utils.plot_metrics_summary(det_summary, num, ax=ax[2])\n",
    "ax[2].set_title('Blend')\n",
    "ax[2].set_ylabel('# detected objects')"
   ]
  },
  {
   "cell_type": "code",
   "execution_count": null,
   "metadata": {},
   "outputs": [],
   "source": [
    "_, axs = plt.subplots(1,3,figsize=(10,4))\n",
    "plt.subplots_adjust(wspace=0.5, hspace=0.)\n",
    "mag_bins = np.linspace(18, 30, 20)\n",
    "size_bins = np.linspace(0, 15, 20)\n",
    "dist_bins = np.linspace(0, 15, 20)\n",
    "# match1\n",
    "true_table['min_dist'][np.isinf(true_table['min_dist'])] =128\n",
    "q_detected, = np.where(true_table['num_detections1'] ==1)\n",
    "# Plot by magnitude    \n",
    "btk.plot_utils.plot_cumulative(true_table[q_detected], 'i_ab', axs[0],\n",
    "                           mag_bins, color='r', xlabel='i mag', label='match1')\n",
    "# Plot by size\n",
    "btk.plot_utils.plot_cumulative(true_table[q_detected], 'size', axs[1],\n",
    "                           size_bins, color='r', xlabel='size (pixels)', label='match1')\n",
    "# Plot by min dist to neighbor \n",
    "btk.plot_utils.plot_cumulative(true_table[q_detected], 'min_dist', axs[2],\n",
    "                           dist_bins, color='r', xlabel='nearsest neighbor (pixels)', label='match1')\n",
    "# match2\n",
    "true_table['min_dist'][np.isinf(true_table['min_dist'])] = 128\n",
    "q_detected, = np.where(true_table['num_detections2'] ==1)\n",
    "# Plot by magnitude    \n",
    "btk.plot_utils.plot_cumulative(true_table[q_detected], 'i_ab', axs[0],\n",
    "                           mag_bins, color='g', xlabel='i mag', label='match2')\n",
    "# Plot by size\n",
    "btk.plot_utils.plot_cumulative(true_table[q_detected], 'size', axs[1],\n",
    "                           size_bins, color='g', xlabel='size (pixels)', label='match2')\n",
    "# Plot by min dist to neighbor \n",
    "btk.plot_utils.plot_cumulative(true_table[q_detected], 'min_dist', axs[2],\n",
    "                           dist_bins, color='g', xlabel='nearsest neighbor (pixels)', label='match2')\n",
    "#true entries\n",
    "# Plot by magnitude    \n",
    "btk.plot_utils.plot_cumulative(true_table, 'i_ab', axs[0],\n",
    "                           mag_bins, color='blue', xlabel='i mag', label='true')\n",
    "# Plot by size\n",
    "btk.plot_utils.plot_cumulative(true_table, 'size', axs[1],\n",
    "                           size_bins, color='blue', xlabel='size (pixels)', label='true')\n",
    "# Plot by min dist to neighbor \n",
    "btk.plot_utils.plot_cumulative(true_table, 'min_dist', axs[2],\n",
    "                           dist_bins, color='blue', xlabel='nearsest neighbor (pixels)', label='true')\n",
    "axs[2].legend(bbox_to_anchor=(1.05, 1), loc=2, borderaxespad=0.)\n",
    "axs[0].set_title(\"Detected objects\")\n",
    "axs[1].set_title(\"Detected objects\")\n",
    "axs[2].set_title(\"Detected objects\")\n",
    "plt.show()\n",
    "\n"
   ]
  },
  {
   "cell_type": "code",
   "execution_count": null,
   "metadata": {
    "jupyter": {
     "outputs_hidden": true
    }
   },
   "outputs": [],
   "source": []
  }
 ],
 "metadata": {
  "kernelspec": {
   "display_name": "desc-stack",
   "language": "python",
   "name": "desc-stack"
  },
  "language_info": {
   "codemirror_mode": {
    "name": "ipython",
    "version": 3
   },
   "file_extension": ".py",
   "mimetype": "text/x-python",
   "name": "python",
   "nbconvert_exporter": "python",
   "pygments_lexer": "ipython3",
   "version": "3.7.2"
  },
  "toc-autonumbering": false,
  "toc-showcode": false,
  "toc-showmarkdowntxt": false,
  "varInspector": {
   "cols": {
    "lenName": 16,
    "lenType": 16,
    "lenVar": 40
   },
   "kernels_config": {
    "python": {
     "delete_cmd_postfix": "",
     "delete_cmd_prefix": "del ",
     "library": "var_list.py",
     "varRefreshCmd": "print(var_dic_list())"
    },
    "r": {
     "delete_cmd_postfix": ") ",
     "delete_cmd_prefix": "rm(",
     "library": "var_list.r",
     "varRefreshCmd": "cat(var_dic_list()) "
    }
   },
   "types_to_exclude": [
    "module",
    "function",
    "builtin_function_or_method",
    "instance",
    "_Feature"
   ],
   "window_display": false
  }
 },
 "nbformat": 4,
 "nbformat_minor": 4
}
