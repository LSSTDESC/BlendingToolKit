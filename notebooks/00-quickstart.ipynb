{
 "cells": [
  {
   "cell_type": "code",
   "execution_count": null,
   "metadata": {},
   "outputs": [
    {
     "name": "stdout",
     "output_type": "stream",
     "text": [
      "The autoreload extension is already loaded. To reload it, use:\n",
      "  %reload_ext autoreload\n"
     ]
    }
   ],
   "source": [
    "%load_ext autoreload\n",
    "%autoreload 2"
   ]
  },
  {
   "attachments": {},
   "cell_type": "markdown",
   "metadata": {},
   "source": [
    "# Intro"
   ]
  },
  {
   "attachments": {},
   "cell_type": "markdown",
   "metadata": {},
   "source": [
    "Welcome to the BlendingToolKit (BTK) quickstart! This tutorial will guide you through the basic functionalities of BTK. If you are new to BTK, we recommend you to go through this notebook before moving on to the other tutorials.\n",
    "\n",
    "We will show you how to generate a catalog of galaxy blends, draw images of these blends, use algorithms implemented within BTK to deblend these images, and finally use metrics within BTK to assess the performance of the deblender."
   ]
  },
  {
   "attachments": {},
   "cell_type": "markdown",
   "metadata": {},
   "source": [
    "# Setup\n",
    "\n",
    "First, we will need to import the relevant python packages and modules:"
   ]
  },
  {
   "cell_type": "code",
   "execution_count": null,
   "metadata": {},
   "outputs": [],
   "source": [
    "%matplotlib inline\n",
    "import numpy as np\n",
    "from tqdm import tqdm "
   ]
  },
  {
   "cell_type": "code",
   "execution_count": null,
   "metadata": {},
   "outputs": [],
   "source": [
    "import btk\n",
    "import btk.survey\n",
    "import btk.draw_blends\n",
    "import btk.catalog\n",
    "import btk.sampling_functions"
   ]
  },
  {
   "attachments": {},
   "cell_type": "markdown",
   "metadata": {},
   "source": [
    "# Drawing Blends"
   ]
  },
  {
   "attachments": {},
   "cell_type": "markdown",
   "metadata": {},
   "source": [
    "Before generating images of blends, we require some setup. \n",
    "\n",
    "**First**, we need to specify a catalog of galaxies to draw. We will use a subset of the CATSIM catalog, which contains `100` galaxies with realistic parameters.\n",
    "\n",
    "BTK uses a wrapper class (e.g. `btk.catalog.CatsimCatalog`) to store information about the galaxy catalog you pass in. You can easily import the CATSIM catalog from a FITS file using the `from_file` method as demonstrated here with our example catalog:"
   ]
  },
  {
   "cell_type": "code",
   "execution_count": null,
   "metadata": {},
   "outputs": [],
   "source": [
    "catalog_name = \"../data/input_catalog.fits\" # contains ~85k entries\n",
    "catalog = btk.catalog.CatsimCatalog.from_file(catalog_name)\n",
    "catalog.table[:5] # display 5 first entries of table containing the actual catalog information."
   ]
  },
  {
   "attachments": {},
   "cell_type": "markdown",
   "metadata": {},
   "source": [
    "**Second**, we require specifying a *sampling function*. The sampling function is a custom class within BTK that is used to determine which galaxies are drawn for each blend and what their locations within the blend should be. \n",
    "\n",
    "Specifically, we implement this functionality with the `SamplingFunction` class, which is a `callable` like a function. It takes as argument the astropy table contained within the `Catalog` object above, selects galaxies to be drawn in a given blend, and returns their (possibly modified) entries. Usually the `ra` and `dec` columns of these entries are modified to be relative to the center of the postage stamp containing the blend. \n",
    "\n",
    "For this tutorial, we will use the *default sampling function*, this function is implemented in the `btk.sampling_functions` module and is called `DefaultSampling`. This function draws a random number of galaxies from the catalog, uniformly distributed between 1 and `max_number`, and places them randomly within the postage stamp with some maximum shift `max_shift` w.r.t the center of the postage stamp.\n",
    "\n",
    "The `DefaultSampling` function can be instantiated as follows:"
   ]
  },
  {
   "cell_type": "code",
   "execution_count": null,
   "metadata": {},
   "outputs": [],
   "source": [
    "stamp_size = 24.0  # Size of the stamp, in arcseconds\n",
    "max_number = 3    # Maximum number of galaxies in a blend\n",
    "max_shift = 1.0    # Maximum shift of the galaxies, in arcseconds\n",
    "seed = 0 # random seed for reproducibility purposes # seed = 8\n",
    "sampling_function = btk.sampling_functions.DefaultSampling(\n",
    "    max_number=max_number, min_number=max_number,  # always get `max_number` galaxies\n",
    "    stamp_size=stamp_size, max_shift=max_shift, \n",
    "    min_mag = 24, max_mag = 25,\n",
    "    seed = seed)"
   ]
  },
  {
   "attachments": {},
   "cell_type": "markdown",
   "metadata": {},
   "source": [
    "Here is an example output of the `DefaultSampling` function:"
   ]
  },
  {
   "cell_type": "code",
   "execution_count": null,
   "metadata": {},
   "outputs": [],
   "source": [
    "blend_catalog = sampling_function(catalog.table)\n",
    "blend_catalog # ra and dec are now relative to the center of the blend (not the original ones)"
   ]
  },
  {
   "attachments": {},
   "cell_type": "markdown",
   "metadata": {},
   "source": [
    "**Third**, we need to specify a *survey*. This will determine the pixel scale, sky level, and PSF of the images we will draw. \n",
    "\n",
    "BTK relies on the [galcheat](https://github.com/aboucaud/galcheat) package, which contains several `galcheat.survey.Survey` instances, which store the parameters for different surveys (including LSST, HSC, HST COSMOS...). The parameters represent physical parameters of the survey (mirror size, pixel scale). Each survey also contains several `galcheat.filter.Filter` objects with the parameters specific to each filter (exposure time, zeropoint). \n",
    "\n",
    "In BTK, we use the `btk.survey.Survey` class to store the survey parameters. This class is a simple wrapper around the `galcheat.survey.Survey` class, and contains additional information such as the PSF model.\n",
    "\n",
    "For this tutorial, we will import the survey corresponding to LSST."
   ]
  },
  {
   "cell_type": "code",
   "execution_count": null,
   "metadata": {},
   "outputs": [],
   "source": [
    "LSST = btk.survey.get_surveys(\"LSST\")"
   ]
  },
  {
   "attachments": {},
   "cell_type": "markdown",
   "metadata": {},
   "source": [
    "You can see the parameters of the survey by printing the `Survey` object:"
   ]
  },
  {
   "cell_type": "code",
   "execution_count": null,
   "metadata": {},
   "outputs": [],
   "source": [
    "print(LSST)"
   ]
  },
  {
   "attachments": {},
   "cell_type": "markdown",
   "metadata": {},
   "source": [
    "**Finally**, now that we have finished our setup, we can create the `DrawBlendsGenerator`. This object is a python `generator`, meaning it can be called with `next(generator)` to generate a new batch of blend catalogs and images. \n",
    "\n",
    "The `DrawBlendsGenerator` takes as arguments the `Catalog` object, the `SamplingFunction` object, and the `Survey` object. It also takes a few other arguments, such as the number of images to draw per batch, the size of the postage stamps, and the number of galaxies to draw per blend."
   ]
  },
  {
   "cell_type": "code",
   "execution_count": null,
   "metadata": {},
   "outputs": [],
   "source": [
    "batch_size = 100\n",
    "\n",
    "draw_generator = btk.draw_blends.CatsimGenerator(\n",
    "    catalog,\n",
    "    sampling_function,\n",
    "    LSST,\n",
    "    batch_size=batch_size,\n",
    "    stamp_size=stamp_size,\n",
    "    njobs=1,\n",
    "    add_noise=\"all\",\n",
    "    seed=seed, # use same seed here\n",
    ")\n",
    "\n",
    "# generate batch 100 blend catalogs and images.\n",
    "blend_batch = next(draw_generator)"
   ]
  },
  {
   "attachments": {},
   "cell_type": "markdown",
   "metadata": {},
   "source": [
    "The output of the `DrawBlendsGenerator` is a class called `BlendBatch`, which contains the truth catalogs, simulated blends, and isolated images (among other metadata). \n",
    "\n",
    "For example to access the images of blends, we can use the following syntax:"
   ]
  },
  {
   "cell_type": "code",
   "execution_count": null,
   "metadata": {},
   "outputs": [],
   "source": [
    "blend_batch.blend_images.shape \n",
    "# shape = (batch_size, n_bands, stamp_size, stamp_size)"
   ]
  },
  {
   "attachments": {},
   "cell_type": "markdown",
   "metadata": {},
   "source": [
    "The truth catalogs are contained in the `catalog_list` object which is a list of catalogs, one per each blend in the batch. In total there are `batch_size` blends in the batch."
   ]
  },
  {
   "cell_type": "code",
   "execution_count": null,
   "metadata": {},
   "outputs": [],
   "source": [
    "blend_batch.catalog_list[0] \n",
    "# blend_list is a list of astropy tables, one for each blend in the batch."
   ]
  },
  {
   "attachments": {},
   "cell_type": "markdown",
   "metadata": {},
   "source": [
    "There is also additional information which you can inspect by printing the `BlendBatch` object. Specifically, the PSF and WCS. The PSF is a list of `galsim.GSObject` objects, one per filter, and the WCS is an astropy `WCS` object."
   ]
  },
  {
   "cell_type": "code",
   "execution_count": null,
   "metadata": {},
   "outputs": [],
   "source": [
    "blend_batch"
   ]
  },
  {
   "attachments": {},
   "cell_type": "markdown",
   "metadata": {},
   "source": [
    "We can proceed to display a given blend using `matplotlib`:"
   ]
  },
  {
   "cell_type": "code",
   "execution_count": null,
   "metadata": {},
   "outputs": [],
   "source": [
    "import matplotlib.pyplot as plt\n",
    "\n",
    "# plot the first blend in the batch, with the r-band\n",
    "plt.imshow(blend_batch.blend_images[0, 2, :, :], cmap=\"gray\")\n",
    "\n",
    "# plot centers\n",
    "plt.scatter(blend_batch.catalog_list[0][\"x_peak\"], \n",
    "            blend_batch.catalog_list[0][\"y_peak\"], c=\"r\", marker=\"x\")"
   ]
  },
  {
   "cell_type": "markdown",
   "metadata": {},
   "source": [
    "We can use the function from `astropy` to plot in RGB (see [documentation](https://docs.astropy.org/en/stable/api/astropy.visualization.make_lupton_rgb.html) here for more info):"
   ]
  },
  {
   "cell_type": "code",
   "execution_count": null,
   "metadata": {},
   "outputs": [],
   "source": [
    "from astropy.visualization import make_lupton_rgb\n",
    "\n",
    "im = blend_batch.blend_images[0]\n",
    "bands = [1, 2, 3] # g, r, i \n",
    "stretch = np.max(im) - np.min(im)\n",
    "Q = 0.1\n",
    "\n",
    "img_rgb = make_lupton_rgb(im[bands[0]], im[bands[1]], im[bands[2]], stretch=stretch, Q=Q)\n",
    "plt.imshow(img_rgb)"
   ]
  },
  {
   "cell_type": "markdown",
   "metadata": {},
   "source": [
    "Or our own BTK utility function which uses a linear stretch:"
   ]
  },
  {
   "cell_type": "code",
   "execution_count": null,
   "metadata": {},
   "outputs": [],
   "source": [
    "from btk.plotting import get_rgb\n",
    "\n",
    "rgb = get_rgb(im[bands])\n",
    "plt.imshow(rgb)"
   ]
  },
  {
   "attachments": {},
   "cell_type": "markdown",
   "metadata": {},
   "source": [
    "# Deblending"
   ]
  },
  {
   "attachments": {},
   "cell_type": "markdown",
   "metadata": {},
   "source": [
    "The next big part of BTK is the deblending. We will use the `Deblender` class to deblend the images we just drew. By 'deblending' we mean that we want to recover the individual galaxies that were blended together in the images. This includes recovering their positions, fluxes, and shapes.\n",
    "\n",
    "In this tutorial we will use the `SExtractor` deblender, which is implemented in the `btk.deblender` module. Specifically the class `SepSingleband` is a wrapper around the [SEP](https://sep.readthedocs.io/en/v1.1.x/) package, which is a python implementation of the [SExtractor](https://www.astromatic.net/software/sextractor) algorithm that performs detection on a single band.\n",
    "\n",
    "Here is how we create the `Deblender` object:"
   ]
  },
  {
   "cell_type": "code",
   "execution_count": null,
   "metadata": {},
   "outputs": [],
   "source": [
    "from btk.deblend import SepSingleBand"
   ]
  },
  {
   "cell_type": "code",
   "execution_count": null,
   "metadata": {},
   "outputs": [],
   "source": [
    "deblender = SepSingleBand(max_n_sources=3, # same as above\n",
    "                          thresh=3, # threshold pixel value for detection (see SEP docs)\n",
    "                          use_band=2 # measure on 'r' band\n",
    "                          )"
   ]
  },
  {
   "attachments": {},
   "cell_type": "markdown",
   "metadata": {},
   "source": [
    "You can use the `Deblender` object to deblend the images we drew earlier. The `Deblender` object takes as input the `BlendBatch` object, and returns a new `DeblenderBatch` object with the deblended images and/or catalogs."
   ]
  },
  {
   "cell_type": "code",
   "execution_count": null,
   "metadata": {},
   "outputs": [],
   "source": [
    "output = deblender.deblend(0, blend_batch) # deblend the first blend in the batch."
   ]
  },
  {
   "attachments": {},
   "cell_type": "markdown",
   "metadata": {},
   "source": [
    "Let's inspect the output which is a `DeblendedExample` object. The output contains at least a `catalog` attribute, which in this case contains the locations for the deblended objects in the first blend of the batch."
   ]
  },
  {
   "cell_type": "code",
   "execution_count": null,
   "metadata": {},
   "outputs": [],
   "source": [
    "print(output)"
   ]
  },
  {
   "cell_type": "code",
   "execution_count": null,
   "metadata": {},
   "outputs": [],
   "source": [
    "output.catalog"
   ]
  },
  {
   "attachments": {},
   "cell_type": "markdown",
   "metadata": {},
   "source": [
    "There is also an option to run the deblender on the full batch with the `__call__` method of any `Deblender` object. This method takes as input the `BlendBatch` object, and returns a new `DeblenderBatch` object with the deblended images and catalogs for each blend in the batch."
   ]
  },
  {
   "cell_type": "code",
   "execution_count": null,
   "metadata": {},
   "outputs": [],
   "source": [
    "deblend_batch = deblender(blend_batch, njobs=1) # deblend the whole batch"
   ]
  },
  {
   "attachments": {},
   "cell_type": "markdown",
   "metadata": {},
   "source": [
    "You can access them as attributes of the `DeblenderBatch` object:"
   ]
  },
  {
   "cell_type": "code",
   "execution_count": null,
   "metadata": {},
   "outputs": [],
   "source": [
    "deblend_batch.catalog_list[0] # predicted catalog for the first blend in the batch"
   ]
  },
  {
   "cell_type": "markdown",
   "metadata": {},
   "source": [
    "Let's compare the results from both the truth catalog and predicted catalog."
   ]
  },
  {
   "cell_type": "code",
   "execution_count": null,
   "metadata": {},
   "outputs": [],
   "source": [
    "import matplotlib.pyplot as plt\n",
    "\n",
    "# plot the first blend in the batch, with the r-band\n",
    "plt.imshow(blend_batch.blend_images[0, 2, :, :], cmap=\"gray\")\n",
    "\n",
    "# plot centers of truth\n",
    "plt.scatter(blend_batch.catalog_list[0][\"x_peak\"], blend_batch.catalog_list[0][\"y_peak\"], c=\"r\", marker=\"x\")\n",
    "\n",
    "# plot centers of prediction\n",
    "\n",
    "# need to use wcs to convert ra and dec to x and y\n",
    "ra, dec = deblend_batch.catalog_list[0][\"ra\"], deblend_batch.catalog_list[0][\"dec\"]\n",
    "x, y = blend_batch.wcs.world_to_pixel_values(ra / 3600, dec / 3600) # need to convert to arcseconds\n",
    "plt.scatter(x, y, c=\"b\", marker=\"+\", s=50)"
   ]
  },
  {
   "cell_type": "markdown",
   "metadata": {},
   "source": [
    "We can also inspect the deblended images and compare with the isolated ones. \n",
    "\n",
    "**Note:** Images do not necessarily line up in general as below, need to match (see next section)"
   ]
  },
  {
   "cell_type": "code",
   "execution_count": null,
   "metadata": {},
   "outputs": [],
   "source": [
    "# plot isolated images from truth \n",
    "fig, axes = plt.subplots(2, 3, figsize=(12, 8))\n",
    "\n",
    "clip = 40 # zoom into images\n",
    "\n",
    "true_images = blend_batch.isolated_images[0, :, 2, clip:-clip, clip:-clip]\n",
    "pred_images = deblend_batch.deblended_images[0, :, clip:-clip, clip:-clip] # only contains r-band\n",
    "\n",
    "# use global vmin and vmax\n",
    "vmin = 0\n",
    "vmax = 9000\n",
    "\n",
    "for ii in range(3):\n",
    "    ax = axes.flatten()[ii]\n",
    "    ax.imshow(blend_batch.isolated_images[0, ii, 2, clip:-clip, clip:-clip], cmap=\"gray\", \n",
    "              vmin=vmin, vmax=vmax)\n",
    "\n",
    "# plot isolated images from prediction\n",
    "for ii in range(3, 6):\n",
    "    ax = axes.flatten()[ii]\n",
    "    ax.imshow(deblend_batch.deblended_images[0, ii-3, 0, clip:-clip, clip:-clip], cmap=\"gray\", \n",
    "              vmin=vmin, vmax=vmax)\n",
    "\n",
    "# add colorbar\n",
    "fig.subplots_adjust(right=0.8)\n",
    "cbar_ax = fig.add_axes([0.85, 0.15, 0.05, 0.7])\n",
    "fig.colorbar(axes[0, 0].imshow(blend_batch.isolated_images[0, 0, 2, clip:-clip, clip:-clip], cmap=\"gray\", vmin=vmin, vmax=vmax), cax=cbar_ax)"
   ]
  },
  {
   "cell_type": "markdown",
   "metadata": {},
   "source": [
    "# Matching"
   ]
  },
  {
   "cell_type": "markdown",
   "metadata": {},
   "source": [
    "To be able to compare the predictions of each deblender to the truth or to other deblenders we need to match the predicted catalogs to the truth catalogs. This is done using the `Matcher` class.\n",
    "\n",
    "We have implemented several matching algorithms in the `btk.match` module. For this tutorial we will use the `PixelHungarianMatcher` matcher, which uses the Hungarian algorithm to perform the matching."
   ]
  },
  {
   "cell_type": "code",
   "execution_count": null,
   "metadata": {},
   "outputs": [],
   "source": [
    "from btk.match import PixelHungarianMatcher"
   ]
  },
  {
   "cell_type": "code",
   "execution_count": null,
   "metadata": {},
   "outputs": [],
   "source": [
    "matcher = PixelHungarianMatcher(pixel_max_sep=5.0 # maximum separation to consider match, in pixels\n",
    ")"
   ]
  },
  {
   "cell_type": "markdown",
   "metadata": {},
   "source": [
    "Before matching, we need to add pixel centroids to the catalogs of `deblend_batch`. As it currently only contains `ra` and `dec`. We can do it easily with the utility function `btk.utils.add_pixel_columns`:"
   ]
  },
  {
   "cell_type": "code",
   "execution_count": null,
   "metadata": {},
   "outputs": [],
   "source": [
    "deblend_batch.catalog_list[0].colnames # no x_peak, y_peak"
   ]
  },
  {
   "cell_type": "code",
   "execution_count": null,
   "metadata": {},
   "outputs": [],
   "source": [
    "from btk.utils import add_pixel_columns\n",
    "wcs = blend_batch.wcs\n",
    "add_pixel_columns(deblend_batch.catalog_list, wcs)\n",
    "deblend_batch.catalog_list[0].colnames # now has x_peak, y_peak"
   ]
  },
  {
   "cell_type": "code",
   "execution_count": null,
   "metadata": {},
   "outputs": [],
   "source": [
    "# matchers operate on `catalog_lists`, so we need to extract them from our batch classes. \n",
    "true_catalog_list = blend_batch.catalog_list\n",
    "pred_catalog_list = deblend_batch.catalog_list\n",
    "matching = matcher(true_catalog_list, pred_catalog_list) # matching object"
   ]
  },
  {
   "cell_type": "markdown",
   "metadata": {},
   "source": [
    "The matching object contains useful information (for a given batch...): "
   ]
  },
  {
   "cell_type": "code",
   "execution_count": null,
   "metadata": {},
   "outputs": [],
   "source": [
    "(matching.true_matches[0], # index of each true source that is matched with predicted \n",
    " matching.pred_matches[0], #index of each pred source that is matched with truth\n",
    "   matching.n_true[0],  # number of truth total\n",
    "   matching.n_pred[0],  # number of predicted total \n",
    "   matching.detected[0], # boolean array for each true source if it was matched or not, \n",
    "   matching.matched[0] # boolean array for each pred source if it was matched or not, \n",
    ")"
   ]
  },
  {
   "cell_type": "markdown",
   "metadata": {},
   "source": [
    "We can already do something useful, like compute average separation between matched predictions on the batch (in pixels)"
   ]
  },
  {
   "cell_type": "code",
   "execution_count": null,
   "metadata": {},
   "outputs": [],
   "source": [
    "# first we match the catalogs so that all objects between catalogs are aligned\n",
    "matched_true_catalogs = matching.match_true_catalogs(true_catalog_list)\n",
    "matched_pred_catalogs = matching.match_pred_catalogs(pred_catalog_list)"
   ]
  },
  {
   "cell_type": "code",
   "execution_count": null,
   "metadata": {},
   "outputs": [],
   "source": [
    "# now compute distances on each catalog and average\n",
    "dist = [] # list of distances between matched objects\n",
    "for true_cat, pred_cat in zip(matched_true_catalogs, matched_pred_catalogs):\n",
    "    if len(true_cat) == 0 or len(pred_cat) == 0:\n",
    "        continue\n",
    "    x1, y1 = true_cat['x_peak'], true_cat['y_peak']\n",
    "    x2, y2 = pred_cat['x_peak'], pred_cat['y_peak']\n",
    "    dist.append(np.sqrt( (x1-x2)**2 + (y1-y2)**2 ))\n",
    "# unpack list of distances into a single array\n",
    "dist = np.concatenate(dist)\n",
    "np.mean(dist)"
   ]
  },
  {
   "attachments": {},
   "cell_type": "markdown",
   "metadata": {},
   "source": [
    "# Metrics"
   ]
  },
  {
   "cell_type": "markdown",
   "metadata": {},
   "source": [
    "Now we show how to compute metrics, metrics in BTK are separated into three classes: **detection**, **segmentation**, and **reconstruction**. For this tutorial we will focus on computing 'recall', which is type of detection metric.\n",
    "\n",
    "Metrics in BTK are designed to work on batches, every time a new batch is computed the metric update its state to accumulate the results of each batch. Creating a metric object to start accumulating results is simple, just pass in the `batch_size`:"
   ]
  },
  {
   "cell_type": "markdown",
   "metadata": {},
   "source": [
    "## Detection"
   ]
  },
  {
   "cell_type": "code",
   "execution_count": null,
   "metadata": {},
   "outputs": [],
   "source": [
    "from btk.metrics.detection import Recall"
   ]
  },
  {
   "cell_type": "code",
   "execution_count": null,
   "metadata": {},
   "outputs": [],
   "source": [
    "recall = Recall(batch_size)"
   ]
  },
  {
   "cell_type": "markdown",
   "metadata": {},
   "source": [
    "The detection type metrics specifically take in two arrays `detected` and `matched`, which are boolean arrays indicating if a true and predicted object (respectively) were matched (see matching above). \n",
    "Let's compute precision for the `matching` object we computed above."
   ]
  },
  {
   "cell_type": "code",
   "execution_count": null,
   "metadata": {},
   "outputs": [],
   "source": [
    "detected = matching.detected\n",
    "matched = matching.matched\n",
    "\n",
    "recall(detected, matched)"
   ]
  },
  {
   "cell_type": "markdown",
   "metadata": {},
   "source": [
    "We can accumulate recalls over multiple batches to get a more accurate results (for our specific draw blend generator):"
   ]
  },
  {
   "cell_type": "code",
   "execution_count": null,
   "metadata": {},
   "outputs": [],
   "source": [
    "# get generator w/o bar for nicer output\n",
    "draw_generator = btk.draw_blends.CatsimGenerator(\n",
    "    catalog,\n",
    "    sampling_function,\n",
    "    LSST,\n",
    "    batch_size=batch_size,\n",
    "    stamp_size=stamp_size,\n",
    "    njobs=1,\n",
    "    add_noise=\"all\",\n",
    "    seed=seed, # use same seed here\n",
    "    use_bar=False\n",
    ")"
   ]
  },
  {
   "cell_type": "code",
   "execution_count": null,
   "metadata": {},
   "outputs": [],
   "source": [
    "n_batches = 10\n",
    "for n in tqdm(range(n_batches)):\n",
    "    blend_batch = next(draw_generator)\n",
    "    deblend_batch = deblender(blend_batch, njobs=1)\n",
    "    true_catalog_list = blend_batch.catalog_list\n",
    "    pred_catalog_list = deblend_batch.catalog_list\n",
    "    add_pixel_columns(deblend_batch.catalog_list, wcs)\n",
    "    matching = matcher(true_catalog_list, pred_catalog_list)\n",
    "    detected = matching.detected\n",
    "    matched = matching.matched\n",
    "    recall(detected, matched) # accumulate values internally"
   ]
  },
  {
   "cell_type": "markdown",
   "metadata": {},
   "source": [
    "Multiple metrics can be computed for each batch to save time. For simplicity, just focusing on one metric.\n",
    "\n",
    "Let's look at all the recall values obtained for each batch:"
   ]
  },
  {
   "cell_type": "code",
   "execution_count": null,
   "metadata": {},
   "outputs": [],
   "source": [
    "print(recall.values)"
   ]
  },
  {
   "cell_type": "markdown",
   "metadata": {},
   "source": [
    "And we can compute the aggragate, which for this metric is just the mean of the recall values: "
   ]
  },
  {
   "cell_type": "code",
   "execution_count": null,
   "metadata": {},
   "outputs": [],
   "source": [
    "recall.aggregate()"
   ]
  },
  {
   "cell_type": "markdown",
   "metadata": {},
   "source": [
    "## Reconstruction"
   ]
  },
  {
   "cell_type": "code",
   "execution_count": null,
   "metadata": {},
   "outputs": [],
   "source": [
    "from btk.metrics.reconstruction import MSE\n",
    "mse = MSE(batch_size)"
   ]
  },
  {
   "cell_type": "code",
   "execution_count": null,
   "metadata": {},
   "outputs": [],
   "source": [
    "# for reconstruction and segmentation, need to match first and then apply metric\n",
    "iso_images1 = blend_batch.isolated_images[:, :, 2] # only r-band\n",
    "iso_images2 = deblend_batch.deblended_images[:, :, 0] \n",
    "iso_images_matched1 = matching.match_true_arrays(iso_images1)\n",
    "iso_images_matched2 = matching.match_pred_arrays(iso_images2)"
   ]
  },
  {
   "cell_type": "code",
   "execution_count": null,
   "metadata": {},
   "outputs": [],
   "source": [
    "mse(iso_images_matched1, iso_images_matched2) # automatically accounts for empty arrays"
   ]
  },
  {
   "cell_type": "markdown",
   "metadata": {},
   "source": [
    "# Measurement"
   ]
  },
  {
   "cell_type": "markdown",
   "metadata": {},
   "source": [
    "Another useful quantity we can obtain are what in BTK we call 'measurements'. These are quantities that can be derived from galaxy images like aperture fluxes, ellipticities, or signal-to-noise ratio that might help you understand the performance of your algorithm.\n",
    "\n",
    "BTK provides functions to easily compute these quantities from batches. For example, for SNR we have a `get_snr` function. It takes in the `isolated_images` inside `blend_batch` and the `sky_level` or background that can be easily computed. "
   ]
  },
  {
   "cell_type": "code",
   "execution_count": null,
   "metadata": {},
   "outputs": [],
   "source": [
    "from galcheat.utilities import mean_sky_level\n",
    "from btk.measure import get_snr\n",
    "\n",
    "# we will continue using 'r' band\n",
    "sky_level = mean_sky_level(LSST, 'r').to_value('electron') # gain = 1\n",
    "iso_images = blend_batch.isolated_images[:,:, 2] # only r-band\n",
    "snr = get_snr(iso_images, sky_level)\n",
    "snr.shape # one for each source in each batch"
   ]
  },
  {
   "cell_type": "markdown",
   "metadata": {},
   "source": [
    "Histogram of SNRs for one batch: "
   ]
  },
  {
   "cell_type": "code",
   "execution_count": null,
   "metadata": {},
   "outputs": [],
   "source": [
    "plt.hist(snr.flatten(), histtype='step')"
   ]
  },
  {
   "cell_type": "markdown",
   "metadata": {},
   "source": [
    "We can also compare true ellipticity with deblended ellipticity (measured with KSB) easily for a single batch: "
   ]
  },
  {
   "cell_type": "code",
   "execution_count": null,
   "metadata": {},
   "outputs": [],
   "source": [
    "from btk.measure import get_ksb_ellipticity\n",
    "\n",
    "#obtaining images\n",
    "iso_images1 = blend_batch.isolated_images[:,:, 2] # only r-band\n",
    "psf_r =blend_batch.psf[2] # psf in r-band\n",
    "iso_images2 = deblend_batch.deblended_images[:, :, 0] # select band\n",
    "\n",
    "#matching\n",
    "iso_images_matched1 = matching.match_true_arrays(iso_images1)\n",
    "iso_images_matched2 = matching.match_pred_arrays(iso_images2)\n",
    "\n",
    "#compute ellipticity\n",
    "ellips1 = get_ksb_ellipticity(iso_images_matched1, psf_r, pixel_scale=0.2)\n",
    "\n",
    "# NOTE: assumed deblended images are psf convolved with same psf\n",
    "ellips2 = get_ksb_ellipticity(iso_images_matched2, psf_r, pixel_scale=0.2) \n",
    "\n",
    "\n",
    "# mask nan's (non-matches), look at first component only\n",
    "e11 = ellips1[:, :, 0].flatten()\n",
    "e12 = ellips2[:, :, 0].flatten()\n",
    "\n",
    "mask = (~np.isnan(e12)) & (np.abs(e12) < 1) & (~np.isnan(e11))\n",
    "e11 = e11[mask]\n",
    "e12 = e12[mask]"
   ]
  },
  {
   "cell_type": "code",
   "execution_count": null,
   "metadata": {},
   "outputs": [],
   "source": [
    "# look at first component \n",
    "plt.scatter(e11, e12)\n",
    "plt.plot([-1, 1], [-1, 1])"
   ]
  },
  {
   "cell_type": "code",
   "execution_count": null,
   "metadata": {},
   "outputs": [],
   "source": []
  }
 ],
 "metadata": {
  "kernelspec": {
   "display_name": "Python 3 (ipykernel)",
   "language": "python",
   "name": "python3"
  },
  "language_info": {
   "codemirror_mode": {
    "name": "ipython",
    "version": 3
   },
   "file_extension": ".py",
   "mimetype": "text/x-python",
   "name": "python",
   "nbconvert_exporter": "python",
   "pygments_lexer": "ipython3",
   "version": "3.10.11"
  },
  "latex_envs": {
   "LaTeX_envs_menu_present": true,
   "autoclose": false,
   "autocomplete": true,
   "bibliofile": "biblio.bib",
   "cite_by": "apalike",
   "current_citInitial": 1,
   "eqLabelWithNumbers": true,
   "eqNumInitial": 1,
   "hotkeys": {
    "equation": "meta-shift-y"
   },
   "labels_anchors": false,
   "latex_user_defs": false,
   "report_style_numbering": false,
   "user_envs_cfg": false
  },
  "toc": {
   "base_numbering": 1,
   "nav_menu": {},
   "number_sections": true,
   "sideBar": true,
   "skip_h1_title": false,
   "title_cell": "Table of Contents",
   "title_sidebar": "Contents",
   "toc_cell": false,
   "toc_position": {
    "height": "811.109375px",
    "left": "34px",
    "top": "110px",
    "width": "168.75px"
   },
   "toc_section_display": true,
   "toc_window_display": true
  },
  "toc-autonumbering": true,
  "toc-showcode": false,
  "toc-showmarkdowntxt": false,
  "toc-showtags": false,
  "vscode": {
   "interpreter": {
    "hash": "4040519260ba97c108b36f33e606617285580ee3cc88f560d6aaa311d215a2db"
   }
  }
 },
 "nbformat": 4,
 "nbformat_minor": 4
}
