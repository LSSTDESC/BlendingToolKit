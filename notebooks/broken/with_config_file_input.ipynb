{
 "cells": [
  {
   "cell_type": "markdown",
   "metadata": {},
   "source": [
    "This notebook shows how to run btk with an input config yaml file. The config file contains information on how to simulate the blend scene, which detection/deblending/measurement algorithm to run and where to save the outputs. An end-to-end analysis is performed; from image simulation to saving the measurement output to file. The input yaml config file is parsed by `btk_input.py` which then runs btk with the defined parameters. \n",
    "To perform comparative analysis across different algorithms: \n",
    "\n",
    "1. Make a copy of the config file `..btk/btk-config.yaml`\n",
    "2. Modify entries under `user_input:` to run your desired detection algorithm. `measure_function` and `metrics_function` must be either None (to select Default) or should be classes defined in `utils_filename`.\n",
    "\n",
    "The detection and metric outputs will be saved inside \"output_dir/output_name\". The simulation parameters in `..btk/btk-config.yaml` must remain the same when comparing algorithms."
   ]
  },
  {
   "cell_type": "markdown",
   "metadata": {},
   "source": [
    "For this example however, we use an input config file `../input/example-config.yaml`, which runs btk end-to-end from image simulation to analysis, for 100 blend scenes. \n",
    "The config values are:\n",
    "\n",
    "```\n",
    "user_input:\n",
    "    # Enter location to load dataset from (relative to where you open the yaml file)\n",
    "    data_dir: data\n",
    "    # Enter location where btk test output should be saved\n",
    "    output_dir: example-output\n",
    "    # Enter file name containing user function to perform detection/deblending/measurement\n",
    "    utils_filename: # If None, use btk/utils.py\n",
    "    output_name: trial  # btk output will be saved in a directory with this name inside output_dir\n",
    "    # Enter name of functions to perform detection/deblending/measurement.\n",
    "    utils_input:\n",
    "        measure_function: SEP_params\n",
    "        metrics_function: None\n",
    "```\n",
    "The config directs btk to perform detections with SEP band-coadd images by specifying `measure_function: SEP_params` defined in `btk.utils`. The config entry `metrics_function: None`, specifies that the `Basic_measure_params` in `btk.utils` computes the detection metrics."
   ]
  },
  {
   "cell_type": "code",
   "execution_count": null,
   "metadata": {},
   "outputs": [],
   "source": [
    "%matplotlib inline\n",
    "import matplotlib.pyplot as plt\n",
    "import numpy as np\n",
    "import os\n",
    "import sys\n",
    "sys.path.insert(0,os.path.dirname(os.getcwd()))\n",
    "import btk\n",
    "import btk.plot_utils, btk.utils\n",
    "import astropy.table\n",
    "import dill"
   ]
  },
  {
   "cell_type": "markdown",
   "metadata": {},
   "source": [
    "The config file contains parameters for three types of simulations:\n",
    "1. Two-galaxy blend created randomly from CatSim galaxies\n",
    "2. Up to 10 galaxy blends created randomly from CatSim galaxies\n",
    "3. Blends as galaxy \"groups\" from a pre-processed wld output"
   ]
  },
  {
   "cell_type": "markdown",
   "metadata": {},
   "source": [
    "## 1. Two-galaxy blend created randomly from CatSim galaxies"
   ]
  },
  {
   "cell_type": "markdown",
   "metadata": {},
   "source": [
    "`btk_input.py` input arg `--two_gal` simulates galaxy blends using the `btk.utils.default_sampling` function with maximum of 2 sources per blend. The yaml config file is input with the `--configfile` arg. The class name with functions on how to run the detection algorithm is input with `utils_input.measure_function`. The class that processes output from the detection algorithm and computes metrics is input with `utils_input.metrics_function`"
   ]
  },
  {
   "cell_type": "code",
   "execution_count": null,
   "metadata": {},
   "outputs": [],
   "source": [
    "# The following command runs SEP detection and metrics computation with `two-gal` simulation.\n",
    "\n",
    "!python3 ../btk_input.py --simulation two_gal --configfile ../input/example-config.yaml"
   ]
  },
  {
   "cell_type": "code",
   "execution_count": null,
   "metadata": {},
   "outputs": [],
   "source": [
    "!ls example-output/trial"
   ]
  },
  {
   "cell_type": "markdown",
   "metadata": {},
   "source": [
    "Simulation, input user config values saved as \"two_gal_config.yaml\". Blend images, detection results and metrics computed saved in \"two_gal_metrics_results.dill\""
   ]
  },
  {
   "cell_type": "code",
   "execution_count": null,
   "metadata": {},
   "outputs": [],
   "source": [
    "filename = 'example-output/trial/two_gal_metrics_results.dill'\n",
    "with open(filename, 'rb') as handle:\n",
    "    results= dill.load(handle)\n",
    "\n",
    "true_table, detected_table, detection_summary = results['detection']"
   ]
  },
  {
   "cell_type": "code",
   "execution_count": null,
   "metadata": {},
   "outputs": [],
   "source": [
    "num = np.array(detection_summary).max()\n",
    "\n",
    "_, ax = plt.subplots(1,3,figsize=(15,5))\n",
    "plt.subplots_adjust(wspace=0.3, hspace=0.3)\n",
    "\n",
    "#match1\n",
    "det_summary = np.array(detection_summary)\n",
    "tot = np.sum(det_summary[:, 0])\n",
    "det = np.sum(det_summary[:, 1])\n",
    "spur = np.sum(det_summary[:, 3])\n",
    "print(\"match1\", \"precision: \", float(det/(det + spur)), \"recall: \", float(det/(tot)))\n",
    "btk.plot_utils.plot_metrics_summary(det_summary, num, ax=ax[0])\n",
    "ax[0].set_title('match1')\n",
    "    \n",
    "# match 2\n",
    "summ = np.array(detection_summary)\n",
    "det_summary = np.concatenate([summ[:, 0, np.newaxis], summ[:, 5:]], axis=1)\n",
    "tot = np.sum(det_summary[:, 0])\n",
    "det = np.sum(det_summary[:, 1])\n",
    "spur = np.sum(det_summary[:, 3])\n",
    "\n",
    "print(\"match2\", \"precision: \", float(det/(det + spur)), \"recall: \", float(det/(tot)))\n",
    "btk.plot_utils.plot_metrics_summary(det_summary, num, ax=ax[1])\n",
    "ax[1].set_title('match2')\n",
    "\n",
    "summ = np.array(detection_summary)\n",
    "det_summary = np.concatenate([summ[:, 0, np.newaxis], summ[:, 5:]], axis=1)\n",
    "det_summary[:, 1] += det_summary[:, 3] +det_summary[:, 4]\n",
    "btk.plot_utils.plot_metrics_summary(det_summary, num, ax=ax[2])\n",
    "ax[2].set_title('Blend')\n",
    "ax[2].set_ylabel('# detected objects')"
   ]
  },
  {
   "cell_type": "code",
   "execution_count": null,
   "metadata": {},
   "outputs": [],
   "source": [
    "_, axs = plt.subplots(1,3,figsize=(10,4))\n",
    "plt.subplots_adjust(wspace=0.5, hspace=0.)\n",
    "mag_bins = np.linspace(18, 30, 20)\n",
    "size_bins = np.linspace(0, 15, 20)\n",
    "dist_bins = np.linspace(0, 15, 20)\n",
    "# match1\n",
    "true_table['min_dist'][np.isinf(true_table['min_dist'])] =128\n",
    "q_detected, = np.where(true_table['num_detections1'] ==1)\n",
    "# Plot by magnitude    \n",
    "btk.plot_utils.plot_cumulative(true_table[q_detected], 'i_ab', axs[0],\n",
    "                           mag_bins, color='r', xlabel='i mag', label='match1')\n",
    "# Plot by size\n",
    "btk.plot_utils.plot_cumulative(true_table[q_detected], 'size', axs[1],\n",
    "                           size_bins, color='r', xlabel='size (pixels)', label='match1')\n",
    "# Plot by min dist to neighbor \n",
    "btk.plot_utils.plot_cumulative(true_table[q_detected], 'min_dist', axs[2],\n",
    "                           dist_bins, color='r', xlabel='nearsest neighbor (pixels)', label='match1')\n",
    "# match2\n",
    "true_table['min_dist'][np.isinf(true_table['min_dist'])] = 128\n",
    "q_detected, = np.where(true_table['num_detections2'] ==1)\n",
    "# Plot by magnitude    \n",
    "btk.plot_utils.plot_cumulative(true_table[q_detected], 'i_ab', axs[0],\n",
    "                           mag_bins, color='g', xlabel='i mag', label='match2')\n",
    "# Plot by size\n",
    "btk.plot_utils.plot_cumulative(true_table[q_detected], 'size', axs[1],\n",
    "                           size_bins, color='g', xlabel='size (pixels)', label='match2')\n",
    "# Plot by min dist to neighbor \n",
    "btk.plot_utils.plot_cumulative(true_table[q_detected], 'min_dist', axs[2],\n",
    "                           dist_bins, color='g', xlabel='nearsest neighbor (pixels)', label='match2')\n",
    "#true entries\n",
    "# Plot by magnitude    \n",
    "btk.plot_utils.plot_cumulative(true_table, 'i_ab', axs[0],\n",
    "                           mag_bins, color='blue', xlabel='i mag', label='true')\n",
    "# Plot by size\n",
    "btk.plot_utils.plot_cumulative(true_table, 'size', axs[1],\n",
    "                           size_bins, color='blue', xlabel='size (pixels)', label='true')\n",
    "# Plot by min dist to neighbor \n",
    "btk.plot_utils.plot_cumulative(true_table, 'min_dist', axs[2],\n",
    "                           dist_bins, color='blue', xlabel='nearsest neighbor (pixels)', label='true')\n",
    "axs[2].legend(bbox_to_anchor=(1.05, 1), loc=2, borderaxespad=0.)\n",
    "axs[0].set_title(\"Detected objects\")\n",
    "axs[1].set_title(\"Detected objects\")\n",
    "axs[2].set_title(\"Detected objects\")\n",
    "plt.show()"
   ]
  },
  {
   "cell_type": "markdown",
   "metadata": {},
   "source": [
    "Similarly, detectection metrics can be computed for two other simultion parametrs "
   ]
  },
  {
   "cell_type": "markdown",
   "metadata": {},
   "source": [
    "## 2. Upto 10 galaxy blends created randomly from CatSim galaxies"
   ]
  },
  {
   "cell_type": "markdown",
   "metadata": {},
   "source": [
    "`btk_input.py` input arg `--multi_gal` simulates galaxy blends using the `btk.utils.default_sampling` function with maximum of 10 galaxies per blend."
   ]
  },
  {
   "cell_type": "code",
   "execution_count": null,
   "metadata": {},
   "outputs": [],
   "source": [
    "!python3 ../btk_input.py --simulation multi_gal --configfile ../input/example-config.yaml"
   ]
  },
  {
   "cell_type": "markdown",
   "metadata": {},
   "source": [
    "## 3. Blends as galaxy \"groups\" from a pre-processed wld output"
   ]
  },
  {
   "cell_type": "code",
   "execution_count": null,
   "metadata": {},
   "outputs": [],
   "source": [
    "!python3 ../btk_input.py --simulation group --configfile ../input/example-config.yaml"
   ]
  },
  {
   "cell_type": "markdown",
   "metadata": {},
   "source": [
    "`btk_input.py` input arg `--multi_gal` simulates galaxy blends using the `btk.utils.group_sampling_function` function with maximum of 6 galaxies per blend."
   ]
  },
  {
   "cell_type": "markdown",
   "metadata": {},
   "source": [
    "If `/btk_input.py` is run with input arg `--simulation all` then all three simulations, two-gal, multi-gal,and group are run sequentially."
   ]
  }
 ],
 "metadata": {
  "kernelspec": {
   "display_name": "Python 3",
   "language": "python",
   "name": "python3"
  },
  "language_info": {
   "codemirror_mode": {
    "name": "ipython",
    "version": 3
   },
   "file_extension": ".py",
   "mimetype": "text/x-python",
   "name": "python",
   "nbconvert_exporter": "python",
   "pygments_lexer": "ipython3",
   "version": "3.7.1"
  },
  "varInspector": {
   "cols": {
    "lenName": 16,
    "lenType": 16,
    "lenVar": 40
   },
   "kernels_config": {
    "python": {
     "delete_cmd_postfix": "",
     "delete_cmd_prefix": "del ",
     "library": "var_list.py",
     "varRefreshCmd": "print(var_dic_list())"
    },
    "r": {
     "delete_cmd_postfix": ") ",
     "delete_cmd_prefix": "rm(",
     "library": "var_list.r",
     "varRefreshCmd": "cat(var_dic_list()) "
    }
   },
   "types_to_exclude": [
    "module",
    "function",
    "builtin_function_or_method",
    "instance",
    "_Feature"
   ],
   "window_display": false
  }
 },
 "nbformat": 4,
 "nbformat_minor": 4
}
