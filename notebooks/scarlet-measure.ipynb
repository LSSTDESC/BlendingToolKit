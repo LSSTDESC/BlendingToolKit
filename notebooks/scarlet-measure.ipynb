{
 "cells": [
  {
   "cell_type": "code",
   "execution_count": 1,
   "id": "ef7d108e",
   "metadata": {
    "ExecuteTime": {
     "end_time": "2021-06-04T15:59:33.970734Z",
     "start_time": "2021-06-04T15:59:33.423748Z"
    },
    "scrolled": true
   },
   "outputs": [],
   "source": [
    "%load_ext autoreload\n",
    "%autoreload 2\n",
    "\n",
    "import astropy\n",
    "import galsim\n",
    "import matplotlib.pyplot as plt\n",
    "import numpy as np\n",
    "import scarlet\n",
    "import sep\n",
    "\n",
    "import btk"
   ]
  },
  {
   "cell_type": "markdown",
   "id": "4a255e37",
   "metadata": {},
   "source": [
    "# SCARLET implementation\n",
    "\n",
    "This notebook provides a measure function using [SCARLET](https://www.sciencedirect.com/science/article/abs/pii/S2213133718300301), a deblending algorithm based on matrix factorization. **NOTE:** It requires that you install the scarlet python package from the [source](https://github.com/pmelchior/scarlet), the pip installation being outdated. Please follow the instructions for installing scarlet [here](https://pmelchior.github.io/scarlet/install.html). \n",
    "\n",
    "If you have not done so already, we encourage you to follow the BTK [intro tutorial](https://lsstdesc.org/BlendingToolKit/tutorials.html), which will help you understand what is done in this notebook."
   ]
  },
  {
   "cell_type": "code",
   "execution_count": 2,
   "id": "1f4474c2",
   "metadata": {},
   "outputs": [],
   "source": [
    "catalog_name = \"../data/sample_input_catalog.fits\"\n",
    "stamp_size = 24\n",
    "survey = btk.survey.Rubin\n"
   ]
  },
  {
   "cell_type": "code",
   "execution_count": 3,
   "id": "c75713ed",
   "metadata": {},
   "outputs": [],
   "source": [
    "catalog = btk.catalog.CatsimCatalog.from_file(catalog_name)\n",
    "draw_blend_generator = btk.draw_blends.CatsimGenerator(\n",
    "    catalog,\n",
    "    btk.sampling_functions.DefaultSampling(max_number=5,maxshift=6),\n",
    "    [survey],\n",
    "    stamp_size=stamp_size,\n",
    "    batch_size=100\n",
    ")"
   ]
  },
  {
   "cell_type": "code",
   "execution_count": 4,
   "id": "41a99bf5",
   "metadata": {},
   "outputs": [],
   "source": [
    "def scarlet_measure(batch,idx,channels_last=False,surveys=None,**kwargs):\n",
    "    \"\"\"Measure function for SCARLET\n",
    "    \"\"\"\n",
    "    if isinstance(batch[\"blend_images\"], dict):\n",
    "        raise NotImplementedError(\"This function does not support the multi-resolution feature.\")\n",
    "    \n",
    "    sigma_noise = kwargs.get(\"sigma_noise\", 1.5)\n",
    "    mean_sky_level = [btk.survey.get_mean_sky_level(surveys[0],filt) for filt in surveys[0].filters]\n",
    "    \n",
    "    #Fist we carry out the detection, using SExtractor (sep being the python implementation)\n",
    "    image = batch[\"blend_images\"][idx]\n",
    "    stamp_size = image.shape[-2] \n",
    "    channel_indx = 0 if not channels_last else -1\n",
    "    coadd = np.mean(image, axis=channel_indx) \n",
    "    bkg = sep.Background(coadd)\n",
    "    catalog, segmentation = sep.extract(\n",
    "        coadd, sigma_noise, err=bkg.globalrms, segmentation_map=True\n",
    "    )\n",
    "    \n",
    "    # Put the image in the channels first format if not already the case\n",
    "    # The shape of the image is now (n_channels,stamp_size,stamp_size)\n",
    "    image = np.moveaxis(image,-1,0) if channels_last else image\n",
    "    \n",
    "    #Drawing the PSFs\n",
    "    psf = np.array([p.drawImage(galsim.Image(image.shape[1],image.shape[2]),scale=survey.pixel_scale).array for p in batch[\"psf\"]])\n",
    "    \n",
    "    ### Initializing scarlet ###\n",
    "    bands=[f.name for f in surveys[0].filters]\n",
    "    model_psf = scarlet.GaussianPSF(sigma=(0.8,) * len(bands))\n",
    "    \n",
    "    # The frame contains informations about the blend\n",
    "    model_frame = scarlet.Frame(image.shape, psf=model_psf, channels=bands)\n",
    "    \n",
    "    # The observation contains the blended images as well as additionnal informations\n",
    "    observation = scarlet.Observation(\n",
    "        image, psf=scarlet.ImagePSF(psf), weights=np.ones(image.shape)/ (bkg.globalrms**2), channels=bands\n",
    "    ).match(model_frame)\n",
    "    \n",
    "    # We define a source for each detection\n",
    "    sources = []\n",
    "    for n, detection in enumerate(catalog):\n",
    "        result = scarlet.ExtendedSource(\n",
    "            model_frame,\n",
    "            (detection[\"y\"], detection[\"x\"]),\n",
    "            observation,\n",
    "            thresh=1,\n",
    "            shifting=True,\n",
    "        )\n",
    "        sources.append(result)\n",
    "    \n",
    "    ### Fitting the sources to the blend ###\n",
    "    try:\n",
    "        blend = scarlet.Blend(sources, observation)\n",
    "        blend.fit(200, e_rel=1e-5)\n",
    " \n",
    "        ### Returning the results in a BTK compatible form ###\n",
    "        im, selected_peaks = [], []\n",
    "        for k, component in enumerate(sources):\n",
    "            y, x = component.center\n",
    "            selected_peaks.append([x, y])\n",
    "            model = component.get_model(frame=model_frame)\n",
    "            model_ = observation.render(model)\n",
    "            model_ = np.transpose(model_, axes=(1, 2, 0)) if channels_last else model_\n",
    "            im.append(model_)\n",
    "        selected_peaks = np.array(selected_peaks)\n",
    "        t = astropy.table.Table()\n",
    "        t[\"x_peak\"] = selected_peaks[:,0]\n",
    "        t[\"y_peak\"] = selected_peaks[:,1]\n",
    "        deblended_images = np.array(im)\n",
    "    \n",
    "    except AssertionError: #If the fitting fails\n",
    "        t = astropy.table.Table()\n",
    "        t[\"x_peak\"] = catalog[\"x\"]\n",
    "        t[\"y_peak\"] = catalog[\"y\"]\n",
    "        deblended_images=None\n",
    "    \n",
    "    return {\"catalog\":t,\"segmentation\":None,\"deblended_images\":deblended_images}\n",
    "    \n",
    "    "
   ]
  },
  {
   "cell_type": "code",
   "execution_count": 5,
   "id": "5c4b30fd",
   "metadata": {},
   "outputs": [],
   "source": [
    "measure_kwargs=[{\"sigma_noise\": 2.0}]\n",
    "meas_generator = btk.measure.MeasureGenerator(\n",
    "    [btk.measure.sep_measure,scarlet_measure], draw_blend_generator, measure_kwargs=measure_kwargs\n",
    ")\n",
    "metrics_generator = btk.metrics.MetricsGenerator(\n",
    "    meas_generator,\n",
    "    use_metrics=(\"detection\", \"reconstruction\"),\n",
    "    target_meas={\"ellipticity\": btk.metrics.meas_ksb_ellipticity},\n",
    ")\n"
   ]
  },
  {
   "cell_type": "code",
   "execution_count": null,
   "id": "e94f4d58",
   "metadata": {},
   "outputs": [],
   "source": [
    "blend_results,measure_results,metrics_results = next(metrics_generator)"
   ]
  },
  {
   "cell_type": "markdown",
   "id": "ff23173c",
   "metadata": {},
   "source": [
    "# Plot Metrics from Scarlet Results"
   ]
  },
  {
   "cell_type": "code",
   "execution_count": null,
   "id": "3353b7f7",
   "metadata": {
    "scrolled": false
   },
   "outputs": [],
   "source": [
    "btk.plot_utils.plot_metrics_summary(metrics_results)"
   ]
  }
 ],
 "metadata": {
  "kernelspec": {
   "display_name": "Python 3",
   "language": "python",
   "name": "python3"
  },
  "language_info": {
   "codemirror_mode": {
    "name": "ipython",
    "version": 3
   },
   "file_extension": ".py",
   "mimetype": "text/x-python",
   "name": "python",
   "nbconvert_exporter": "python",
   "pygments_lexer": "ipython3",
   "version": "3.7.10"
  },
  "toc": {
   "base_numbering": 1,
   "nav_menu": {},
   "number_sections": true,
   "sideBar": true,
   "skip_h1_title": false,
   "title_cell": "Table of Contents",
   "title_sidebar": "Contents",
   "toc_cell": false,
   "toc_position": {},
   "toc_section_display": true,
   "toc_window_display": true
  }
 },
 "nbformat": 4,
 "nbformat_minor": 5
}
