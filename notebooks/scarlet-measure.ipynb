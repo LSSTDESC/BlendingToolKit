{
 "cells": [
  {
   "cell_type": "code",
   "execution_count": 1,
   "id": "248f413f",
   "metadata": {
    "ExecuteTime": {
     "end_time": "2021-07-16T21:25:06.132842Z",
     "start_time": "2021-07-16T21:25:04.789315Z"
    }
   },
   "outputs": [],
   "source": [
    "%load_ext autoreload\n",
    "%autoreload 2\n",
    "\n",
    "import astropy\n",
    "import galsim\n",
    "import matplotlib.pyplot as plt\n",
    "import numpy as np\n",
    "import scarlet\n",
    "import sep\n",
    "\n",
    "import btk\n"
   ]
  },
  {
   "cell_type": "markdown",
   "id": "fdd99ae7",
   "metadata": {},
   "source": [
    "# SCARLET implementation\n",
    "\n",
    "This notebook provides a measure function using [SCARLET](https://www.sciencedirect.com/science/article/abs/pii/S2213133718300301), a deblending algorithm based on matrix factorization. **NOTE:** It requires that you install the scarlet python package from the [source](https://github.com/pmelchior/scarlet), the pip installation being outdated. Please follow the instructions for installing scarlet [here](https://pmelchior.github.io/scarlet/install.html). \n",
    "\n",
    "If you have not done so already, we encourage you to follow the BTK [intro tutorial](https://lsstdesc.org/BlendingToolKit/tutorials.html), which will help you understand what is done in this notebook."
   ]
  },
  {
   "cell_type": "code",
   "execution_count": 2,
   "id": "454ca993",
   "metadata": {
    "ExecuteTime": {
     "end_time": "2021-07-16T21:25:06.421265Z",
     "start_time": "2021-07-16T21:25:06.134720Z"
    }
   },
   "outputs": [],
   "source": [
    "catalog_name = \"../data/sample_input_catalog.fits\"\n",
    "stamp_size = 24\n",
    "surveys = btk.survey.get_surveys([\"Rubin\",\"HSC\"])"
   ]
  },
  {
   "cell_type": "code",
   "execution_count": 3,
   "id": "ae95cda3",
   "metadata": {
    "ExecuteTime": {
     "end_time": "2021-07-16T21:25:06.454142Z",
     "start_time": "2021-07-16T21:25:06.422695Z"
    }
   },
   "outputs": [],
   "source": [
    "catalog = btk.catalog.CatsimCatalog.from_file(catalog_name)\n",
    "draw_blend_generator = btk.draw_blends.CatsimGenerator(\n",
    "    catalog,\n",
    "    btk.sampling_functions.DefaultSampling(max_number=5,maxshift=6),\n",
    "    surveys,\n",
    "    stamp_size=stamp_size,\n",
    "    batch_size=10\n",
    ")"
   ]
  },
  {
   "cell_type": "code",
   "execution_count": 4,
   "id": "41693b09",
   "metadata": {
    "ExecuteTime": {
     "end_time": "2021-07-16T21:25:06.491386Z",
     "start_time": "2021-07-16T21:25:06.456424Z"
    }
   },
   "outputs": [],
   "source": [
    "def scarlet_measure(batch,idx,channels_last=False,**kwargs):\n",
    "    \"\"\"Measure function for SCARLET\n",
    "    \"\"\"\n",
    "    sigma_noise = kwargs.get(\"sigma_noise\", 1.5)    \n",
    "    surveys = kwargs.get(\"surveys\", None)\n",
    "    \n",
    "    #Fist we carry out the detection, using SExtractor (sep being the python implementation)\n",
    "    # We need to differentiate between the multiresolution and the regular case\n",
    "    if isinstance(batch[\"blend_images\"], dict):\n",
    "        survey_name = surveys[0].name\n",
    "        image = batch[\"blend_images\"][survey_name][idx]\n",
    "        # Put the image in the channels first format if not already the case\n",
    "        image = np.moveaxis(image,-1,0) if channels_last else image\n",
    "        coadd = np.mean(image, axis=0)\n",
    "        wcs_ref = batch[\"wcs\"][survey_name]\n",
    "        psf = np.array([p.drawImage(galsim.Image(image.shape[1],image.shape[2]),scale=surveys[0].pixel_scale).array for p in batch[\"psf\"][survey_name]])\n",
    "        multiresolution = True\n",
    "    else:\n",
    "        image = batch[\"blend_images\"][idx]\n",
    "        image = np.moveaxis(image,-1,0) if channels_last else image\n",
    "        coadd = np.mean(image, axis=0)\n",
    "        psf = np.array([p.drawImage(galsim.Image(image.shape[1],image.shape[2]),scale=surveys[0].pixel_scale).array for p in batch[\"psf\"]])\n",
    "        wcs_ref = batch[\"wcs\"]\n",
    "        multiresolution = False\n",
    "    stamp_size = coadd.shape[0]\n",
    "    \n",
    "    bkg = sep.Background(coadd)\n",
    "    catalog, segmentation = sep.extract(\n",
    "        coadd, sigma_noise, err=bkg.globalrms, segmentation_map=True\n",
    "    )\n",
    "\n",
    "    \n",
    "    if len(catalog) == 0:\n",
    "        t = astropy.table.Table()\n",
    "        t[\"ra\"], t[\"dec\"] = wcs_ref.pixel_to_world_values(catalog[\"x\"], catalog[\"y\"])\n",
    "        return {\"catalog\":t,\"segmentation\":None,\"deblended_images\":{s.name: [np.zeros((len(s.filters),batch[\"blend_images\"][s.name][idx].shape[1],\n",
    "                                             batch[\"blend_images\"][s.name][idx].shape[1]))] for s in surveys}}\n",
    "    \n",
    "\n",
    "    \n",
    "    \n",
    "    #Drawing the PSFs\n",
    "    mean_sky_level = [btk.survey.get_mean_sky_level(surveys[0],filt) for filt in surveys[0].filters]\n",
    "\n",
    "    \n",
    "    ### Initializing scarlet ###\n",
    "    bands=[f.name for f in surveys[0].filters]\n",
    "    model_psf = scarlet.GaussianPSF(sigma=(0.8,) * len(bands))\n",
    "    \n",
    "    # The observation contains the blended images as well as additionnal informations\n",
    "    observations = [scarlet.Observation(\n",
    "        image, psf=scarlet.ImagePSF(psf), weights=np.ones(image.shape)/ (bkg.globalrms**2), channels=bands, wcs=wcs_ref\n",
    "    )]\n",
    "    \n",
    "    # We define an observation for each survey\n",
    "    for survey in surveys[1:]:\n",
    "        image = batch[\"blend_images\"][survey.name][idx]\n",
    "        image = np.moveaxis(image,-1,0) if channels_last else image\n",
    "        psf = np.array([p.drawImage(galsim.Image(image.shape[1],image.shape[2]),scale=survey.pixel_scale).array for p in batch[\"psf\"][survey.name]])\n",
    "        bands=[f.name for f in survey.filters]\n",
    "        coadd = np.mean(image, axis=0)\n",
    "        bkg = sep.Background(coadd)\n",
    "        wcs = batch[\"wcs\"][survey.name]\n",
    "        observations.append(scarlet.Observation(\n",
    "            image, psf=scarlet.ImagePSF(psf), weights=np.ones(image.shape)/ (bkg.globalrms**2), channels=bands, wcs=wcs\n",
    "        ))\n",
    "    \n",
    "    # We create a frame grouping all the observations\n",
    "    model_frame = scarlet.Frame.from_observations(observations, coverage='intersection', model_psf=model_psf)\n",
    "    \n",
    "    # We define a source for each detection\n",
    "    sources = []\n",
    "    for n, detection in enumerate(catalog):\n",
    "        result = scarlet.ExtendedSource(\n",
    "            model_frame,\n",
    "            model_frame.get_sky_coord((detection[\"y\"], detection[\"x\"])),\n",
    "            observations,\n",
    "            thresh=1,\n",
    "            shifting=True,\n",
    "        )\n",
    "        sources.append(result)\n",
    "    scarlet.initialization.set_spectra_to_match(sources, observations)\n",
    "    \n",
    "    ### Fitting the sources to the blend ###\n",
    "    try:\n",
    "        blend = scarlet.Blend(sources, observations)\n",
    "        blend.fit(200, e_rel=1e-5)\n",
    " \n",
    "        ### Returning the results in a BTK compatible form ###\n",
    "        deblended_images = {}\n",
    "        for i in range(len(surveys)):\n",
    "            im, selected_peaks = [], []\n",
    "            for k, component in enumerate(sources):\n",
    "                y, x = component.center\n",
    "                selected_peaks.append([x, y])\n",
    "                model = component.get_model(frame=model_frame)\n",
    "                model_ = observations[i].render(model)\n",
    "                model_ = np.transpose(model_, axes=(1, 2, 0)) if channels_last else model_\n",
    "                im.append(model_)\n",
    "            selected_peaks = np.array(selected_peaks)\n",
    "            deblended_images[surveys[i].name] = np.array(im)\n",
    "        t = astropy.table.Table()\n",
    "        t[\"ra\"], t[\"dec\"] = wcs_ref.pixel_to_world_values(selected_peaks[:,0], selected_peaks[:,1])\n",
    "        \n",
    "    except AssertionError: #If the fitting fails\n",
    "        t = astropy.table.Table()\n",
    "        t[\"ra\"], t[\"dec\"] = wcs_ref.pixel_to_world_values(catalog[\"x\"], catalog[\"y\"])\n",
    "        deblended_images={s.name: np.array([np.zeros((len(s.filters),batch[\"blend_images\"][s.name][idx].shape[1],\n",
    "                                             batch[\"blend_images\"][s.name][idx].shape[1])) for c in catalog]) for s in surveys}\n",
    "        print(\"failed\")\n",
    "    \n",
    "    if len(surveys) == 1:\n",
    "        deblended_images = deblended_images[surveys[0].name]\n",
    "            \n",
    "    return {\"catalog\":t,\"segmentation\":None,\"deblended_images\":deblended_images}\n",
    "    \n",
    "    "
   ]
  },
  {
   "cell_type": "code",
   "execution_count": 5,
   "id": "5cc9d875",
   "metadata": {
    "ExecuteTime": {
     "end_time": "2021-07-16T21:25:06.511153Z",
     "start_time": "2021-07-16T21:25:06.493100Z"
    }
   },
   "outputs": [],
   "source": [
    "measure_kwargs=[{\"sigma_noise\": 2.0}]\n",
    "meas_generator = btk.measure.MeasureGenerator(\n",
    "    [btk.measure.sep_measure,scarlet_measure], draw_blend_generator, measure_kwargs=measure_kwargs\n",
    ")\n",
    "metrics_generator = btk.metrics.MetricsGenerator(\n",
    "    meas_generator,\n",
    "    target_meas={\"ellipticity\": btk.metrics.meas_ksb_ellipticity},\n",
    "    meas_band_num=(0,0)\n",
    ")\n"
   ]
  },
  {
   "cell_type": "code",
   "execution_count": null,
   "id": "3e363a89",
   "metadata": {
    "ExecuteTime": {
     "start_time": "2021-07-16T21:25:05.599Z"
    },
    "scrolled": true,
    "tags": [
     "nbval-ignore-output"
    ]
   },
   "outputs": [
    {
     "name": "stderr",
     "output_type": "stream",
     "text": [
      "No flux in morphology model for source at [ 3.59999656e+02 -9.14580253e-04]\n"
     ]
    }
   ],
   "source": [
    "blend_results,measure_results,metrics_results = next(metrics_generator)"
   ]
  },
  {
   "cell_type": "markdown",
   "id": "b9941c88",
   "metadata": {},
   "source": [
    "# Plot Metrics from Scarlet Results"
   ]
  },
  {
   "cell_type": "code",
   "execution_count": null,
   "id": "aee3c7f5",
   "metadata": {
    "ExecuteTime": {
     "end_time": "2021-07-16T21:20:41.962122Z",
     "start_time": "2021-07-16T21:20:41.784848Z"
    },
    "scrolled": false,
    "tags": [
     "nbval-ignore-output"
    ]
   },
   "outputs": [],
   "source": [
    "btk.plot_utils.plot_metrics_summary(metrics_results,interactive=True)"
   ]
  },
  {
   "cell_type": "code",
   "execution_count": null,
   "id": "8dd1fc73",
   "metadata": {
    "ExecuteTime": {
     "end_time": "2021-07-16T20:31:51.466326Z",
     "start_time": "2021-07-16T20:31:47.435526Z"
    },
    "scrolled": false
   },
   "outputs": [],
   "source": [
    "survey = \"HSC\"\n",
    "btk.plot_utils.plot_with_deblended(\n",
    "    blend_results[\"blend_images\"][survey],\n",
    "    blend_results[\"isolated_images\"][survey],\n",
    "    blend_results[\"blend_list\"][survey],\n",
    "    measure_results[\"catalog\"][\"scarlet_measure\"][survey],\n",
    "    measure_results[\"deblended_images\"][\"scarlet_measure\"][survey],\n",
    "    metrics_results[\"matches\"][\"scarlet_measure\"][survey],\n",
    "    indexes=list(range(5)),\n",
    "    band_indices=[1, 2, 3]\n",
    ")"
   ]
  },
  {
   "cell_type": "code",
   "execution_count": null,
   "id": "4d0ce917",
   "metadata": {},
   "outputs": [],
   "source": []
  },
  {
   "cell_type": "code",
   "execution_count": null,
   "id": "3246cad9",
   "metadata": {},
   "outputs": [],
   "source": []
  }
 ],
 "metadata": {
  "celltoolbar": "Aucun(e)",
  "kernelspec": {
   "display_name": "Python 3 (ipykernel)",
   "language": "python",
   "name": "python3"
  },
  "language_info": {
   "codemirror_mode": {
    "name": "ipython",
    "version": 3
   },
   "file_extension": ".py",
   "mimetype": "text/x-python",
   "name": "python",
   "nbconvert_exporter": "python",
   "pygments_lexer": "ipython3",
   "version": "3.7.10"
  },
  "toc": {
   "base_numbering": 1,
   "nav_menu": {},
   "number_sections": true,
   "sideBar": true,
   "skip_h1_title": false,
   "title_cell": "Table of Contents",
   "title_sidebar": "Contents",
   "toc_cell": false,
   "toc_position": {},
   "toc_section_display": true,
   "toc_window_display": true
  }
 },
 "nbformat": 4,
 "nbformat_minor": 5
}
