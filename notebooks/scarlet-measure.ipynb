{
 "cells": [
  {
   "cell_type": "code",
   "execution_count": 1,
   "id": "248f413f",
   "metadata": {
    "ExecuteTime": {
     "end_time": "2021-06-04T15:59:33.970734Z",
     "start_time": "2021-06-04T15:59:33.423748Z"
    },
    "scrolled": true
   },
   "outputs": [],
   "source": [
    "%load_ext autoreload\n",
    "%autoreload 2\n",
    "\n",
    "import astropy\n",
    "import galsim\n",
    "import matplotlib.pyplot as plt\n",
    "import numpy as np\n",
    "import scarlet\n",
    "import sep\n",
    "\n",
    "import btk"
   ]
  },
  {
   "cell_type": "markdown",
   "id": "fdd99ae7",
   "metadata": {},
   "source": [
    "# SCARLET implementation\n",
    "\n",
    "This notebook provides a measure function using [SCARLET](https://www.sciencedirect.com/science/article/abs/pii/S2213133718300301), a deblending algorithm based on matrix factorization. **NOTE:** It requires that you install the scarlet python package from the [source](https://github.com/pmelchior/scarlet), the pip installation being outdated. Please follow the instructions for installing scarlet [here](https://pmelchior.github.io/scarlet/install.html). \n",
    "\n",
    "If you have not done so already, we encourage you to follow the BTK [intro tutorial](https://lsstdesc.org/BlendingToolKit/tutorials.html), which will help you understand what is done in this notebook."
   ]
  },
  {
   "cell_type": "code",
   "execution_count": 2,
   "id": "454ca993",
   "metadata": {},
   "outputs": [],
   "source": [
    "catalog_name = \"../data/sample_input_catalog.fits\"\n",
    "stamp_size = 24\n",
    "surveys = [btk.survey.Rubin,btk.survey.HSC]\n",
    "#surveys = btk.survey.Rubin"
   ]
  },
  {
   "cell_type": "code",
   "execution_count": 3,
   "id": "ae95cda3",
   "metadata": {},
   "outputs": [],
   "source": [
    "catalog = btk.catalog.CatsimCatalog.from_file(catalog_name)\n",
    "draw_blend_generator = btk.draw_blends.CatsimGenerator(\n",
    "    catalog,\n",
    "    btk.sampling_functions.DefaultSampling(max_number=5,maxshift=6),\n",
    "    surveys,\n",
    "    stamp_size=stamp_size,\n",
    "    batch_size=100\n",
    ")"
   ]
  },
  {
   "cell_type": "code",
   "execution_count": 4,
   "id": "41693b09",
   "metadata": {},
   "outputs": [],
   "source": [
    "def scarlet_measure(batch,idx,channels_last=False,**kwargs):\n",
    "    \"\"\"Measure function for SCARLET\n",
    "    \"\"\"\n",
    "    sigma_noise = kwargs.get(\"sigma_noise\", 1.5)    \n",
    "    surveys = kwargs.get(\"surveys\", None)\n",
    "    \n",
    "    #Fist we carry out the detection, using SExtractor (sep being the python implementation)\n",
    "    # We need to differentiate between the multiresolution and the regular case\n",
    "    if isinstance(batch[\"blend_images\"], dict):\n",
    "        survey_name = surveys[0].name\n",
    "        image = batch[\"blend_images\"][survey_name][idx]\n",
    "        # Put the image in the channels first format if not already the case\n",
    "        image = np.moveaxis(image,-1,0) if channels_last else image\n",
    "        coadd = np.mean(image, axis=0)\n",
    "        wcs_ref = batch[\"wcs\"][survey_name]\n",
    "        psf = np.array([p.drawImage(galsim.Image(image.shape[1],image.shape[2]),scale=surveys[0].pixel_scale).array for p in batch[\"psf\"][survey_name]])\n",
    "        multiresolution = True\n",
    "    else:\n",
    "        image = batch[\"blend_images\"][idx]\n",
    "        image = np.moveaxis(image,-1,0) if channels_last else image\n",
    "        coadd = np.mean(image, axis=0)\n",
    "        psf = np.array([p.drawImage(galsim.Image(image.shape[1],image.shape[2]),scale=surveys[0].pixel_scale).array for p in batch[\"psf\"]])\n",
    "        wcs_ref = batch[\"wcs\"]\n",
    "        multiresolution = False\n",
    "    stamp_size = coadd.shape[0]\n",
    "    \n",
    "    bkg = sep.Background(coadd)\n",
    "    catalog, segmentation = sep.extract(\n",
    "        coadd, sigma_noise, err=bkg.globalrms, segmentation_map=True\n",
    "    )\n",
    "\n",
    "    \n",
    "    if len(catalog) == 0:\n",
    "        t = astropy.table.Table()\n",
    "        t[\"ra\"], t[\"dec\"] = wcs_ref.pixel_to_world_values(catalog[\"x\"], catalog[\"y\"])\n",
    "        return {\"catalog\":t,\"segmentation\":None,\"deblended_images\":{s.name: [np.zeros((len(s.filters),batch[\"blend_images\"][s.name][idx].shape[1],\n",
    "                                             batch[\"blend_images\"][s.name][idx].shape[1]))] for s in surveys}}\n",
    "    \n",
    "\n",
    "    \n",
    "    \n",
    "    #Drawing the PSFs\n",
    "    mean_sky_level = [btk.survey.get_mean_sky_level(surveys[0],filt) for filt in surveys[0].filters]\n",
    "\n",
    "    \n",
    "    ### Initializing scarlet ###\n",
    "    bands=[f.name for f in surveys[0].filters]\n",
    "    model_psf = scarlet.GaussianPSF(sigma=(0.8,) * len(bands))\n",
    "    \n",
    "    # The observation contains the blended images as well as additionnal informations\n",
    "    observations = [scarlet.Observation(\n",
    "        image, psf=scarlet.ImagePSF(psf), weights=np.ones(image.shape)/ (bkg.globalrms**2), channels=bands, wcs=wcs_ref\n",
    "    )]\n",
    "    \n",
    "    # We define an observation for each survey\n",
    "    for survey in surveys[1:]:\n",
    "        image = batch[\"blend_images\"][survey.name][idx]\n",
    "        image = np.moveaxis(image,-1,0) if channels_last else image\n",
    "        psf = np.array([p.drawImage(galsim.Image(image.shape[1],image.shape[2]),scale=survey.pixel_scale).array for p in batch[\"psf\"][survey.name]])\n",
    "        bands=[f.name for f in survey.filters]\n",
    "        coadd = np.mean(image, axis=0)\n",
    "        bkg = sep.Background(coadd)\n",
    "        wcs = batch[\"wcs\"][survey.name]\n",
    "        observations.append(scarlet.Observation(\n",
    "            image, psf=scarlet.ImagePSF(psf), weights=np.ones(image.shape)/ (bkg.globalrms**2), channels=bands, wcs=wcs\n",
    "        ))\n",
    "    \n",
    "    # We create a frame grouping all the observations\n",
    "    model_frame = scarlet.Frame.from_observations(observations, coverage='intersection', model_psf=model_psf)\n",
    "    \n",
    "    # We define a source for each detection\n",
    "    sources = []\n",
    "    for n, detection in enumerate(catalog):\n",
    "        result = scarlet.ExtendedSource(\n",
    "            model_frame,\n",
    "            model_frame.get_sky_coord((detection[\"y\"], detection[\"x\"])),\n",
    "            observations,\n",
    "            thresh=1,\n",
    "            shifting=True,\n",
    "        )\n",
    "        sources.append(result)\n",
    "    scarlet.initialization.set_spectra_to_match(sources, observations)\n",
    "    \n",
    "    ### Fitting the sources to the blend ###\n",
    "    try:\n",
    "        blend = scarlet.Blend(sources, observations)\n",
    "        blend.fit(200, e_rel=1e-5)\n",
    " \n",
    "        ### Returning the results in a BTK compatible form ###\n",
    "        deblended_images = {}\n",
    "        for i in range(len(surveys)):\n",
    "            im, selected_peaks = [], []\n",
    "            for k, component in enumerate(sources):\n",
    "                y, x = component.center\n",
    "                selected_peaks.append([x, y])\n",
    "                model = component.get_model(frame=model_frame)\n",
    "                model_ = observations[i].render(model)\n",
    "                model_ = np.transpose(model_, axes=(1, 2, 0)) if channels_last else model_\n",
    "                im.append(model_)\n",
    "            selected_peaks = np.array(selected_peaks)\n",
    "            deblended_images[surveys[i].name] = np.array(im)\n",
    "        t = astropy.table.Table()\n",
    "        t[\"ra\"], t[\"dec\"] = wcs_ref.pixel_to_world_values(selected_peaks[:,0], selected_peaks[:,1])\n",
    "        if len(surveys) == 1:\n",
    "            deblended_images = deblended_images[surveys[0].name]\n",
    "        \n",
    "    except AssertionError: #If the fitting fails\n",
    "        t = astropy.table.Table()\n",
    "        t[\"ra\"], t[\"dec\"] = wcs_ref.pixel_to_world_values(catalog[\"x\"], catalog[\"y\"])\n",
    "        deblended_images={s.name: np.array([np.zeros((len(s.filters),batch[\"blend_images\"][s.name][idx].shape[1],\n",
    "                                             batch[\"blend_images\"][s.name][idx].shape[1])) for c in catalog]) for s in surveys}\n",
    "        print(\"failed\")\n",
    "    \n",
    "    return {\"catalog\":t,\"segmentation\":None,\"deblended_images\":deblended_images}\n",
    "    \n",
    "    "
   ]
  },
  {
   "cell_type": "code",
   "execution_count": 5,
   "id": "5cc9d875",
   "metadata": {},
   "outputs": [],
   "source": [
    "measure_kwargs=[{\"sigma_noise\": 2.0}]\n",
    "meas_generator = btk.measure.MeasureGenerator(\n",
    "    [btk.measure.sep_measure,scarlet_measure], draw_blend_generator, measure_kwargs=measure_kwargs\n",
    ")\n",
    "metrics_generator = btk.metrics.MetricsGenerator(\n",
    "    meas_generator,\n",
    "    target_meas={\"ellipticity\": btk.metrics.meas_ksb_ellipticity},\n",
    "    meas_band_num=(0,0)\n",
    ")\n"
   ]
  },
  {
   "cell_type": "code",
   "execution_count": 6,
   "id": "3e363a89",
   "metadata": {
    "scrolled": true
   },
   "outputs": [
    {
     "name": "stderr",
     "output_type": "stream",
     "text": [
      "No flux in morphology model for source at [ 0.00125733 -0.00052567]\n"
     ]
    },
    {
     "name": "stdout",
     "output_type": "stream",
     "text": [
      "<class 'numpy.ndarray'>\n",
      "<class 'numpy.ndarray'>\n",
      "<class 'numpy.ndarray'>\n",
      "<class 'numpy.ndarray'>\n"
     ]
    },
    {
     "name": "stderr",
     "output_type": "stream",
     "text": [
      "No flux in morphology model for source at [3.59998220e+02 7.46683706e-04]\n"
     ]
    },
    {
     "name": "stdout",
     "output_type": "stream",
     "text": [
      "<class 'numpy.ndarray'>\n",
      "<class 'numpy.ndarray'>\n"
     ]
    },
    {
     "name": "stderr",
     "output_type": "stream",
     "text": [
      "No flux in morphology model for source at [ 3.59999981e+02 -9.17742178e-04]\n"
     ]
    },
    {
     "name": "stdout",
     "output_type": "stream",
     "text": [
      "<class 'numpy.ndarray'>\n",
      "<class 'numpy.ndarray'>\n",
      "<class 'numpy.ndarray'>\n",
      "<class 'numpy.ndarray'>\n",
      "<class 'numpy.ndarray'>\n",
      "<class 'numpy.ndarray'>\n",
      "<class 'numpy.ndarray'>\n",
      "<class 'numpy.ndarray'>\n",
      "<class 'numpy.ndarray'>\n",
      "<class 'numpy.ndarray'>\n",
      "<class 'numpy.ndarray'>\n",
      "<class 'numpy.ndarray'>\n",
      "<class 'numpy.ndarray'>\n",
      "<class 'numpy.ndarray'>\n",
      "<class 'numpy.ndarray'>\n",
      "<class 'numpy.ndarray'>\n",
      "<class 'numpy.ndarray'>\n",
      "<class 'numpy.ndarray'>\n",
      "<class 'numpy.ndarray'>\n",
      "<class 'numpy.ndarray'>\n",
      "<class 'numpy.ndarray'>\n",
      "<class 'numpy.ndarray'>\n",
      "<class 'numpy.ndarray'>\n",
      "<class 'numpy.ndarray'>\n"
     ]
    },
    {
     "name": "stderr",
     "output_type": "stream",
     "text": [
      "No flux in morphology model for source at [ 0.0007594 -0.001765 ]\n"
     ]
    },
    {
     "name": "stdout",
     "output_type": "stream",
     "text": [
      "<class 'numpy.ndarray'>\n",
      "<class 'numpy.ndarray'>\n",
      "<class 'numpy.ndarray'>\n",
      "<class 'numpy.ndarray'>\n",
      "<class 'numpy.ndarray'>\n",
      "<class 'numpy.ndarray'>\n",
      "<class 'numpy.ndarray'>\n",
      "<class 'numpy.ndarray'>\n",
      "<class 'numpy.ndarray'>\n",
      "<class 'numpy.ndarray'>\n",
      "<class 'numpy.ndarray'>\n",
      "<class 'numpy.ndarray'>\n",
      "<class 'numpy.ndarray'>\n",
      "<class 'numpy.ndarray'>\n",
      "<class 'numpy.ndarray'>\n",
      "<class 'numpy.ndarray'>\n",
      "<class 'numpy.ndarray'>\n",
      "<class 'numpy.ndarray'>\n"
     ]
    },
    {
     "name": "stderr",
     "output_type": "stream",
     "text": [
      "No flux in morphology model for source at [ 3.59998218e+02 -7.72871595e-05]\n"
     ]
    },
    {
     "name": "stdout",
     "output_type": "stream",
     "text": [
      "<class 'numpy.ndarray'>\n",
      "<class 'numpy.ndarray'>\n",
      "<class 'numpy.ndarray'>\n",
      "<class 'numpy.ndarray'>\n",
      "<class 'numpy.ndarray'>\n",
      "<class 'numpy.ndarray'>\n",
      "<class 'numpy.ndarray'>\n",
      "<class 'numpy.ndarray'>\n",
      "<class 'numpy.ndarray'>\n",
      "<class 'numpy.ndarray'>\n",
      "<class 'numpy.ndarray'>\n",
      "<class 'numpy.ndarray'>\n",
      "<class 'numpy.ndarray'>\n",
      "<class 'numpy.ndarray'>\n",
      "<class 'numpy.ndarray'>\n",
      "<class 'numpy.ndarray'>\n",
      "<class 'numpy.ndarray'>\n",
      "<class 'numpy.ndarray'>\n",
      "<class 'numpy.ndarray'>\n",
      "<class 'numpy.ndarray'>\n",
      "<class 'numpy.ndarray'>\n",
      "<class 'numpy.ndarray'>\n",
      "<class 'numpy.ndarray'>\n",
      "<class 'numpy.ndarray'>\n"
     ]
    },
    {
     "name": "stderr",
     "output_type": "stream",
     "text": [
      "Zero or negative spectrum [-1462.7301   -555.50244 -1201.5245  -5460.608   -8533.8955 ] at [ 0.00122449 -0.00128022]\n"
     ]
    },
    {
     "name": "stdout",
     "output_type": "stream",
     "text": [
      "<class 'numpy.ndarray'>\n",
      "<class 'numpy.ndarray'>\n",
      "<class 'numpy.ndarray'>\n",
      "<class 'numpy.ndarray'>\n",
      "<class 'numpy.ndarray'>\n",
      "<class 'numpy.ndarray'>\n",
      "<class 'numpy.ndarray'>\n",
      "<class 'numpy.ndarray'>\n",
      "<class 'numpy.ndarray'>\n",
      "<class 'numpy.ndarray'>\n",
      "<class 'numpy.ndarray'>\n",
      "<class 'numpy.ndarray'>\n",
      "<class 'numpy.ndarray'>\n",
      "<class 'numpy.ndarray'>\n",
      "<class 'numpy.ndarray'>\n",
      "<class 'numpy.ndarray'>\n",
      "<class 'numpy.ndarray'>\n",
      "<class 'numpy.ndarray'>\n",
      "<class 'numpy.ndarray'>\n",
      "<class 'numpy.ndarray'>\n",
      "<class 'numpy.ndarray'>\n",
      "<class 'numpy.ndarray'>\n",
      "<class 'numpy.ndarray'>\n",
      "<class 'numpy.ndarray'>\n",
      "<class 'numpy.ndarray'>\n",
      "<class 'numpy.ndarray'>\n",
      "<class 'numpy.ndarray'>\n",
      "<class 'numpy.ndarray'>\n",
      "<class 'numpy.ndarray'>\n",
      "<class 'numpy.ndarray'>\n",
      "<class 'numpy.ndarray'>\n",
      "<class 'numpy.ndarray'>\n",
      "<class 'numpy.ndarray'>\n",
      "<class 'numpy.ndarray'>\n",
      "<class 'numpy.ndarray'>\n",
      "<class 'numpy.ndarray'>\n",
      "<class 'numpy.ndarray'>\n",
      "<class 'numpy.ndarray'>\n",
      "<class 'numpy.ndarray'>\n",
      "<class 'numpy.ndarray'>\n",
      "<class 'numpy.ndarray'>\n",
      "<class 'numpy.ndarray'>\n",
      "<class 'numpy.ndarray'>\n",
      "<class 'numpy.ndarray'>\n",
      "<class 'numpy.ndarray'>\n",
      "<class 'numpy.ndarray'>\n",
      "<class 'numpy.ndarray'>\n",
      "<class 'numpy.ndarray'>\n",
      "<class 'numpy.ndarray'>\n",
      "<class 'numpy.ndarray'>\n",
      "<class 'numpy.ndarray'>\n",
      "<class 'numpy.ndarray'>\n",
      "<class 'numpy.ndarray'>\n",
      "<class 'numpy.ndarray'>\n",
      "<class 'numpy.ndarray'>\n",
      "<class 'numpy.ndarray'>\n",
      "<class 'numpy.ndarray'>\n",
      "<class 'numpy.ndarray'>\n",
      "<class 'numpy.ndarray'>\n",
      "<class 'numpy.ndarray'>\n",
      "<class 'numpy.ndarray'>\n",
      "<class 'numpy.ndarray'>\n",
      "<class 'numpy.ndarray'>\n",
      "<class 'numpy.ndarray'>\n",
      "<class 'numpy.ndarray'>\n",
      "<class 'numpy.ndarray'>\n",
      "<class 'numpy.ndarray'>\n",
      "<class 'numpy.ndarray'>\n",
      "<class 'numpy.ndarray'>\n",
      "<class 'numpy.ndarray'>\n",
      "<class 'numpy.ndarray'>\n",
      "<class 'numpy.ndarray'>\n",
      "<class 'numpy.ndarray'>\n",
      "<class 'numpy.ndarray'>\n",
      "<class 'numpy.ndarray'>\n",
      "<class 'numpy.ndarray'>\n",
      "<class 'numpy.ndarray'>\n",
      "<class 'numpy.ndarray'>\n",
      "<class 'numpy.ndarray'>\n",
      "<class 'numpy.ndarray'>\n",
      "<class 'numpy.ndarray'>\n",
      "<class 'numpy.ndarray'>\n",
      "<class 'numpy.ndarray'>\n",
      "<class 'numpy.ndarray'>\n",
      "<class 'numpy.ndarray'>\n",
      "<class 'numpy.ndarray'>\n",
      "<class 'numpy.ndarray'>\n",
      "<class 'numpy.ndarray'>\n",
      "<class 'numpy.ndarray'>\n",
      "<class 'numpy.ndarray'>\n",
      "<class 'numpy.ndarray'>\n",
      "<class 'numpy.ndarray'>\n"
     ]
    },
    {
     "name": "stderr",
     "output_type": "stream",
     "text": [
      "No flux in morphology model for source at [3.59999191e+02 6.29931148e-04]\n"
     ]
    },
    {
     "name": "stdout",
     "output_type": "stream",
     "text": [
      "<class 'numpy.ndarray'>\n",
      "<class 'numpy.ndarray'>\n",
      "<class 'numpy.ndarray'>\n",
      "<class 'numpy.ndarray'>\n",
      "<class 'numpy.ndarray'>\n",
      "<class 'numpy.ndarray'>\n",
      "<class 'numpy.ndarray'>\n",
      "<class 'numpy.ndarray'>\n",
      "<class 'numpy.ndarray'>\n",
      "<class 'numpy.ndarray'>\n",
      "<class 'numpy.ndarray'>\n",
      "<class 'numpy.ndarray'>\n",
      "<class 'numpy.ndarray'>\n",
      "<class 'numpy.ndarray'>\n",
      "<class 'numpy.ndarray'>\n",
      "<class 'numpy.ndarray'>\n",
      "<class 'numpy.ndarray'>\n",
      "<class 'numpy.ndarray'>\n",
      "<class 'numpy.ndarray'>\n",
      "<class 'numpy.ndarray'>\n"
     ]
    },
    {
     "ename": "TypeError",
     "evalue": "The output 'deblended_images' for survey 'LSST' of at least one of your measurement functions is not a numpy array, but a <class 'list'>",
     "output_type": "error",
     "traceback": [
      "\u001b[0;31m---------------------------------------------------------------------------\u001b[0m",
      "\u001b[0;31mTypeError\u001b[0m                                 Traceback (most recent call last)",
      "\u001b[0;32m<ipython-input-6-60aad8fff3eb>\u001b[0m in \u001b[0;36m<module>\u001b[0;34m\u001b[0m\n\u001b[0;32m----> 1\u001b[0;31m \u001b[0mblend_results\u001b[0m\u001b[0;34m,\u001b[0m\u001b[0mmeasure_results\u001b[0m\u001b[0;34m,\u001b[0m\u001b[0mmetrics_results\u001b[0m \u001b[0;34m=\u001b[0m \u001b[0mnext\u001b[0m\u001b[0;34m(\u001b[0m\u001b[0mmetrics_generator\u001b[0m\u001b[0;34m)\u001b[0m\u001b[0;34m\u001b[0m\u001b[0;34m\u001b[0m\u001b[0m\n\u001b[0m",
      "\u001b[0;32m~/Documents/stageAPC/BlendingToolKit/btk/metrics.py\u001b[0m in \u001b[0;36m__next__\u001b[0;34m(self)\u001b[0m\n\u001b[1;32m    729\u001b[0m     \u001b[0;32mdef\u001b[0m \u001b[0m__next__\u001b[0m\u001b[0;34m(\u001b[0m\u001b[0mself\u001b[0m\u001b[0;34m)\u001b[0m\u001b[0;34m:\u001b[0m\u001b[0;34m\u001b[0m\u001b[0;34m\u001b[0m\u001b[0m\n\u001b[1;32m    730\u001b[0m         \u001b[0;34m\"\"\"Returns metric results calculated on one batch.\"\"\"\u001b[0m\u001b[0;34m\u001b[0m\u001b[0;34m\u001b[0m\u001b[0m\n\u001b[0;32m--> 731\u001b[0;31m         \u001b[0mblend_results\u001b[0m\u001b[0;34m,\u001b[0m \u001b[0mmeasure_results\u001b[0m \u001b[0;34m=\u001b[0m \u001b[0mnext\u001b[0m\u001b[0;34m(\u001b[0m\u001b[0mself\u001b[0m\u001b[0;34m.\u001b[0m\u001b[0mmeasure_generator\u001b[0m\u001b[0;34m)\u001b[0m\u001b[0;34m\u001b[0m\u001b[0;34m\u001b[0m\u001b[0m\n\u001b[0m\u001b[1;32m    732\u001b[0m         \u001b[0msurveys\u001b[0m \u001b[0;34m=\u001b[0m \u001b[0mself\u001b[0m\u001b[0;34m.\u001b[0m\u001b[0mmeasure_generator\u001b[0m\u001b[0;34m.\u001b[0m\u001b[0mdraw_blend_generator\u001b[0m\u001b[0;34m.\u001b[0m\u001b[0msurveys\u001b[0m\u001b[0;34m\u001b[0m\u001b[0;34m\u001b[0m\u001b[0m\n\u001b[1;32m    733\u001b[0m \u001b[0;34m\u001b[0m\u001b[0m\n",
      "\u001b[0;32m~/Documents/stageAPC/BlendingToolKit/btk/measure.py\u001b[0m in \u001b[0;36m__next__\u001b[0;34m(self)\u001b[0m\n\u001b[1;32m    315\u001b[0m                 \u001b[0mkwargs_iter\u001b[0m\u001b[0;34m=\u001b[0m\u001b[0mkwargs_iter\u001b[0m\u001b[0;34m,\u001b[0m\u001b[0;34m\u001b[0m\u001b[0;34m\u001b[0m\u001b[0m\n\u001b[1;32m    316\u001b[0m                 \u001b[0mcpus\u001b[0m\u001b[0;34m=\u001b[0m\u001b[0mself\u001b[0m\u001b[0;34m.\u001b[0m\u001b[0mcpus\u001b[0m\u001b[0;34m,\u001b[0m\u001b[0;34m\u001b[0m\u001b[0;34m\u001b[0m\u001b[0m\n\u001b[0;32m--> 317\u001b[0;31m                 \u001b[0mverbose\u001b[0m\u001b[0;34m=\u001b[0m\u001b[0mself\u001b[0m\u001b[0;34m.\u001b[0m\u001b[0mverbose\u001b[0m\u001b[0;34m,\u001b[0m\u001b[0;34m\u001b[0m\u001b[0;34m\u001b[0m\u001b[0m\n\u001b[0m\u001b[1;32m    318\u001b[0m             )\n\u001b[1;32m    319\u001b[0m \u001b[0;34m\u001b[0m\u001b[0m\n",
      "\u001b[0;32m~/Documents/stageAPC/BlendingToolKit/btk/multiprocess.py\u001b[0m in \u001b[0;36mmultiprocess\u001b[0;34m(fn, args_iter, kwargs_iter, cpus, verbose)\u001b[0m\n\u001b[1;32m     46\u001b[0m         \u001b[0;32mif\u001b[0m \u001b[0mverbose\u001b[0m\u001b[0;34m:\u001b[0m\u001b[0;34m\u001b[0m\u001b[0;34m\u001b[0m\u001b[0m\n\u001b[1;32m     47\u001b[0m             \u001b[0mprint\u001b[0m\u001b[0;34m(\u001b[0m\u001b[0;34mf\"Running mini-batch of size {len(args_iter)} serial {cpus} times\"\u001b[0m\u001b[0;34m)\u001b[0m\u001b[0;34m\u001b[0m\u001b[0;34m\u001b[0m\u001b[0m\n\u001b[0;32m---> 48\u001b[0;31m         \u001b[0mresults\u001b[0m \u001b[0;34m=\u001b[0m \u001b[0mlist\u001b[0m\u001b[0;34m(\u001b[0m\u001b[0m_starmap_with_kwargs\u001b[0m\u001b[0;34m(\u001b[0m\u001b[0mfn\u001b[0m\u001b[0;34m,\u001b[0m \u001b[0margs_iter\u001b[0m\u001b[0;34m,\u001b[0m \u001b[0mkwargs_iter\u001b[0m\u001b[0;34m)\u001b[0m\u001b[0;34m)\u001b[0m\u001b[0;34m\u001b[0m\u001b[0;34m\u001b[0m\u001b[0m\n\u001b[0m\u001b[1;32m     49\u001b[0m     \u001b[0;32mreturn\u001b[0m \u001b[0mresults\u001b[0m\u001b[0;34m\u001b[0m\u001b[0;34m\u001b[0m\u001b[0m\n",
      "\u001b[0;32m~/Documents/stageAPC/BlendingToolKit/btk/multiprocess.py\u001b[0m in \u001b[0;36m_apply_args_and_kwargs\u001b[0;34m(fn, args, kwargs)\u001b[0m\n\u001b[1;32m      6\u001b[0m \u001b[0;34m\u001b[0m\u001b[0m\n\u001b[1;32m      7\u001b[0m \u001b[0;32mdef\u001b[0m \u001b[0m_apply_args_and_kwargs\u001b[0m\u001b[0;34m(\u001b[0m\u001b[0mfn\u001b[0m\u001b[0;34m,\u001b[0m \u001b[0margs\u001b[0m\u001b[0;34m,\u001b[0m \u001b[0mkwargs\u001b[0m\u001b[0;34m)\u001b[0m\u001b[0;34m:\u001b[0m\u001b[0;34m\u001b[0m\u001b[0;34m\u001b[0m\u001b[0m\n\u001b[0;32m----> 8\u001b[0;31m     \u001b[0;32mreturn\u001b[0m \u001b[0mfn\u001b[0m\u001b[0;34m(\u001b[0m\u001b[0;34m*\u001b[0m\u001b[0margs\u001b[0m\u001b[0;34m,\u001b[0m \u001b[0;34m**\u001b[0m\u001b[0mkwargs\u001b[0m\u001b[0;34m)\u001b[0m\u001b[0;34m\u001b[0m\u001b[0;34m\u001b[0m\u001b[0m\n\u001b[0m\u001b[1;32m      9\u001b[0m \u001b[0;34m\u001b[0m\u001b[0m\n\u001b[1;32m     10\u001b[0m \u001b[0;34m\u001b[0m\u001b[0m\n",
      "\u001b[0;32m~/Documents/stageAPC/BlendingToolKit/btk/measure.py\u001b[0m in \u001b[0;36mrun_batch\u001b[0;34m(self, batch, index, **kwargs)\u001b[0m\n\u001b[1;32m    267\u001b[0m                             \u001b[0;32mif\u001b[0m \u001b[0;32mnot\u001b[0m \u001b[0misinstance\u001b[0m\u001b[0;34m(\u001b[0m\u001b[0mout\u001b[0m\u001b[0;34m[\u001b[0m\u001b[0mkey\u001b[0m\u001b[0;34m]\u001b[0m\u001b[0;34m[\u001b[0m\u001b[0msurvey\u001b[0m\u001b[0;34m.\u001b[0m\u001b[0mname\u001b[0m\u001b[0;34m]\u001b[0m\u001b[0;34m,\u001b[0m \u001b[0mnp\u001b[0m\u001b[0;34m.\u001b[0m\u001b[0mndarray\u001b[0m\u001b[0;34m)\u001b[0m\u001b[0;34m:\u001b[0m\u001b[0;34m\u001b[0m\u001b[0;34m\u001b[0m\u001b[0m\n\u001b[1;32m    268\u001b[0m                                 raise TypeError(\n\u001b[0;32m--> 269\u001b[0;31m                                     \u001b[0;34mf\"The output '{key}' for survey '{survey.name}' of at least one \"\u001b[0m\u001b[0;34m\u001b[0m\u001b[0;34m\u001b[0m\u001b[0m\n\u001b[0m\u001b[1;32m    270\u001b[0m                                     \u001b[0;34mf\"of your measurement functions is not a numpy array, but a \"\u001b[0m\u001b[0;34m\u001b[0m\u001b[0;34m\u001b[0m\u001b[0m\n\u001b[1;32m    271\u001b[0m                                     \u001b[0;34mf\"{type(out[key][survey.name])}\"\u001b[0m\u001b[0;34m\u001b[0m\u001b[0;34m\u001b[0m\u001b[0m\n",
      "\u001b[0;31mTypeError\u001b[0m: The output 'deblended_images' for survey 'LSST' of at least one of your measurement functions is not a numpy array, but a <class 'list'>"
     ]
    }
   ],
   "source": [
    "blend_results,measure_results,metrics_results = next(metrics_generator)"
   ]
  },
  {
   "cell_type": "markdown",
   "id": "b9941c88",
   "metadata": {},
   "source": [
    "# Plot Metrics from Scarlet Results"
   ]
  },
  {
   "cell_type": "code",
   "execution_count": null,
   "id": "aee3c7f5",
   "metadata": {
    "scrolled": false
   },
   "outputs": [],
   "source": [
    "btk.plot_utils.plot_metrics_summary(metrics_results,interactive=True)"
   ]
  },
  {
   "cell_type": "code",
   "execution_count": null,
   "id": "8dd1fc73",
   "metadata": {},
   "outputs": [],
   "source": [
    "index = 5\n",
    "survey = \"HSC\"\n",
    "print(blend_results['blend_list'][survey][index][\"x_peak\",\"y_peak\"])\n",
    "detected = measure_results[\"catalog\"][\"scarlet_measure\"][\"LSST\"][index][\"x_peak\",\"y_peak\"]\n",
    "print(detected)\n",
    "\n",
    "plt.imshow(blend_results[\"blend_images\"][survey][index][2])\n",
    "plt.scatter(blend_results['blend_list'][survey][index][\"x_peak\"],blend_results['blend_list'][survey][index][\"y_peak\"],color=\"red\",marker=\"x\")\n",
    "plt.scatter(detected[0],detected[1],color=\"magenta\",marker=\"x\")\n",
    "\n",
    "plt.show()\n",
    "plt.imshow(blend_results[\"isolated_images\"][survey][index][0][2])\n",
    "plt.colorbar()\n",
    "plt.show()\n",
    "\n",
    "plt.imshow(measure_results[\"deblended_images\"][\"scarlet_measure\"][survey][index][0][2])\n",
    "plt.colorbar()\n",
    "plt.show()\n",
    "plt.imshow(blend_results[\"isolated_images\"][survey][index][0][2]-measure_results[\"deblended_images\"][\"scarlet_measure\"][survey][index][0][2])\n",
    "plt.colorbar()\n",
    "plt.show()\n",
    "print(metrics_results[\"scarlet_measure\"][survey][\"reconstruction\"][\"msr\"][index])"
   ]
  },
  {
   "cell_type": "code",
   "execution_count": null,
   "id": "4d0ce917",
   "metadata": {},
   "outputs": [],
   "source": []
  },
  {
   "cell_type": "code",
   "execution_count": null,
   "id": "3246cad9",
   "metadata": {},
   "outputs": [],
   "source": []
  }
 ],
 "metadata": {
  "kernelspec": {
   "display_name": "Python 3",
   "language": "python",
   "name": "python3"
  },
  "language_info": {
   "codemirror_mode": {
    "name": "ipython",
    "version": 3
   },
   "file_extension": ".py",
   "mimetype": "text/x-python",
   "name": "python",
   "nbconvert_exporter": "python",
   "pygments_lexer": "ipython3",
   "version": "3.7.10"
  },
  "toc": {
   "base_numbering": 1,
   "nav_menu": {},
   "number_sections": true,
   "sideBar": true,
   "skip_h1_title": false,
   "title_cell": "Table of Contents",
   "title_sidebar": "Contents",
   "toc_cell": false,
   "toc_position": {},
   "toc_section_display": true,
   "toc_window_display": true
  }
 },
 "nbformat": 4,
 "nbformat_minor": 5
}
