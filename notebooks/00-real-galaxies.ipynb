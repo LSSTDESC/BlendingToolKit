{
 "cells": [
  {
   "cell_type": "code",
   "execution_count": null,
   "metadata": {},
   "outputs": [],
   "source": [
    "import btk "
   ]
  },
  {
   "cell_type": "code",
   "execution_count": null,
   "metadata": {},
   "outputs": [],
   "source": [
    "# Here we use a small sample of the real COSMOS catalog; feel free to fill in the correct path\n",
    "# if you have the complete catalog on your computer\n",
    "COSMOS_CATALOG_PATHS = [\n",
    "    \"../data/cosmos/real_galaxy_catalog_23.5_example.fits\",\n",
    "    \"../data/cosmos/real_galaxy_catalog_23.5_example_fits.fits\",\n",
    "]\n"
   ]
  },
  {
   "cell_type": "code",
   "execution_count": null,
   "metadata": {},
   "outputs": [
    {
     "data": {
      "text/html": [
       "<div><i>Table length=5</i>\n",
       "<table id=\"table140316597120992\" class=\"table-striped table-bordered table-condensed\">\n",
       "<thead><tr><th>IDENT_1</th><th>ra</th><th>dec</th><th>MAG</th><th>BAND</th><th>WEIGHT</th><th>GAL_FILENAME</th><th>PSF_FILENAME</th><th>GAL_HDU</th><th>PSF_HDU</th><th>PIXEL_SCALE</th><th>NOISE_MEAN</th><th>NOISE_VARIANCE</th><th>NOISE_FILENAME</th><th>stamp_flux</th><th>IDENT_2</th><th>mag_auto</th><th>flux_radius</th><th>zphot</th><th>sersicfit</th><th>bulgefit</th><th>fit_status</th><th>fit_mad_s</th><th>fit_mad_b</th><th>fit_dvc_btt</th><th>use_bulgefit</th><th>viable_sersic</th><th>hlr</th><th>flux</th><th>btk_index</th></tr></thead>\n",
       "<thead><tr><th>int32</th><th>float64</th><th>float64</th><th>float64</th><th>bytes5</th><th>float64</th><th>bytes32</th><th>bytes36</th><th>int32</th><th>int32</th><th>float64</th><th>float64</th><th>float64</th><th>bytes26</th><th>float64</th><th>int32</th><th>float64</th><th>float64</th><th>float64</th><th>float64[8]</th><th>float64[16]</th><th>int32[5]</th><th>float64</th><th>float64</th><th>float64</th><th>int32</th><th>int32</th><th>float64[3]</th><th>float64[4]</th><th>int64</th></tr></thead>\n",
       "<tr><td>100027</td><td>150.141258</td><td>1.59778</td><td>20.913000106811523</td><td>F814W</td><td>0.23257999122142792</td><td>real_galaxy_images.fits</td><td>real_galaxy_PSF_images.fits</td><td>0</td><td>0</td><td>0.029999999329447746</td><td>8.467229781672359e-05</td><td>7.455349987139925e-06</td><td>acs_I_unrot_sci_20_cf.fits</td><td>108.3051217480097</td><td>100027</td><td>20.913053512573242</td><td>14.031698226928711</td><td>0.5184000134468079</td><td>0.04107378671503146 .. -0.023445131768369355</td><td>0.0316924732638154 .. 0.31829637458240845</td><td>1 .. 1</td><td>0.0026750326807082336</td><td>0.0027211891317364886</td><td>0.26349168640581294</td><td>0</td><td>1</td><td>0.39359053928423454 .. 0.0</td><td>114.39567400214578 .. 0.0</td><td>0</td></tr>\n",
       "<tr><td>100438</td><td>150.13038</td><td>2.514552</td><td>22.201000213623047</td><td>F814W</td><td>0.23222000896930695</td><td>real_galaxy_images.fits</td><td>real_galaxy_PSF_images.fits</td><td>1</td><td>1</td><td>0.029999999329447746</td><td>0.00010393599950475618</td><td>7.4736299211508594e-06</td><td>acs_I_unrot_sci_20_cf.fits</td><td>33.44311959116749</td><td>100438</td><td>22.200979232788086</td><td>13.603924751281738</td><td>0.7342000007629395</td><td>0.01578905677563159 .. 1.91160971094261</td><td>0.01493933423489759 .. -0.0004440736647923771</td><td>1 .. 1</td><td>0.0029888966204161954</td><td>0.0029388059905764777</td><td>0.044324963938440945</td><td>0</td><td>1</td><td>0.38209448346035796 .. 0.0</td><td>31.99924679153189 .. 0.0</td><td>1</td></tr>\n",
       "<tr><td>100533</td><td>150.117017</td><td>2.513069</td><td>20.32200050354004</td><td>F814W</td><td>0.23687998950481415</td><td>real_galaxy_images.fits</td><td>real_galaxy_PSF_images.fits</td><td>2</td><td>2</td><td>0.029999999329447746</td><td>0.00019905800581909716</td><td>8.22513993625762e-06</td><td>acs_I_unrot_sci_20_cf.fits</td><td>201.04986946238682</td><td>100533</td><td>20.32219123840332</td><td>23.171295166015625</td><td>0.22380000352859497</td><td>0.03511203544604802 .. 1.4490881213135633</td><td>0.03415228318180619 .. 1.6697366023423768</td><td>1 .. 1</td><td>0.0030970580808755283</td><td>0.0031782293617824073</td><td>0.10737603633293973</td><td>0</td><td>1</td><td>0.6013317558454855 .. 0.0</td><td>187.78195420617482 .. 0.0</td><td>2</td></tr>\n",
       "<tr><td>100791</td><td>150.149447</td><td>2.871754</td><td>20.058000564575195</td><td>F814W</td><td>0.2347399890422821</td><td>real_galaxy_images.fits</td><td>real_galaxy_PSF_images.fits</td><td>3</td><td>3</td><td>0.029999999329447746</td><td>0.00016025500372052193</td><td>6.637039859924698e-06</td><td>acs_I_unrot_sci_20_cf.fits</td><td>236.0436687207548</td><td>100791</td><td>20.05815887451172</td><td>17.304149627685547</td><td>0.3122999966144562</td><td>0.0656792215621598 .. 1.1052133237365194</td><td>0.058359646701952046 .. -1.7315340548399172</td><td>1 .. 1</td><td>0.004023517718423885</td><td>0.003975556501594396</td><td>0.0733716848474647</td><td>0</td><td>1</td><td>0.4996177225144924 .. 0.0</td><td>243.34457910089543 .. 0.0</td><td>3</td></tr>\n",
       "<tr><td>100914</td><td>150.124106</td><td>2.846929</td><td>22.128999710083008</td><td>F814W</td><td>0.23612001538276672</td><td>real_galaxy_images.fits</td><td>real_galaxy_PSF_images.fits</td><td>4</td><td>4</td><td>0.029999999329447746</td><td>9.832280193222687e-05</td><td>9.069870429812e-06</td><td>acs_I_unrot_sci_20_cf.fits</td><td>33.24559587794511</td><td>100914</td><td>22.128767013549805</td><td>20.705944061279297</td><td>0.6808000206947327</td><td>0.0019568804884850187 .. 0.0820812923346942</td><td>0.0014758288118854697 .. 0.006742219833494747</td><td>1 .. 1</td><td>0.0032767891235423313</td><td>0.002954859532591888</td><td>0.6125691915457947</td><td>1</td><td>1</td><td>0.9229527719633837 .. 0.8619243624592441</td><td>43.94858857356352 .. 38.648470647298524</td><td>4</td></tr>\n",
       "</table></div>"
      ],
      "text/plain": [
       "<Table length=5>\n",
       "IDENT_1     ra     ...                   flux                  btk_index\n",
       " int32   float64   ...                float64[4]                 int64  \n",
       "------- ---------- ... --------------------------------------- ---------\n",
       " 100027 150.141258 ...               114.39567400214578 .. 0.0         0\n",
       " 100438  150.13038 ...                31.99924679153189 .. 0.0         1\n",
       " 100533 150.117017 ...               187.78195420617482 .. 0.0         2\n",
       " 100791 150.149447 ...               243.34457910089543 .. 0.0         3\n",
       " 100914 150.124106 ... 43.94858857356352 .. 38.648470647298524         4"
      ]
     },
     "execution_count": null,
     "metadata": {},
     "output_type": "execute_result"
    }
   ],
   "source": [
    "catalog = btk.catalog.CosmosCatalog.from_file(COSMOS_CATALOG_PATHS, exclusion_level='bad_stamp')\n",
    "catalog.table[:5] # display 5 first entries of table containing the actual catalog information."
   ]
  },
  {
   "cell_type": "code",
   "execution_count": null,
   "metadata": {},
   "outputs": [],
   "source": [
    "from galcheat.utilities import get_survey, mag2counts\n",
    "survey = get_survey(\"COSMOS\")"
   ]
  },
  {
   "cell_type": "code",
   "execution_count": null,
   "metadata": {},
   "outputs": [
    {
     "data": {
      "text/latex": [
       "$207906 \\; \\mathrm{e^{-}}$"
      ],
      "text/plain": [
       "<Quantity 207906 electron>"
      ]
     },
     "execution_count": null,
     "metadata": {},
     "output_type": "execute_result"
    }
   ],
   "source": [
    "mag2counts(20.913, \"COSMOS\", \"f814w\")"
   ]
  },
  {
   "cell_type": "code",
   "execution_count": null,
   "metadata": {},
   "outputs": [],
   "source": []
  }
 ],
 "metadata": {
  "kernelspec": {
   "display_name": "btk310_1",
   "language": "python",
   "name": "python3"
  },
  "language_info": {
   "codemirror_mode": {
    "name": "ipython",
    "version": 3
   },
   "file_extension": ".py",
   "mimetype": "text/x-python",
   "name": "python",
   "nbconvert_exporter": "python",
   "pygments_lexer": "ipython3",
   "version": "3.10.11"
  }
 },
 "nbformat": 4,
 "nbformat_minor": 2
}
