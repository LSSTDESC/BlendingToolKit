{
 "cells": [
  {
   "cell_type": "markdown",
   "metadata": {},
   "source": [
    "### Examples of how to use btk\n",
    "This tutorial shows the basic functions and usages of btk. For a more detailed understanding of the btk pipeline refer to the [User Guide](https://blendingtoolkit.readthedocs.io/en/latest/user_guide.html) on the package [website](https://blendingtoolkit.readthedocs.io/en/latest/index.html). \n",
    "\n",
    "First, we show how to generate images of galaxy blends with btk. These multi-band images can be produced with or without noise along with the isolated images of the galaxies in the blend. \n",
    "\n",
    "Then we show how one can perform detection or deblending with btk. The user needs to input a btk.measure.Measurement_params class that contains functions to run the desired algorithm. Some example measurement classes can be found in btk/utils. In this notebook, we demonstare this with the following algorithms:\n",
    "1. Finding local maxima (skimage.feature.peak_local_max)\n",
    "2. SEP (Source Extractor in Python)\n",
    "2. DM Stack (LSST Science Pipeline)\n",
    "3. Scarlet (detection with SEP)"
   ]
  },
  {
   "cell_type": "code",
   "execution_count": null,
   "metadata": {
    "ExecuteTime": {
     "end_time": "2019-04-30T21:18:19.020824Z",
     "start_time": "2019-04-30T21:18:19.012046Z"
    }
   },
   "outputs": [],
   "source": [
    "%matplotlib inline\n",
    "import matplotlib.pyplot as plt\n",
    "import numpy as np\n",
    "import os\n",
    "import sys\n",
    "sys.path.insert(0,os.path.dirname(os.getcwd()))\n",
    "import btk\n",
    "import btk.plot_utils, btk.utils\n",
    "import astropy.table"
   ]
  },
  {
   "cell_type": "markdown",
   "metadata": {},
   "source": [
    "## Image generation with btk"
   ]
  },
  {
   "cell_type": "markdown",
   "metadata": {},
   "source": [
    "### Draw blend images with noise"
   ]
  },
  {
   "cell_type": "code",
   "execution_count": null,
   "metadata": {
    "ExecuteTime": {
     "end_time": "2019-04-30T21:16:02.061158Z",
     "start_time": "2019-04-30T21:16:02.055418Z"
    }
   },
   "outputs": [],
   "source": [
    "#Input catalog name\n",
    "catalog_name = os.path.join(os.path.dirname(os.getcwd()), 'data', 'sample_input_catalog.fits')\n",
    "\n",
    "# Load parame\\ters\n",
    "param = btk.config.Simulation_params(catalog_name, max_number=6, batch_size=2)\n",
    "np.random.seed(param.seed)\n",
    "\n",
    "#Load input catalog\n",
    "catalog = btk.get_input_catalog.load_catalog(param)\n",
    "\n",
    "#Generate catlogs of blended objects \n",
    "blend_generator = btk.create_blend_generator.generate(param, catalog)\n",
    "\n",
    "#Generates observing conditions for the selected survey_name and all input bands\n",
    "observing_generator = btk.create_observing_generator.generate(param)\n",
    "\n",
    "#Generate images of blends in all the observing bands\n",
    "draw_blend_generator = btk.draw_blends.generate(param, blend_generator, observing_generator) "
   ]
  },
  {
   "cell_type": "code",
   "execution_count": null,
   "metadata": {
    "ExecuteTime": {
     "end_time": "2019-04-30T21:16:02.061158Z",
     "start_time": "2019-04-30T21:16:02.055418Z"
    }
   },
   "outputs": [],
   "source": [
    "# This cell generates new batch_size number of blends each time it's executed\n",
    "\n",
    "# Draw blend\n",
    "blend_results = next(draw_blend_generator)\n",
    "output = blend_results\n",
    "blend_images = output['blend_images']\n",
    "isolated_images = output['isolated_images']\n",
    "blend_list = output['blend_list']\n",
    "# Plot blended images\n",
    "btk.plot_utils.plot_blends(blend_images, blend_list, limits=(30,90))"
   ]
  },
  {
   "cell_type": "markdown",
   "metadata": {},
   "source": [
    "### Draw isolated images of galaxies in blends. \n",
    "Here each galaxy in the blend is drawn in a separate postage stamp at the same location it was in the blend image"
   ]
  },
  {
   "cell_type": "code",
   "execution_count": null,
   "metadata": {
    "ExecuteTime": {
     "end_time": "2019-04-30T21:16:34.113748Z",
     "start_time": "2019-04-30T21:16:33.046053Z"
    }
   },
   "outputs": [],
   "source": [
    "# Plot blended images and the individual objects\n",
    "# Note: If scarlet is installed then Asinh mapping is used to display the images.\n",
    "btk.plot_utils.plot_with_isolated(blend_images, isolated_images,blend_list, limits=(30,90))"
   ]
  },
  {
   "cell_type": "markdown",
   "metadata": {},
   "source": [
    "### Running btk to output noiseless blend images"
   ]
  },
  {
   "cell_type": "code",
   "execution_count": null,
   "metadata": {},
   "outputs": [],
   "source": [
    "# add_noise set as False in the input config class \n",
    "param = btk.config.Simulation_params(catalog_name, max_number=6, batch_size=2, add_noise=False)\n",
    "np.random.seed(param.seed)\n",
    "catalog = btk.get_input_catalog.load_catalog(param)\n",
    "blend_genrator = btk.create_blend_generator.generate(param, catalog)\n",
    "observing_genrator = btk.create_observing_generator.generate(param)\n",
    "draw_blend_generator = btk.draw_blends.generate(param, blend_genrator, observing_genrator)  \n",
    "\n",
    "blend_results = next(draw_blend_generator)\n",
    "output = blend_results\n",
    "blend_images = output['blend_images']\n",
    "isolated_images = output['isolated_images']\n",
    "blend_list = output['blend_list']\n",
    "btk.plot_utils.plot_blends(blend_images, blend_list, limits=(30,90))"
   ]
  },
  {
   "cell_type": "code",
   "execution_count": null,
   "metadata": {},
   "outputs": [],
   "source": [
    "btk.plot_utils.plot_with_isolated(blend_images, isolated_images,blend_list, limits=(30,90))"
   ]
  },
  {
   "cell_type": "code",
   "execution_count": null,
   "metadata": {},
   "outputs": [],
   "source": []
  },
  {
   "cell_type": "markdown",
   "metadata": {},
   "source": [
    "We define a function to return draw_blend_generator so that we get the same datatset for different detection/deblending algorithms"
   ]
  },
  {
   "cell_type": "code",
   "execution_count": null,
   "metadata": {},
   "outputs": [],
   "source": [
    "def get_draw_blend_generator():\n",
    "    # Load parameters\n",
    "    #Input catalog name\n",
    "    catalog_name = os.path.join(os.path.dirname(os.getcwd()), 'data', 'sample_input_catalog.fits')\n",
    "    param = btk.config.Simulation_params(catalog_name,batch_size=2, max_number=6 )\n",
    "    np.random.seed(param.seed)\n",
    "\n",
    "    #Load input catalog\n",
    "    catalog = btk.get_input_catalog.load_catalog(param)\n",
    "\n",
    "    #Generate catlogs of blended objects \n",
    "    blend_generator = btk.create_blend_generator.generate(param, catalog)\n",
    "\n",
    "    #Generates observing conditions for the selected survey_name and all input bands\n",
    "    observing_generator = btk.create_observing_generator.generate(param)\n",
    "\n",
    "    #Generate images of blends in all the observing bands\n",
    "    draw_blend_generator = btk.draw_blends.generate(param, blend_generator, observing_generator)\n",
    "    return draw_blend_generator"
   ]
  },
  {
   "cell_type": "markdown",
   "metadata": {},
   "source": [
    "## Running Detection algorithms with btk"
   ]
  },
  {
   "cell_type": "markdown",
   "metadata": {},
   "source": [
    "### Finding local maxima with [scikit-image.peak_local_max](https://scikit-image.org/docs/dev/auto_examples/segmentation/plot_peak_local_max.html)\n",
    "\n",
    "Note: This requires skimage to have been installed"
   ]
  },
  {
   "cell_type": "code",
   "execution_count": null,
   "metadata": {
    "ExecuteTime": {
     "end_time": "2019-04-30T21:23:39.475966Z",
     "start_time": "2019-04-30T21:23:37.455953Z"
    }
   },
   "outputs": [],
   "source": [
    "# Make measurement generator\n",
    "# get class that describes how the measurement algorithm performs the measurement\n",
    "meas_params = btk.utils.Basic_measure_params()\n",
    "# get generator that yields measured values.\n",
    "meas_generator = btk.measure.generate(\n",
    "        meas_params, get_draw_blend_generator(), param)\n",
    "output, deb, _ = next(meas_generator)\n",
    "blend_list = output['blend_list']\n",
    "for i in range(len(blend_list)):\n",
    "    blend_images = output['blend_images'][i:i+1]\n",
    "    detected_centers = deb[i]['peaks']\n",
    "    true_centers = np.stack([blend_list[i]['dx'], blend_list[i]['dy']]).T\n",
    "    true_table = blend_list[i]\n",
    "    det_table = astropy.table.Table(detected_centers, names=('dx', 'dy'))\n",
    "    _, _, summary = btk.compute_metrics.evaluate_detection([true_table], [det_table], 0)\n",
    "    det, undet, spur = summary[0][1:4]\n",
    "    print(\"Out of %i objects, %i detected, %i undetected, & %i  spurious detections\"%(len(true_centers), det, undet, spur))\n",
    "    btk.plot_utils.plot_blends(blend_images, blend_list[i: i+1], [detected_centers],limits=(30,90))"
   ]
  },
  {
   "cell_type": "markdown",
   "metadata": {},
   "source": [
    "### Perform detection with SEP (Source Extraction and Photometry in Python)\n",
    "Note: This requires [sep](https://sep.readthedocs.io/en/v1.0.x/index.html#) to have been installed"
   ]
  },
  {
   "cell_type": "code",
   "execution_count": null,
   "metadata": {
    "ExecuteTime": {
     "end_time": "2019-04-30T21:25:27.775778Z",
     "start_time": "2019-04-30T21:25:25.648325Z"
    }
   },
   "outputs": [],
   "source": [
    "# Make measurement generator\n",
    "# This is a class that describes how the measurement algorithm performs the measurement\n",
    "meas_params = btk.utils.SEP_params()\n",
    "# Get generator that yields the measured values.\n",
    "meas_generator = btk.measure.generate(\n",
    "        meas_params, get_draw_blend_generator(), param)\n",
    "output, deb, _ = next(meas_generator)\n",
    "blend_list = output['blend_list']\n",
    "for i in range(len(blend_list)):\n",
    "    blend_images = output['blend_images'][i:i+1]\n",
    "    detected_centers = deb[i]['peaks']\n",
    "    true_centers = np.stack([blend_list[i]['dx'], blend_list[i]['dy']]).T\n",
    "    true_table = blend_list[i]\n",
    "    det_table = astropy.table.Table(detected_centers, names=('dx', 'dy'))\n",
    "    _, _, summary = btk.compute_metrics.evaluate_detection([true_table], [det_table], 0)\n",
    "    det, undet, spur = summary[0][1:4]\n",
    "    print(\"Out of %i objects, %i detected, %i undetected, & %i  spurious detections\"%(len(true_centers), det, undet, spur))\n",
    "    btk.plot_utils.plot_blends(blend_images, blend_list[i: i+1], [detected_centers],limits=(30,90))"
   ]
  },
  {
   "cell_type": "markdown",
   "metadata": {},
   "source": [
    "## Perform measurement with stack\n",
    "\n",
    "Note: This requires DM stack to have been installed"
   ]
  },
  {
   "cell_type": "code",
   "execution_count": null,
   "metadata": {},
   "outputs": [],
   "source": [
    "# Make measurement generator\n",
    "# This is a class that describes how the measurement algorithm performs the measurement\n",
    "meas_params = btk.utils.Stack_params()\n",
    "meas_generator = btk.measure.generate(meas_params, get_draw_blend_generator(), param)\n",
    "output, _, cat=next(meas_generator)\n",
    "blend_list = output['blend_list']\n",
    "for i in range(len(blend_list)):\n",
    "    blend_images = output['blend_images'][i:i+1]\n",
    "    detected_centers = np.array([cat[i]['base_NaiveCentroid_x'], cat[i]['base_NaiveCentroid_y']]).T\n",
    "    true_centers = np.stack([blend_list[i]['dx'], blend_list[i]['dy']]).T\n",
    "    true_table = blend_list[i]\n",
    "    det_table = astropy.table.Table(detected_centers, names=('dx', 'dy'))\n",
    "    _, _, summary = btk.compute_metrics.evaluate_detection([true_table], [det_table], 0)\n",
    "    det, undet, spur = summary[0][1:4]\n",
    "    print(\"Out of %i objects, %i detected, %i undetected, & %i  spurious detections\"%(len(true_centers), det, undet, spur))\n",
    "    btk.plot_utils.plot_blends(blend_images, blend_list[i: i+1], [detected_centers],limits=(30,90))"
   ]
  },
  {
   "cell_type": "code",
   "execution_count": null,
   "metadata": {},
   "outputs": [],
   "source": []
  },
  {
   "cell_type": "markdown",
   "metadata": {},
   "source": [
    "## Running Deblending algorithms with btk"
   ]
  },
  {
   "cell_type": "markdown",
   "metadata": {},
   "source": [
    "### Deblend with scarlet\n",
    "Note: This requires scarlet and sep to have been installed\n",
    "\n",
    "Here SEP first performs detection on the band-coadd image of teh blend.\n",
    "Using these centers as centers, scarlet models the scene. The deblended galaxies are plotted below."
   ]
  },
  {
   "cell_type": "code",
   "execution_count": null,
   "metadata": {},
   "outputs": [],
   "source": [
    "meas_params = btk.utils.Scarlet_params(show_scene=True)\n",
    "meas_generator = btk.measure.generate(\n",
    "    meas_params, get_draw_blend_generator(), param)\n",
    "output, deb,_ = next(meas_generator)\n",
    "blend_list = output['blend_list']\n",
    "blend_images = output['blend_images']\n",
    "deblend_images = [deb[i]['deblend_image'] for i in range(len(blend_list))]\n",
    "detected_centers = [deb[i]['peaks'] for i in range(len(blend_list))]"
   ]
  },
  {
   "cell_type": "code",
   "execution_count": null,
   "metadata": {},
   "outputs": [],
   "source": []
  },
  {
   "cell_type": "markdown",
   "metadata": {},
   "source": [
    "### Other things you can do\n",
    "## Draw segmentation map \n",
    "\n",
    "Segmentation map are identify pixels in the noiseless image that are above a certain threshold value."
   ]
  },
  {
   "cell_type": "code",
   "execution_count": null,
   "metadata": {
    "ExecuteTime": {
     "end_time": "2019-03-07T23:15:07.505805Z",
     "start_time": "2019-03-07T23:15:07.490825Z"
    }
   },
   "outputs": [],
   "source": [
    "from skimage.measure import find_contours\n",
    "from matplotlib.patches import Polygon\n",
    "def plot_with_isolated_seg(blend_images, isolated_images, obs_condition,\n",
    "                       blend_list, threshold =0.05, limits=None, detected_centers=None):\n",
    "    \"\"\"Plots blend images and isolated images of all objects in the blend as RGB(g,r,i) images\n",
    "    Segmentation map corresponds to i band (noiseless) image and threshold\n",
    "    \"\"\"\n",
    "    if detected_centers is None:\n",
    "        detected_centers = [[]]*len(blend_list)\n",
    "    for i in range(len(blend_list)): \n",
    "        bkgrnd = obs_condition[i][4].mean_sky_level**0.5 * threshold\n",
    "        plt.figure(figsize=(2,2))\n",
    "        images = np.transpose(blend_images[i, :, :, 1:4], axes=(2,0,1))\n",
    "        blend_img_rgb = btk.plot_utils.get_rgb_image(images)\n",
    "        blend_no_noise = np.sum(isolated_images[i][:, :, :, 3], axis = 0)\n",
    "        seg_map = btk.utils.make_true_seg_map(blend_no_noise, bkgrnd)\n",
    "        contours = find_contours(seg_map, 0.5)\n",
    "        for verts in contours:\n",
    "            verts = np.fliplr(verts) \n",
    "            p = Polygon(verts, facecolor=\"none\", edgecolor='r')\n",
    "            ax = plt.gca()\n",
    "            ax.add_patch(p)\n",
    "        plt.imshow(blend_img_rgb)  \n",
    "        plt.title(\"%i objects\"%len(blend_list[i]))\n",
    "        if limits:\n",
    "            plt.xlim(limits)\n",
    "            plt.ylim(limits)\n",
    "        plt.axis('off')\n",
    "        for cent in detected_centers[i]:\n",
    "            plt.plot(cent[0], cent[1],'go', fillstyle='none')\n",
    "        plt.show()\n",
    "        iso_blend = isolated_images[i]\n",
    "        num = iso_blend.shape[0]\n",
    "        plt.figure(figsize=(2*num, 2))\n",
    "        for j in range(num): \n",
    "            iso_images = np.transpose(iso_blend[j, :, :, 1:4], axes=(2,0,1))\n",
    "            iso_img_rgb = btk.plot_utils.get_rgb_image(iso_images, normalize_with_image=images)\n",
    "            seg_map = btk.utils.make_true_seg_map(isolated_images[i][j, :, :, 3], bkgrnd)\n",
    "            plt.subplot(1, num, j +1 )\n",
    "            plt.imshow(iso_img_rgb)\n",
    "            contours = find_contours(seg_map, 0.5)\n",
    "            for verts in contours:\n",
    "                verts = np.fliplr(verts)\n",
    "                p = Polygon(verts, facecolor=\"none\", edgecolor='r')\n",
    "                ax = plt.gca()\n",
    "                ax.add_patch(p) \n",
    "            if limits:\n",
    "                plt.xlim(limits)\n",
    "                plt.ylim(limits)\n",
    "            plt.axis('off')\n",
    "            if len(detected_centers[i]) > 0:\n",
    "                plt.plot(detected_centers[i][j][0], detected_centers[i][j][1],'go', fillstyle='none')\n",
    "        plt.show()\n"
   ]
  },
  {
   "cell_type": "code",
   "execution_count": null,
   "metadata": {
    "ExecuteTime": {
     "end_time": "2019-03-07T23:15:13.977352Z",
     "start_time": "2019-03-07T23:15:11.102756Z"
    }
   },
   "outputs": [],
   "source": [
    "\n",
    "draw_blend_generator = get_draw_blend_generator()\n",
    "\n",
    "blend_results = next(draw_blend_generator)\n",
    "output = blend_results\n",
    "blend_images = output['blend_images']\n",
    "isolated_images = output['isolated_images']\n",
    "blend_list = output['blend_list']\n",
    "\n",
    "\n",
    "# Segmentation threshold set at std of background in the i band. Segmentation defined for i band image\n",
    "plot_with_isolated_seg(blend_images, isolated_images, output['obs_condition'],\n",
    "                       blend_list, limits=(40,80), threshold=1)"
   ]
  },
  {
   "cell_type": "code",
   "execution_count": null,
   "metadata": {},
   "outputs": [],
   "source": []
  }
 ],
 "metadata": {
  "kernelspec": {
   "display_name": "Python 3",
   "language": "python",
   "name": "python3"
  },
  "language_info": {
   "codemirror_mode": {
    "name": "ipython",
    "version": 3
   },
   "file_extension": ".py",
   "mimetype": "text/x-python",
   "name": "python",
   "nbconvert_exporter": "python",
   "pygments_lexer": "ipython3",
   "version": "3.7.4"
  },
  "toc-autonumbering": false,
  "toc-showcode": false,
  "toc-showmarkdowntxt": false,
  "varInspector": {
   "cols": {
    "lenName": 16,
    "lenType": 16,
    "lenVar": 40
   },
   "kernels_config": {
    "python": {
     "delete_cmd_postfix": "",
     "delete_cmd_prefix": "del ",
     "library": "var_list.py",
     "varRefreshCmd": "print(var_dic_list())"
    },
    "r": {
     "delete_cmd_postfix": ") ",
     "delete_cmd_prefix": "rm(",
     "library": "var_list.r",
     "varRefreshCmd": "cat(var_dic_list()) "
    }
   },
   "types_to_exclude": [
    "module",
    "function",
    "builtin_function_or_method",
    "instance",
    "_Feature"
   ],
   "window_display": false
  }
 },
 "nbformat": 4,
 "nbformat_minor": 4
}
