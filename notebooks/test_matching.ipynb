{
 "cells": [
  {
   "cell_type": "code",
   "execution_count": null,
   "metadata": {},
   "outputs": [
    {
     "name": "stdout",
     "output_type": "stream",
     "text": [
      "The autoreload extension is already loaded. To reload it, use:\n",
      "  %reload_ext autoreload\n"
     ]
    }
   ],
   "source": [
    "%load_ext autoreload\n",
    "%autoreload 2"
   ]
  },
  {
   "attachments": {},
   "cell_type": "markdown",
   "metadata": {},
   "source": [
    "# Intro"
   ]
  },
  {
   "attachments": {},
   "cell_type": "markdown",
   "metadata": {},
   "source": [
    "Welcome to the BlendingToolKit (BTK) quickstart! This tutorial will guide you through the basic functionalities of BTK. If you are new to BTK, we recommend you to go through this notebook before moving on to the other tutorials.\n",
    "\n",
    "We will show you how to generate a catalog of galaxy blends, draw images of these blends, use algorithms implemented within BTK (e.g. SExtractor) to deblend these images, and finally use metrics within BTK to assess the performance of the deblender."
   ]
  },
  {
   "attachments": {},
   "cell_type": "markdown",
   "metadata": {},
   "source": [
    "# Setup\n",
    "\n",
    "First, we will need to import the relevant python packages and modules:"
   ]
  },
  {
   "cell_type": "code",
   "execution_count": null,
   "metadata": {},
   "outputs": [],
   "source": [
    "%matplotlib inline\n",
    "import numpy as np\n",
    "import os"
   ]
  },
  {
   "cell_type": "code",
   "execution_count": null,
   "metadata": {},
   "outputs": [],
   "source": [
    "import btk\n",
    "import btk.survey\n",
    "import btk.draw_blends\n",
    "import btk.catalog\n",
    "import btk.sampling_functions\n",
    "import astropy.table"
   ]
  },
  {
   "attachments": {},
   "cell_type": "markdown",
   "metadata": {},
   "source": [
    "# Drawing Blends"
   ]
  },
  {
   "attachments": {},
   "cell_type": "markdown",
   "metadata": {},
   "source": [
    "Before generating images of blends, we require some setup. \n",
    "\n",
    "**First**, we need to specify a catalog of galaxies to draw. We will use a subset of the CATSIM catalog, which contains `100` galaxies with realistic parameters.\n",
    "\n",
    "BTK uses a wrapper class (e.g. `btk.catalog.CatsimCatalog`) to store information about the galaxy catalog you pass in. You can easily import the CATSIM catalog from a FITS file using the `from_file` method as demonstrated here with our example catalog:"
   ]
  },
  {
   "cell_type": "code",
   "execution_count": null,
   "metadata": {},
   "outputs": [
    {
     "data": {
      "text/html": [
       "<div><i>Table length=5</i>\n",
       "<table id=\"table140401701285040\" class=\"table-striped table-bordered table-condensed\">\n",
       "<thead><tr><th>galtileid</th><th>ra</th><th>dec</th><th>redshift</th><th>fluxnorm_bulge</th><th>fluxnorm_disk</th><th>fluxnorm_agn</th><th>a_b</th><th>a_d</th><th>b_b</th><th>b_d</th><th>pa_bulge</th><th>pa_disk</th><th>u_ab</th><th>g_ab</th><th>r_ab</th><th>i_ab</th><th>z_ab</th><th>y_ab</th><th>ref_mag</th><th>btk_size</th></tr></thead>\n",
       "<thead><tr><th>int64</th><th>float64</th><th>float64</th><th>float64</th><th>float64</th><th>float64</th><th>float64</th><th>float64</th><th>float64</th><th>float64</th><th>float64</th><th>float64</th><th>float64</th><th>float64</th><th>float64</th><th>float64</th><th>float64</th><th>float64</th><th>float64</th><th>float64</th><th>float64</th></tr></thead>\n",
       "<tr><td>2200871446</td><td>1505.9509277292</td><td>-0.5342399817876</td><td>0.496377289295</td><td>0.0</td><td>1.4144730572e-17</td><td>0.0</td><td>0.0</td><td>0.278649687767</td><td>0.0</td><td>0.221303001046</td><td>0.0</td><td>307.344329834</td><td>25.9418621063</td><td>25.129743576</td><td>23.9588813782</td><td>23.3607368469</td><td>23.0723800659</td><td>22.9095973969</td><td>23.3607368469</td><td>1.29850754499422</td></tr>\n",
       "<tr><td>2205921112</td><td>1512.1024131744</td><td>-3.609359823168</td><td>1.89508104324</td><td>0.0</td><td>1.91501907101e-18</td><td>0.0</td><td>0.0</td><td>0.358063697815</td><td>0.0</td><td>0.313674807549</td><td>0.0</td><td>137.791702271</td><td>25.848903656</td><td>25.867565155</td><td>25.9179477692</td><td>25.9851398468</td><td>25.8779563904</td><td>25.7642536163</td><td>25.9851398468</td><td>1.6685768318179002</td></tr>\n",
       "<tr><td>2205010878</td><td>1524.3564605652</td><td>-11.266919877384</td><td>1.93795013428</td><td>0.0</td><td>2.15612608955e-18</td><td>0.0</td><td>0.0</td><td>0.444279909134</td><td>0.0</td><td>0.424689114094</td><td>0.0</td><td>233.972427368</td><td>25.5657653809</td><td>25.5659580231</td><td>25.6165962219</td><td>25.6957893372</td><td>25.6281528473</td><td>25.5399188995</td><td>25.6957893372</td><td>2.07034437656444</td></tr>\n",
       "<tr><td>2208734677</td><td>1515.910291668</td><td>-0.26135999942183996</td><td>1.16251754761</td><td>0.0</td><td>1.74001598433e-18</td><td>0.0</td><td>0.0</td><td>0.312852591276</td><td>0.0</td><td>0.180962398648</td><td>0.0</td><td>217.517120361</td><td>27.3159255981</td><td>27.4167633057</td><td>27.051820755</td><td>26.6737632751</td><td>25.9380722046</td><td>25.6458129883</td><td>26.6737632751</td><td>1.45789307534616</td></tr>\n",
       "<tr><td>2212241881</td><td>1523.4518051136</td><td>-7.851959858088</td><td>1.35479903221</td><td>0.0</td><td>1.11031595423e-18</td><td>0.0</td><td>0.0</td><td>0.414316505194</td><td>0.0</td><td>0.205554202199</td><td>0.0</td><td>226.523849487</td><td>27.3325939178</td><td>27.4470024109</td><td>27.3282527924</td><td>27.0680370331</td><td>26.7419490814</td><td>26.1817016602</td><td>27.0680370331</td><td>1.93071491420404</td></tr>\n",
       "</table></div>"
      ],
      "text/plain": [
       "<Table length=5>\n",
       "galtileid         ra       ...    ref_mag         btk_size     \n",
       "  int64        float64     ...    float64         float64      \n",
       "---------- --------------- ... ------------- ------------------\n",
       "2200871446 1505.9509277292 ... 23.3607368469   1.29850754499422\n",
       "2205921112 1512.1024131744 ... 25.9851398468 1.6685768318179002\n",
       "2205010878 1524.3564605652 ... 25.6957893372   2.07034437656444\n",
       "2208734677  1515.910291668 ... 26.6737632751   1.45789307534616\n",
       "2212241881 1523.4518051136 ... 27.0680370331   1.93071491420404"
      ]
     },
     "execution_count": null,
     "metadata": {},
     "output_type": "execute_result"
    }
   ],
   "source": [
    "catalog_name = \"../data/sample_input_catalog.fits\"\n",
    "catalog = btk.catalog.CatsimCatalog.from_file(catalog_name)\n",
    "catalog.table[:5] # display 5 first entries of table containing the actual catalog information."
   ]
  },
  {
   "attachments": {},
   "cell_type": "markdown",
   "metadata": {},
   "source": [
    "**Second**, we require specifying a *sampling function*. The sampling function is a custom class within BTK that is used to determine which galaxies are drawn for each blend and what their locations within the blend should be. \n",
    "\n",
    "Specifically, we implement this functionality with the `SamplingFunction` class, which is a `callable` like a function. It takes as argument the astropy table contained within the `Catalog` object above, selects galaxies to be drawn in a given blend, and returns their (possibly modified) entries. Usually the `ra` and `dec` columns of these entries are modified to be relative to the center of the postage stamp containing the blend. \n",
    "\n",
    "For this tutorial, we will use the *default sampling function*, this function is implemented in the `btk.sampling_functions` module and is called `DefaultSampling`. This function draws a random number of galaxies from the catalog, uniformly distributed between 1 and `max_number`, and places them randomly within the postage stamp with some maximum shift `max_shift` w.r.t the center of the postage stamp.\n",
    "\n",
    "The `DefaultSampling` function can be instantiated as follows:"
   ]
  },
  {
   "cell_type": "code",
   "execution_count": null,
   "metadata": {},
   "outputs": [],
   "source": [
    "stamp_size = 24.0  # Size of the stamp, in arcseconds\n",
    "max_number = 5     # Maximum number of galaxies in a blend\n",
    "max_shift = 3.0    # Maximum shift of the galaxies, in arcseconds\n",
    "seed = 1 # random seed for reproducibility purposes\n",
    "sampling_function = btk.sampling_functions.DefaultSampling(max_number=max_number, stamp_size=stamp_size, max_shift=max_shift, seed = seed)"
   ]
  },
  {
   "attachments": {},
   "cell_type": "markdown",
   "metadata": {},
   "source": [
    "Here is an example output of the `DefaultSampling` function:"
   ]
  },
  {
   "cell_type": "code",
   "execution_count": null,
   "metadata": {},
   "outputs": [
    {
     "data": {
      "text/html": [
       "<div><i>Table length=4</i>\n",
       "<table id=\"table140401152032832\" class=\"table-striped table-bordered table-condensed\">\n",
       "<thead><tr><th>galtileid</th><th>ra</th><th>dec</th><th>redshift</th><th>fluxnorm_bulge</th><th>fluxnorm_disk</th><th>fluxnorm_agn</th><th>a_b</th><th>a_d</th><th>b_b</th><th>b_d</th><th>pa_bulge</th><th>pa_disk</th><th>u_ab</th><th>g_ab</th><th>r_ab</th><th>i_ab</th><th>z_ab</th><th>y_ab</th><th>ref_mag</th><th>btk_size</th></tr></thead>\n",
       "<thead><tr><th>int64</th><th>float64</th><th>float64</th><th>float64</th><th>float64</th><th>float64</th><th>float64</th><th>float64</th><th>float64</th><th>float64</th><th>float64</th><th>float64</th><th>float64</th><th>float64</th><th>float64</th><th>float64</th><th>float64</th><th>float64</th><th>float64</th><th>float64</th><th>float64</th></tr></thead>\n",
       "<tr><td>2201661997</td><td>0.2288598793156691</td><td>-0.27901266311609074</td><td>2.06801533699</td><td>1.09825997775e-19</td><td>1.67955797375e-17</td><td>0.0</td><td>0.208737000823</td><td>0.378724396229</td><td>0.18357090652</td><td>0.122722901404</td><td>219.0519104</td><td>219.0519104</td><td>24.6160621643</td><td>23.9625110626</td><td>24.1768531799</td><td>24.0236854553</td><td>23.7659263611</td><td>23.7034015656</td><td>24.0236854553</td><td>1.7592851415402924</td></tr>\n",
       "<tr><td>2201104165</td><td>-1.021609701005447</td><td>-2.1957498165170115</td><td>0.812159895897</td><td>6.57883086866e-18</td><td>2.26453001134e-17</td><td>0.0</td><td>0.22702370584</td><td>0.191140606999</td><td>0.20540009439</td><td>0.0433686003089</td><td>24.3779182434</td><td>24.3779182434</td><td>25.9493045807</td><td>25.4186573029</td><td>24.5099773407</td><td>23.527223587</td><td>23.0481529236</td><td>22.813867569</td><td>23.527223587</td><td>0.7996899312496969</td></tr>\n",
       "<tr><td>2200871446</td><td>1.7305722205704264</td><td>-0.5813220813172246</td><td>0.496377289295</td><td>0.0</td><td>1.4144730572e-17</td><td>0.0</td><td>0.0</td><td>0.278649687767</td><td>0.0</td><td>0.221303001046</td><td>0.0</td><td>307.344329834</td><td>25.9418621063</td><td>25.129743576</td><td>23.9588813782</td><td>23.3607368469</td><td>23.0723800659</td><td>22.9095973969</td><td>23.3607368469</td><td>1.29850754499422</td></tr>\n",
       "<tr><td>2203664633</td><td>-1.18083102425013</td><td>-1.7792685559431023</td><td>1.43826675415</td><td>2.87464908402e-18</td><td>6.82620512451e-19</td><td>0.0</td><td>0.326700508595</td><td>0.0907427966595</td><td>0.279465585947</td><td>0.0626740008593</td><td>271.91583252</td><td>271.91583252</td><td>24.9983882904</td><td>25.0850524902</td><td>25.1815986633</td><td>25.1274318695</td><td>25.02277565</td><td>24.5629825592</td><td>25.1274318695</td><td>0.4670836444149558</td></tr>\n",
       "</table></div>"
      ],
      "text/plain": [
       "<Table length=4>\n",
       "galtileid          ra         ...    ref_mag         btk_size     \n",
       "  int64         float64       ...    float64         float64      \n",
       "---------- ------------------ ... ------------- ------------------\n",
       "2201661997 0.2288598793156691 ... 24.0236854553 1.7592851415402924\n",
       "2201104165 -1.021609701005447 ...  23.527223587 0.7996899312496969\n",
       "2200871446 1.7305722205704264 ... 23.3607368469   1.29850754499422\n",
       "2203664633  -1.18083102425013 ... 25.1274318695 0.4670836444149558"
      ]
     },
     "execution_count": null,
     "metadata": {},
     "output_type": "execute_result"
    }
   ],
   "source": [
    "blend_cat = sampling_function(catalog.table)\n",
    "blend_cat # ra and dec are now relative to the center of the blend (not the original ones)"
   ]
  },
  {
   "cell_type": "code",
   "execution_count": null,
   "metadata": {},
   "outputs": [],
   "source": [
    "blend_cat2 = blend_cat.copy()\n",
    "blend_cat2['ra'] = blend_cat2['ra'] + np.random.uniform(-0.5, 0.5, len(blend_cat2))\n",
    "blend_cat2['dec'] = blend_cat2['dec'] + np.random.uniform(-0.5, 0.5, len(blend_cat2))\n"
   ]
  },
  {
   "cell_type": "code",
   "execution_count": null,
   "metadata": {},
   "outputs": [
    {
     "data": {
      "text/html": [
       "<div><i>Table length=4</i>\n",
       "<table id=\"table140401709922144\" class=\"table-striped table-bordered table-condensed\">\n",
       "<thead><tr><th>galtileid</th><th>ra</th><th>dec</th><th>redshift</th><th>fluxnorm_bulge</th><th>fluxnorm_disk</th><th>fluxnorm_agn</th><th>a_b</th><th>a_d</th><th>b_b</th><th>b_d</th><th>pa_bulge</th><th>pa_disk</th><th>u_ab</th><th>g_ab</th><th>r_ab</th><th>i_ab</th><th>z_ab</th><th>y_ab</th><th>ref_mag</th><th>btk_size</th></tr></thead>\n",
       "<thead><tr><th>int64</th><th>float64</th><th>float64</th><th>float64</th><th>float64</th><th>float64</th><th>float64</th><th>float64</th><th>float64</th><th>float64</th><th>float64</th><th>float64</th><th>float64</th><th>float64</th><th>float64</th><th>float64</th><th>float64</th><th>float64</th><th>float64</th><th>float64</th><th>float64</th></tr></thead>\n",
       "<tr><td>2201661997</td><td>0.45204015035279743</td><td>-0.4197718435001935</td><td>2.06801533699</td><td>1.09825997775e-19</td><td>1.67955797375e-17</td><td>0.0</td><td>0.208737000823</td><td>0.378724396229</td><td>0.18357090652</td><td>0.122722901404</td><td>219.0519104</td><td>219.0519104</td><td>24.6160621643</td><td>23.9625110626</td><td>24.1768531799</td><td>24.0236854553</td><td>23.7659263611</td><td>23.7034015656</td><td>24.0236854553</td><td>1.7592851415402924</td></tr>\n",
       "<tr><td>2201104165</td><td>-0.5931599208822096</td><td>-2.260963093635469</td><td>0.812159895897</td><td>6.57883086866e-18</td><td>2.26453001134e-17</td><td>0.0</td><td>0.22702370584</td><td>0.191140606999</td><td>0.20540009439</td><td>0.0433686003089</td><td>24.3779182434</td><td>24.3779182434</td><td>25.9493045807</td><td>25.4186573029</td><td>24.5099773407</td><td>23.527223587</td><td>23.0481529236</td><td>22.813867569</td><td>23.527223587</td><td>0.7996899312496969</td></tr>\n",
       "<tr><td>2200871446</td><td>1.5173985052421237</td><td>-0.8782461046906186</td><td>0.496377289295</td><td>0.0</td><td>1.4144730572e-17</td><td>0.0</td><td>0.0</td><td>0.278649687767</td><td>0.0</td><td>0.221303001046</td><td>0.0</td><td>307.344329834</td><td>25.9418621063</td><td>25.129743576</td><td>23.9588813782</td><td>23.3607368469</td><td>23.0723800659</td><td>22.9095973969</td><td>23.3607368469</td><td>1.29850754499422</td></tr>\n",
       "<tr><td>2203664633</td><td>-1.308164643247067</td><td>-1.7473728050433674</td><td>1.43826675415</td><td>2.87464908402e-18</td><td>6.82620512451e-19</td><td>0.0</td><td>0.326700508595</td><td>0.0907427966595</td><td>0.279465585947</td><td>0.0626740008593</td><td>271.91583252</td><td>271.91583252</td><td>24.9983882904</td><td>25.0850524902</td><td>25.1815986633</td><td>25.1274318695</td><td>25.02277565</td><td>24.5629825592</td><td>25.1274318695</td><td>0.4670836444149558</td></tr>\n",
       "</table></div>"
      ],
      "text/plain": [
       "<Table length=4>\n",
       "galtileid           ra         ...    ref_mag         btk_size     \n",
       "  int64          float64       ...    float64         float64      \n",
       "---------- ------------------- ... ------------- ------------------\n",
       "2201661997 0.45204015035279743 ... 24.0236854553 1.7592851415402924\n",
       "2201104165 -0.5931599208822096 ...  23.527223587 0.7996899312496969\n",
       "2200871446  1.5173985052421237 ... 23.3607368469   1.29850754499422\n",
       "2203664633  -1.308164643247067 ... 25.1274318695 0.4670836444149558"
      ]
     },
     "execution_count": null,
     "metadata": {},
     "output_type": "execute_result"
    }
   ],
   "source": [
    "blend_cat2"
   ]
  },
  {
   "cell_type": "code",
   "execution_count": null,
   "metadata": {},
   "outputs": [],
   "source": [
    "from btk.utils import add_pixel_columns\n",
    "add_pixel_columns()"
   ]
  },
  {
   "cell_type": "markdown",
   "metadata": {},
   "source": [
    "## Matching"
   ]
  },
  {
   "cell_type": "code",
   "execution_count": null,
   "metadata": {},
   "outputs": [],
   "source": [
    "from btk.match import pixel_l2_distance_matrix\n",
    "from scipy.optimize import linear_sum_assignment\n",
    "import numpy as np"
   ]
  },
  {
   "cell_type": "code",
   "execution_count": null,
   "metadata": {},
   "outputs": [],
   "source": [
    "x1, y1 = np.array([1, 2, 3, 0.1]), np.array([1, 2, 3, 0.1])   \n",
    "x2, y2 = np.array([0.2, 1.5, 0.5]), np.array([0.2, 1.5, 0.5])\n",
    "\n",
    "s = np.array([1, 1, 20, 10, 0, 0, 0, 0])"
   ]
  },
  {
   "cell_type": "code",
   "execution_count": null,
   "metadata": {},
   "outputs": [],
   "source": [
    "mat = pixel_l2_distance_matrix(x1, y1, x2, y2)\n",
    "true_indx, pred_indx = linear_sum_assignment(mat)"
   ]
  },
  {
   "cell_type": "code",
   "execution_count": null,
   "metadata": {},
   "outputs": [
    {
     "name": "stdout",
     "output_type": "stream",
     "text": [
      "[0 1 3]\n",
      "[2 1 0]\n"
     ]
    }
   ],
   "source": [
    "print(true_indx)\n",
    "print(pred_indx)"
   ]
  },
  {
   "cell_type": "code",
   "execution_count": null,
   "metadata": {},
   "outputs": [
    {
     "data": {
      "text/plain": [
       "(array([1. , 2. , 0.1]), array([0.5, 1.5, 0.2]))"
      ]
     },
     "execution_count": null,
     "metadata": {},
     "output_type": "execute_result"
    }
   ],
   "source": [
    "x1[true_indx], x2[pred_indx]"
   ]
  },
  {
   "cell_type": "code",
   "execution_count": null,
   "metadata": {},
   "outputs": [
    {
     "data": {
      "text/plain": [
       "array([[-1, -1,  2],\n",
       "       [-1,  1, -1],\n",
       "       [-1, -1, -1],\n",
       "       [ 0, -1, -1]])"
      ]
     },
     "execution_count": null,
     "metadata": {},
     "output_type": "execute_result"
    }
   ],
   "source": [
    "matched_matrix = np.full(mat.shape, -1)\n",
    "matched_matrix[true_indx, pred_indx] = pred_indx\n",
    "matched_matrix"
   ]
  },
  {
   "cell_type": "code",
   "execution_count": null,
   "metadata": {},
   "outputs": [
    {
     "data": {
      "text/plain": [
       "[0, 1, 3]"
      ]
     },
     "execution_count": null,
     "metadata": {},
     "output_type": "execute_result"
    }
   ],
   "source": [
    "true_indx = [ii for ii, row in enumerate(matched_matrix) if np.any(row > -1)]\n",
    "true_indx "
   ]
  },
  {
   "cell_type": "code",
   "execution_count": null,
   "metadata": {},
   "outputs": [
    {
     "data": {
      "text/plain": [
       "array([ 1,  1, 10])"
      ]
     },
     "execution_count": null,
     "metadata": {},
     "output_type": "execute_result"
    }
   ],
   "source": [
    "s[true_indx]"
   ]
  },
  {
   "cell_type": "code",
   "execution_count": null,
   "metadata": {},
   "outputs": [
    {
     "data": {
      "text/plain": [
       "[0, 1, 2]"
      ]
     },
     "execution_count": null,
     "metadata": {},
     "output_type": "execute_result"
    }
   ],
   "source": [
    "pred_indx = [jj for jj,col in enumerate(matched_matrix.T) if np.any(col > -1)]\n",
    "pred_indx"
   ]
  },
  {
   "cell_type": "markdown",
   "metadata": {},
   "source": []
  }
 ],
 "metadata": {
  "kernelspec": {
   "display_name": "Python 3 (ipykernel)",
   "language": "python",
   "name": "python3"
  },
  "language_info": {
   "codemirror_mode": {
    "name": "ipython",
    "version": 3
   },
   "file_extension": ".py",
   "mimetype": "text/x-python",
   "name": "python",
   "nbconvert_exporter": "python",
   "pygments_lexer": "ipython3",
   "version": "3.10.11"
  },
  "latex_envs": {
   "LaTeX_envs_menu_present": true,
   "autoclose": false,
   "autocomplete": true,
   "bibliofile": "biblio.bib",
   "cite_by": "apalike",
   "current_citInitial": 1,
   "eqLabelWithNumbers": true,
   "eqNumInitial": 1,
   "hotkeys": {
    "equation": "meta-shift-y"
   },
   "labels_anchors": false,
   "latex_user_defs": false,
   "report_style_numbering": false,
   "user_envs_cfg": false
  },
  "toc": {
   "base_numbering": 1,
   "nav_menu": {},
   "number_sections": true,
   "sideBar": true,
   "skip_h1_title": false,
   "title_cell": "Table of Contents",
   "title_sidebar": "Contents",
   "toc_cell": false,
   "toc_position": {
    "height": "811.109375px",
    "left": "34px",
    "top": "110px",
    "width": "168.75px"
   },
   "toc_section_display": true,
   "toc_window_display": true
  },
  "toc-autonumbering": true,
  "toc-showcode": false,
  "toc-showmarkdowntxt": false,
  "toc-showtags": false,
  "vscode": {
   "interpreter": {
    "hash": "4040519260ba97c108b36f33e606617285580ee3cc88f560d6aaa311d215a2db"
   }
  }
 },
 "nbformat": 4,
 "nbformat_minor": 4
}
