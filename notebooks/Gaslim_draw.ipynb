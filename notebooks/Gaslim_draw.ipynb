{
 "cells": [
  {
   "cell_type": "markdown",
   "metadata": {},
   "source": [
    "**Summary:** \n",
    "This tutorial shows the basic functions and usages of btk. For a more detailed understanding of the btk pipeline refer to the [User Guide](https://blendingtoolkit.readthedocs.io/en/latest/user_guide.html) on the package [website](https://blendingtoolkit.readthedocs.io/en/latest/index.html). \n",
    "\n",
    "For instructions on how to download required dependencies take a look at this [page](https://blendingtoolkit.readthedocs.io/en/latest/install.html)."
   ]
  },
  {
   "cell_type": "markdown",
   "metadata": {},
   "source": [
    "# Setup"
   ]
  },
  {
   "cell_type": "code",
   "execution_count": 1,
   "metadata": {},
   "outputs": [],
   "source": [
    "# Autoreload packages in case they change.\n",
    "%load_ext autoreload\n",
    "%reload_ext autoreload"
   ]
  },
  {
   "cell_type": "code",
   "execution_count": 2,
   "metadata": {},
   "outputs": [],
   "source": [
    "%matplotlib inline\n",
    "import matplotlib.pyplot as plt\n",
    "import numpy as np\n",
    "import os\n",
    "import sys"
   ]
  },
  {
   "cell_type": "code",
   "execution_count": 3,
   "metadata": {},
   "outputs": [],
   "source": [
    "sys.path.insert(0,os.path.dirname(os.getcwd())) # add BlendingToolKit so we can import btk "
   ]
  },
  {
   "cell_type": "code",
   "execution_count": 4,
   "metadata": {},
   "outputs": [],
   "source": [
    "import btk\n",
    "import btk.plot_utils, btk.utils\n",
    "from btk.create_observing_generator import ObservingGenerator\n",
    "from btk.obs_conditions import CosmosObsConditions\n",
    "from btk.create_blend_generator import BlendGenerator\n",
    "from btk.sampling_functions import DefaultSampling\n",
    "from btk.obs_conditions import Rubin, Euclid, Roman\n",
    "\n",
    "import galsim\n",
    "import astropy.table\n",
    "import inspect\n",
    "import descwl"
   ]
  },
  {
   "cell_type": "code",
   "execution_count": 5,
   "metadata": {},
   "outputs": [],
   "source": [
    "import sklearn"
   ]
  },
  {
   "cell_type": "code",
   "execution_count": 6,
   "metadata": {},
   "outputs": [],
   "source": [
    "import scarlet \n",
    "import scarlet.display"
   ]
  },
  {
   "cell_type": "markdown",
   "metadata": {},
   "source": [
    "## Utility functions "
   ]
  },
  {
   "cell_type": "code",
   "execution_count": 7,
   "metadata": {},
   "outputs": [],
   "source": [
    "def make_histograms(*vals, labels=None, loc='best'):\n",
    "    # make a histogram of each np.array in vals. \n",
    "    labels = labels if labels else [None]*len(vals)   \n",
    "    bins = np.histogram(np.hstack(vals), bins=40)[1]  #get the bin edges\n",
    "    for val, label in zip(vals, labels): \n",
    "        plt.hist(val, bins, label=label, histtype='step')\n",
    "    plt.legend(loc=loc)"
   ]
  },
  {
   "cell_type": "markdown",
   "metadata": {},
   "source": [
    "# Set Params "
   ]
  },
  {
   "cell_type": "markdown",
   "metadata": {},
   "source": [
    "In this first part we establish a set of parameters that we'll be using throughout the tutorial. You can think of them as user-defined global variables that are used throughout the simulations in BTK. \n",
    "These parameters will be fixed throughout this tutorial as well. \n",
    "\n",
    "Note that the `verbose` flag is turned off, in case you would like additional messages that show the functionality you can turn it on. "
   ]
  },
  {
   "cell_type": "code",
   "execution_count": 8,
   "metadata": {},
   "outputs": [
    {
     "ename": "OSError",
     "evalue": "/Users/remy/Desktop/LSST_Project/GalSim/examples/data/COSMOS_25.2_training_sample/real_galaxy_catalog_25.2.fits not found.",
     "output_type": "error",
     "traceback": [
      "\u001b[0;31m---------------------------------------------------------------------------\u001b[0m",
      "\u001b[0;31mOSError\u001b[0m                                   Traceback (most recent call last)",
      "\u001b[0;32m<ipython-input-8-3b923894b184>\u001b[0m in \u001b[0;36m<module>\u001b[0;34m\u001b[0m\n\u001b[1;32m      5\u001b[0m                             \u001b[0;34m'data/COSMOS_25.2_training_sample'\u001b[0m\u001b[0;34m,\u001b[0m\u001b[0;34m\u001b[0m\u001b[0;34m\u001b[0m\u001b[0m\n\u001b[1;32m      6\u001b[0m                             'real_galaxy_catalog_25.2_fits.fits')]\n\u001b[0;32m----> 7\u001b[0;31m \u001b[0mgalsim_catalog\u001b[0m \u001b[0;34m=\u001b[0m \u001b[0mgalsim\u001b[0m\u001b[0;34m.\u001b[0m\u001b[0mCOSMOSCatalog\u001b[0m\u001b[0;34m(\u001b[0m\u001b[0mcatalog_names\u001b[0m\u001b[0;34m[\u001b[0m\u001b[0;36m0\u001b[0m\u001b[0;34m]\u001b[0m\u001b[0;34m)\u001b[0m\u001b[0;34m\u001b[0m\u001b[0;34m\u001b[0m\u001b[0m\n\u001b[0m\u001b[1;32m      8\u001b[0m \u001b[0mmax_number\u001b[0m \u001b[0;34m=\u001b[0m \u001b[0;36m6\u001b[0m \u001b[0;31m# Number of galaxies in a stamp\u001b[0m\u001b[0;34m\u001b[0m\u001b[0;34m\u001b[0m\u001b[0m\n\u001b[1;32m      9\u001b[0m \u001b[0mbatch_size\u001b[0m \u001b[0;34m=\u001b[0m \u001b[0;36m2\u001b[0m \u001b[0;31m# Number of stamps in a batch\u001b[0m\u001b[0;34m\u001b[0m\u001b[0;34m\u001b[0m\u001b[0m\n",
      "\u001b[0;32m~/Documents/stageAPC/DeblenderVAE/env/lib64/python3.7/site-packages/galsim/scene.py\u001b[0m in \u001b[0;36m__init__\u001b[0;34m(self, file_name, sample, dir, preload, use_real, exclusion_level, min_hlr, max_hlr, min_flux, max_flux, _nobjects_only)\u001b[0m\n\u001b[1;32m    177\u001b[0m \u001b[0;34m\u001b[0m\u001b[0m\n\u001b[1;32m    178\u001b[0m         \u001b[0;31m# Start by parsing the file name\u001b[0m\u001b[0;34m\u001b[0m\u001b[0;34m\u001b[0m\u001b[0;34m\u001b[0m\u001b[0m\n\u001b[0;32m--> 179\u001b[0;31m         \u001b[0mself\u001b[0m\u001b[0;34m.\u001b[0m\u001b[0mfull_file_name\u001b[0m\u001b[0;34m,\u001b[0m \u001b[0m_\u001b[0m\u001b[0;34m,\u001b[0m \u001b[0mself\u001b[0m\u001b[0;34m.\u001b[0m\u001b[0muse_sample\u001b[0m \u001b[0;34m=\u001b[0m \u001b[0m_parse_files_dirs\u001b[0m\u001b[0;34m(\u001b[0m\u001b[0mfile_name\u001b[0m\u001b[0;34m,\u001b[0m \u001b[0mdir\u001b[0m\u001b[0;34m,\u001b[0m \u001b[0msample\u001b[0m\u001b[0;34m)\u001b[0m\u001b[0;34m\u001b[0m\u001b[0;34m\u001b[0m\u001b[0m\n\u001b[0m\u001b[1;32m    180\u001b[0m \u001b[0;34m\u001b[0m\u001b[0m\n\u001b[1;32m    181\u001b[0m         \u001b[0;32mif\u001b[0m \u001b[0mself\u001b[0m\u001b[0;34m.\u001b[0m\u001b[0muse_real\u001b[0m \u001b[0;32mand\u001b[0m \u001b[0;32mnot\u001b[0m \u001b[0m_nobjects_only\u001b[0m\u001b[0;34m:\u001b[0m\u001b[0;34m\u001b[0m\u001b[0;34m\u001b[0m\u001b[0m\n",
      "\u001b[0;32m~/Documents/stageAPC/DeblenderVAE/env/lib64/python3.7/site-packages/galsim/real.py\u001b[0m in \u001b[0;36m_parse_files_dirs\u001b[0;34m(file_name, image_dir, sample)\u001b[0m\n\u001b[1;32m    854\u001b[0m         \u001b[0mfull_file_name\u001b[0m \u001b[0;34m=\u001b[0m \u001b[0mos\u001b[0m\u001b[0;34m.\u001b[0m\u001b[0mpath\u001b[0m\u001b[0;34m.\u001b[0m\u001b[0mjoin\u001b[0m\u001b[0;34m(\u001b[0m\u001b[0mimage_dir\u001b[0m\u001b[0;34m,\u001b[0m\u001b[0mfile_name\u001b[0m\u001b[0;34m)\u001b[0m\u001b[0;34m\u001b[0m\u001b[0;34m\u001b[0m\u001b[0m\n\u001b[1;32m    855\u001b[0m     \u001b[0;32mif\u001b[0m \u001b[0;32mnot\u001b[0m \u001b[0mos\u001b[0m\u001b[0;34m.\u001b[0m\u001b[0mpath\u001b[0m\u001b[0;34m.\u001b[0m\u001b[0misfile\u001b[0m\u001b[0;34m(\u001b[0m\u001b[0mfull_file_name\u001b[0m\u001b[0;34m)\u001b[0m\u001b[0;34m:\u001b[0m\u001b[0;34m\u001b[0m\u001b[0;34m\u001b[0m\u001b[0m\n\u001b[0;32m--> 856\u001b[0;31m         \u001b[0;32mraise\u001b[0m \u001b[0mOSError\u001b[0m\u001b[0;34m(\u001b[0m\u001b[0mfull_file_name\u001b[0m\u001b[0;34m+\u001b[0m\u001b[0;34m' not found.'\u001b[0m\u001b[0;34m)\u001b[0m\u001b[0;34m\u001b[0m\u001b[0;34m\u001b[0m\u001b[0m\n\u001b[0m\u001b[1;32m    857\u001b[0m \u001b[0;34m\u001b[0m\u001b[0m\n\u001b[1;32m    858\u001b[0m     \u001b[0;32mreturn\u001b[0m \u001b[0mfull_file_name\u001b[0m\u001b[0;34m,\u001b[0m \u001b[0mimage_dir\u001b[0m\u001b[0;34m,\u001b[0m \u001b[0muse_sample\u001b[0m\u001b[0;34m\u001b[0m\u001b[0;34m\u001b[0m\u001b[0m\n",
      "\u001b[0;31mOSError\u001b[0m: /Users/remy/Desktop/LSST_Project/GalSim/examples/data/COSMOS_25.2_training_sample/real_galaxy_catalog_25.2.fits not found."
     ]
    }
   ],
   "source": [
    "catalog_names = [os.path.join('/Users/remy/Desktop/LSST_Project/GalSim/examples/', \n",
    "                            'data/COSMOS_25.2_training_sample', \n",
    "                            'real_galaxy_catalog_25.2.fits'),\n",
    "                 os.path.join('/Users/remy/Desktop/LSST_Project/GalSim/examples/', \n",
    "                            'data/COSMOS_25.2_training_sample', \n",
    "                            'real_galaxy_catalog_25.2_fits.fits')]\n",
    "galsim_catalog = galsim.COSMOSCatalog(catalog_names[0])\n",
    "max_number = 6 # Number of galaxies in a stamp\n",
    "batch_size = 2 # Number of stamps in a batch\n",
    "stamp_size = 24.0 # Size of the desired stamp, in arcsecs (default to 24.0)\n",
    "survey= Roman\n",
    "\n",
    "np.random.seed(0)"
   ]
  },
  {
   "cell_type": "markdown",
   "metadata": {},
   "source": [
    "# Load Catalog"
   ]
  },
  {
   "cell_type": "markdown",
   "metadata": {},
   "source": [
    "Let's load the small catalog that we will be using. \n",
    "\n",
    "The file containing this catalog is defined in the `catalog_name` variable above."
   ]
  },
  {
   "cell_type": "code",
   "execution_count": null,
   "metadata": {},
   "outputs": [],
   "source": [
    "catalog = btk.catalog.CosmosCatalog.from_file(catalog_names)\n",
    "catalog_full = catalog.get_raw_catalog()\n",
    "\n",
    "# as you can see this is just a astropy table. \n",
    "print(type(catalog_full))\n",
    "print(len(catalog_full))"
   ]
  },
  {
   "cell_type": "markdown",
   "metadata": {},
   "source": [
    "As you can see this catalog only contains 100 entries. "
   ]
  },
  {
   "cell_type": "code",
   "execution_count": null,
   "metadata": {},
   "outputs": [],
   "source": [
    "# display available columns\n",
    "catalog_full.colnames"
   ]
  },
  {
   "cell_type": "markdown",
   "metadata": {},
   "source": [
    "## Selection function "
   ]
  },
  {
   "cell_type": "markdown",
   "metadata": {},
   "source": [
    "One can optionally apply selection function at this step, there is the basic selection function already implemented inside BTK in `btk.utils` that we will use as an example: "
   ]
  },
  {
   "cell_type": "code",
   "execution_count": null,
   "metadata": {},
   "outputs": [],
   "source": [
    "# After defining the function, you can use it like: \n",
    "catalog.apply_selection_function(btk.utils.basic_selection_function, 1, 25)\n",
    "table = catalog.table\n",
    "len(table)"
   ]
  },
  {
   "cell_type": "markdown",
   "metadata": {},
   "source": [
    "## Histograms "
   ]
  },
  {
   "cell_type": "code",
   "execution_count": null,
   "metadata": {},
   "outputs": [],
   "source": [
    "# let's see if our selection function is making sense by doing some histograms with the provided utility function.\n",
    "labels = ['full', 'default_selection']\n",
    "make_histograms(catalog_full['ref_mag'], table['ref_mag'], labels=labels, loc=2)\n",
    "plt.xlabel('reference magnitude', size=18)"
   ]
  },
  {
   "cell_type": "markdown",
   "metadata": {},
   "source": [
    "# Draw blends"
   ]
  },
  {
   "cell_type": "markdown",
   "metadata": {},
   "source": [
    "## Draw blend generator"
   ]
  },
  {
   "cell_type": "markdown",
   "metadata": {},
   "source": [
    "Now we get to play with some images :) We will put together all the generators we have built so far and create some images simulated with `galsim` by interfacing with the WLD package and BTK. \n",
    "\n",
    "We first need one more generator created from the other two generators: `draw_blend_generator`"
   ]
  },
  {
   "cell_type": "code",
   "execution_count": null,
   "metadata": {},
   "outputs": [],
   "source": [
    "#Generate images of blends in all the observing bands\n",
    "draw_blend_generator = btk.draw_blends.CosmosGenerator(catalog,\n",
    "                                                       galsim_catalog,\n",
    "                                                       DefaultSampling(),\n",
    "                                                       survey\n",
    "                                                       ) "
   ]
  },
  {
   "cell_type": "code",
   "execution_count": null,
   "metadata": {},
   "outputs": [],
   "source": [
    "# This cell generates new `batch_size` number of blends each time it's executed\n",
    "\n",
    "# Draw blend\n",
    "blend_results = next(draw_blend_generator)\n",
    "output = blend_results\n",
    "blend_images = output['blend_images']\n",
    "isolated_images = output['isolated_images']\n",
    "blend_list = output['blend_list']"
   ]
  },
  {
   "cell_type": "code",
   "execution_count": null,
   "metadata": {},
   "outputs": [],
   "source": [
    "output.keys()"
   ]
  },
  {
   "cell_type": "markdown",
   "metadata": {},
   "source": [
    "Note the following: \n",
    "\n",
    "- Each time the function `next` is used on `draw_blend_generator` a fresh batch of data is simulated (based on your pre-specified `blend_generator` and `observing_generator`.\n",
    "\n",
    "- The output of the `draw_blend_generator` is a `dict` containing the following: \n",
    "\n",
    "    - `blend_images`: A `np.array` of shape `batch_size x stamp_size x stamp_size x n_bands`. This contains the actual postage stamps with the blends.\n",
    "                        \n",
    "    - `isolated_images`: A `np.array` of shape `batch_size x max_objects x stamp_size x stamp_size x n_bands`. This contains the images that were added together the create the `blend_images`.   \n",
    "    \n",
    "    - `blend_list`: A list of `astropy.Table`s containing the source catalog of each blend in the batch. \n",
    "    \n",
    "    - `obs_condition`: A list of `batch_size` of list of `n_bands` observing conditions  `n_bands` that is used for every element in the batch. \n",
    "    \n",
    "    - `wcs`: A list of `astropy.wcs.WCS` objects, which can be used to convert sky coordinates to pixel coordinates (and reverse)"
   ]
  },
  {
   "cell_type": "markdown",
   "metadata": {},
   "source": [
    "## Draw some blends!"
   ]
  },
  {
   "cell_type": "code",
   "execution_count": null,
   "metadata": {},
   "outputs": [],
   "source": [
    "# Plot blended images\n",
    "btk.plot_utils.plot_blends(blend_images, blend_list, limits=(30,90))\n",
    "\n",
    "#this also shows the true centers of the drawn galaxies with a red 'x'"
   ]
  },
  {
   "cell_type": "markdown",
   "metadata": {},
   "source": [
    "In case you would also like to see each individual source in the blend you can take a look at the `isolated_images` "
   ]
  },
  {
   "cell_type": "code",
   "execution_count": null,
   "metadata": {},
   "outputs": [],
   "source": [
    "# plot the first source in the first blend in the 'i' band. \n",
    "# mark its appropriate position manually from the blend list. \n",
    "im = plt.imshow(isolated_images[0][0][...,3])\n",
    "plt.scatter(blend_list[0][0]['dx'], blend_list[0][0]['dy'], marker='x', color='r')\n",
    "plt.colorbar(im)\n"
   ]
  },
  {
   "cell_type": "markdown",
   "metadata": {},
   "source": [
    "# Create Measure generator "
   ]
  },
  {
   "cell_type": "markdown",
   "metadata": {},
   "source": [
    "In this next part, we will see how we can combine the functionality of creating blends in BTK  with your favorite detection/deblending/measurement algorithms. \n",
    "\n",
    "For simplicity let's start by defining everything we did so far in one function. "
   ]
  },
  {
   "cell_type": "code",
   "execution_count": null,
   "metadata": {},
   "outputs": [],
   "source": [
    "def get_draw_blend_generator():\n",
    "    # Load parameters\n",
    "    #Input catalog name\n",
    "    catalog_name = os.path.join(os.path.dirname(os.getcwd()), 'data', 'sample_input_catalog.fits')\n",
    "    batch_size = 2\n",
    "    max_number = 5\n",
    "    survey_name = \"LSST\"\n",
    "    stamp_size = 24.0\n",
    "    np.random.seed(0)\n",
    "\n",
    "    #Load input catalog\n",
    "    catalog = btk.catalog.WLDCatalog.from_file(catalog_name)\n",
    "\n",
    "    #Generate catalogs of blended objects \n",
    "    blend_generator = btk.create_blend_generator.BlendGenerator(catalog,\n",
    "                                                                btk.sampling_functions.DefaultSampling(max_number,stamp_size),\n",
    "                                                                batch_size)\n",
    "\n",
    "    #Generates observing conditions for the selected survey_name and all input bands\n",
    "    observing_generator = btk.create_observing_generator.ObservingGenerator(survey,\n",
    "                                                                            obs_conds=CosmosObsConditions(stamp_size), \n",
    "                                                                            stamp_size=stamp_size)\n",
    "\n",
    "    #Generate images of blends in all the observing bands\n",
    "    draw_blend_generator = btk.draw_blends.CosmosGenerator(catalog,\n",
    "                                                           galsim_catalog\n",
    "                                                        btk.sampling_functions.DefaultSampling(max_number,stamp_size),)\n",
    "    return draw_blend_generator"
   ]
  },
  {
   "cell_type": "code",
   "execution_count": null,
   "metadata": {},
   "outputs": [],
   "source": [
    "draw_blend_generator = get_draw_blend_generator()"
   ]
  },
  {
   "cell_type": "markdown",
   "metadata": {},
   "source": [
    "Measurement/Deblending in BTK is structured very similarly to the previous approaches: using a generator. The reason for this is that the measurement might produce additional images or data that is later summarized, so it makes sense to not store it all at once but rather aggregate at the end if desired. "
   ]
  },
  {
   "cell_type": "markdown",
   "metadata": {},
   "source": [
    "The functionality that a user needs to add to BTK in order to specify their own algorithm is summarized in a class `btk.measure.Measurement_params`. You need to implement at least one of two functions:\n",
    "\n",
    "- `make_measurement`: Given a dictionary `data` (`output` in the above section) return an astropy table with the measurements you made (fluxes, shapes, size, etc.) for each object in the blend. \n",
    "\n",
    "- `get_deblended_images`: Return output of deblending algorithm as dict. \n",
    "\n",
    "We will now walk through an example demonstration. "
   ]
  },
  {
   "cell_type": "markdown",
   "metadata": {},
   "source": [
    "Here is an example class to perform peak detection with sklearn that is copied from `btk.utils` :"
   ]
  },
  {
   "cell_type": "markdown",
   "metadata": {},
   "source": [
    "## Basic Detection algorithm "
   ]
  },
  {
   "cell_type": "code",
   "execution_count": null,
   "metadata": {},
   "outputs": [],
   "source": [
    "from btk.measure import Measurement_params\n",
    "class Basic_measure_params(Measurement_params):\n",
    "    \"\"\"Class to perform detection by identifying peaks with skimage\"\"\"\n",
    "\n",
    "    def get_centers(self, image):\n",
    "        # set detection threshold to 5 times std of image\n",
    "        threshold = 5 * np.std(image)\n",
    "        coordinates = skimage.feature.peak_local_max(image, min_distance=2,\n",
    "                                                     threshold_abs=threshold)\n",
    "        return np.stack((coordinates[:, 1], coordinates[:, 0]), axis=1)\n",
    "\n",
    "    def get_deblended_images(self, data, index):\n",
    "        \"\"\"Returns scarlet modeled blend and centers for the given blend\"\"\"\n",
    "        image = np.mean(data['blend_images'][index], axis=2)  # don't use multi-band information. \n",
    "        peaks = self.get_centers(image)\n",
    "        return {'deblend_image': None, 'peaks': peaks}"
   ]
  },
  {
   "cell_type": "code",
   "execution_count": null,
   "metadata": {},
   "outputs": [],
   "source": [
    "#this is how we specify the measurement params\n",
    "meas_params = btk.utils.Basic_measure_params()"
   ]
  },
  {
   "cell_type": "code",
   "execution_count": null,
   "metadata": {},
   "outputs": [],
   "source": [
    "# get generator that yields measured values by running the algorithm in the images from the draw_blend_generator. \n",
    "# you can also turn on multiprocessing in this step in case your algorithm is CPU intensive. \n",
    "meas_generator = btk.measure.MeasureGenerator(\n",
    "        meas_params, get_draw_blend_generator())"
   ]
  },
  {
   "cell_type": "code",
   "execution_count": null,
   "metadata": {},
   "outputs": [],
   "source": [
    "output, deb, _ = next(meas_generator)  # obtain simulation measurement output for this next batch. \n",
    "blend_list = output['blend_list']\n",
    "for i in range(len(blend_list)):\n",
    "    blend_images = output['blend_images'][i:i+1]\n",
    "    detected_centers = deb[i]['peaks']\n",
    "    true_centers = np.stack([blend_list[i]['dx'], blend_list[i]['dy']]).T\n",
    "    true_table = blend_list[i]\n",
    "    det_table = astropy.table.Table(detected_centers, names=('dx', 'dy'))\n",
    "    _, _, summary = btk.compute_metrics.evaluate_detection([true_table], [det_table], 0)\n",
    "    det, undet, spur = summary[0][1:4]\n",
    "    print(\"Out of %i objects, %i detected, %i undetected, & %i  spurious detections\"%(len(true_centers), det, undet, spur))\n",
    "    btk.plot_utils.plot_blends(blend_images, blend_list[i: i+1], [detected_centers],limits=(30,90))"
   ]
  },
  {
   "cell_type": "markdown",
   "metadata": {},
   "source": [
    "We can see how to basic `skimage` algorithm misses detection when the amount of blending is considerable. "
   ]
  },
  {
   "cell_type": "markdown",
   "metadata": {},
   "source": [
    "## Deblending with Scarlet "
   ]
  },
  {
   "cell_type": "markdown",
   "metadata": {},
   "source": [
    "There is already an implementation of Scarlet as `Measurement_params`, take a look in `utils.measure.Scarlet_params`. We will walk through it step by step in this section. "
   ]
  },
  {
   "cell_type": "code",
   "execution_count": null,
   "metadata": {},
   "outputs": [],
   "source": [
    "# get output from draw_blend_generator and let's look at the blends. \n",
    "output = next(get_draw_blend_generator())\n",
    "blend_images = output['blend_images']\n",
    "blend_list = output['blend_list']\n",
    "obs_conds = output['obs_condition']\n",
    "btk.plot_utils.plot_blends(blend_images, blend_list, limits=(30,90))"
   ]
  },
  {
   "cell_type": "markdown",
   "metadata": {},
   "source": [
    "Let's try to deblend the second image which has two galaxies that look somewhat blended. \n"
   ]
  },
  {
   "cell_type": "code",
   "execution_count": null,
   "metadata": {},
   "outputs": [],
   "source": [
    "catalog = blend_list[1] \n",
    "\n",
    "#make the order of the axis convention match that of scarlet \n",
    "images = np.transpose(blend_images[1], axes=(2,0,1))  # shape = (6, 120, 120 )\n",
    "\n",
    "bands = np.array([obs_cond.filter_band for obs_cond in obs_conds], dtype=str)\n",
    "\n",
    " # use the true peaks and organize them. \n",
    "peaks = np.stack((catalog['dx'], catalog['dy']), axis=1) "
   ]
  },
  {
   "cell_type": "markdown",
   "metadata": {},
   "source": [
    "First we define an utility function for obtaining the true PSF used to create the image. "
   ]
  },
  {
   "cell_type": "code",
   "execution_count": null,
   "metadata": {},
   "outputs": [],
   "source": [
    "from functools import partial \n",
    "\n",
    "def get_psf_sky(obs_cond, psf_stamp_size):\n",
    "    \"\"\"Returns postage stamp image of the PSF and mean background sky\n",
    "    level value saved in the input obs_cond class\n",
    "    Args:\n",
    "        obs_cond:`descwl.survey.Survey` class describing observing\n",
    "            conditions.\n",
    "        psf_stamp_size: Size of postage stamp to draw PSF on in pixels.\n",
    "    Returns:\n",
    "        `np.ndarray`: Postage stamp image of PSF\n",
    "        float: Mean of sky background\n",
    "\n",
    "    \"\"\"\n",
    "    mean_sky_level = obs_cond.mean_sky_level\n",
    "    psf = obs_cond.psf_model\n",
    "    psf_image = psf.drawImage(\n",
    "        scale=obs_cond.pixel_scale,\n",
    "        nx=psf_stamp_size,\n",
    "        ny=psf_stamp_size).array\n",
    "    return psf_image, mean_sky_level"
   ]
  },
  {
   "cell_type": "markdown",
   "metadata": {},
   "source": [
    "We now proceed to initialize scarlet, the following procedure is based heavily on the Scarlet tutorial which I recommend checking out: https://pmelchior.github.io/scarlet/0-quickstart.html"
   ]
  },
  {
   "cell_type": "code",
   "execution_count": null,
   "metadata": {},
   "outputs": [],
   "source": [
    "#create model psf. \n",
    "model_psf = scarlet.GaussianPSF(sigma=(0.8,)*len(bands))\n",
    "\n",
    "#create a frame for the model using the model_psf. \n",
    "model_frame = scarlet.Frame(\n",
    "    images.shape,\n",
    "    psfs=model_psf,\n",
    "    channels=bands)"
   ]
  },
  {
   "cell_type": "code",
   "execution_count": null,
   "metadata": {},
   "outputs": [],
   "source": [
    "# Now we need to do some setting up to define the observation. \n",
    "psf_stamp_size=41\n",
    "n_bands = len(bands)\n",
    "psfs = np.zeros((n_bands, psf_stamp_size, psf_stamp_size),\n",
    "                dtype=np.float32)\n",
    "variances = np.zeros_like(images)\n",
    "\n",
    "for i in range(n_bands): \n",
    "    psf, mean_sky_level = get_psf_sky(\n",
    "        obs_conds[i], psf_stamp_size)\n",
    "    psfs[i] = psf\n",
    "    variances[i] = images[i] + mean_sky_level\n"
   ]
  },
  {
   "cell_type": "code",
   "execution_count": null,
   "metadata": {},
   "outputs": [],
   "source": [
    "# observation frame based on the image. \n",
    "observation = scarlet.Observation(\n",
    "    images,\n",
    "    psfs=scarlet.ImagePSF(psfs),\n",
    "    weights=1. / variances,\n",
    "    channels=bands).match(model_frame)"
   ]
  },
  {
   "cell_type": "code",
   "execution_count": null,
   "metadata": {},
   "outputs": [],
   "source": [
    "#specify the fitting model using the true centers and some constraints. \n",
    "sources = []\n",
    "for n, peak in enumerate(peaks):\n",
    "    result = scarlet.ExtendedSource(\n",
    "        model_frame, (peak[1], peak[0]), observation, thresh=1, shifting=True)\n",
    "    sources.append(result)"
   ]
  },
  {
   "cell_type": "code",
   "execution_count": null,
   "metadata": {},
   "outputs": [],
   "source": [
    "# perform the fit of the blended sscene. \n",
    "iters=200\n",
    "blend = scarlet.Blend(sources, observation)\n",
    "%time it, logL = blend.fit(iters, e_rel=1e-6)\n",
    "print(f\"scarlet ran for {it} iterations to logL = {logL}\")\n",
    "scarlet.display.show_likelihood(blend)\n",
    "plt.show()"
   ]
  },
  {
   "cell_type": "code",
   "execution_count": null,
   "metadata": {},
   "outputs": [],
   "source": [
    "# use an btk internal plotting tool to get the visualization. \n",
    "btk.plot_utils.show_scarlet_residual(blend, observation, limits=(30,90))"
   ]
  },
  {
   "cell_type": "code",
   "execution_count": null,
   "metadata": {},
   "outputs": [],
   "source": [
    "# Looks pretty good :) "
   ]
  },
  {
   "cell_type": "markdown",
   "metadata": {},
   "source": [
    "In case you want to look at what this function is doing internally: "
   ]
  },
  {
   "cell_type": "code",
   "execution_count": null,
   "metadata": {},
   "outputs": [],
   "source": [
    "# get the model resulting form the fit and render it into the observationn frame\n",
    "# these resizes the model to the original image size. \n",
    "model = blend.get_model()\n",
    "model_ = observation.render(model)\n",
    "residual = images-model_\n",
    "\n",
    "# finally plot residual. \n",
    "plt.imshow(scarlet.display.img_to_rgb(residual))"
   ]
  }
 ],
 "metadata": {
  "kernelspec": {
   "display_name": "APC",
   "language": "python",
   "name": "apc"
  },
  "language_info": {
   "codemirror_mode": {
    "name": "ipython",
    "version": 3
   },
   "file_extension": ".py",
   "mimetype": "text/x-python",
   "name": "python",
   "nbconvert_exporter": "python",
   "pygments_lexer": "ipython3",
   "version": "3.7.8"
  },
  "latex_envs": {
   "LaTeX_envs_menu_present": true,
   "autoclose": false,
   "autocomplete": true,
   "bibliofile": "biblio.bib",
   "cite_by": "apalike",
   "current_citInitial": 1,
   "eqLabelWithNumbers": true,
   "eqNumInitial": 1,
   "hotkeys": {
    "equation": "meta-shift-y"
   },
   "labels_anchors": false,
   "latex_user_defs": false,
   "report_style_numbering": false,
   "user_envs_cfg": false
  },
  "toc": {
   "base_numbering": 1,
   "nav_menu": {},
   "number_sections": false,
   "sideBar": true,
   "skip_h1_title": false,
   "title_cell": "Table of Contents",
   "title_sidebar": "Contents",
   "toc_cell": false,
   "toc_position": {
    "height": "811.111px",
    "left": "216px",
    "top": "257.052px",
    "width": "365.764px"
   },
   "toc_section_display": true,
   "toc_window_display": true
  },
  "toc-autonumbering": true,
  "toc-showcode": false,
  "toc-showmarkdowntxt": false,
  "toc-showtags": false
 },
 "nbformat": 4,
 "nbformat_minor": 4
}
