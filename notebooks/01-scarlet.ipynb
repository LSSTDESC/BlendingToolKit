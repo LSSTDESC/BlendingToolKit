{
 "cells": [
  {
   "cell_type": "code",
   "execution_count": null,
   "metadata": {},
   "outputs": [],
   "source": [
    "%load_ext autoreload\n",
    "%autoreload 2"
   ]
  },
  {
   "cell_type": "markdown",
   "metadata": {},
   "source": [
    "# Intro"
   ]
  },
  {
   "cell_type": "markdown",
   "metadata": {},
   "source": [
    "In this tutorial we will demonstrate how to apply the Scarlet deblender to blends created from BTK. It assumes you are familiar with the quickstart tutorial: ``00-quickstart.ipynb``.\n",
    "\n",
    "You also need to ensure that you have scarlet installed following the instructions here: **XYZ**"
   ]
  },
  {
   "cell_type": "markdown",
   "metadata": {},
   "source": [
    "# Setup\n",
    "\n",
    "First, we will need to import the relevant python packages and modules:"
   ]
  },
  {
   "cell_type": "code",
   "execution_count": null,
   "metadata": {},
   "outputs": [],
   "source": [
    "%matplotlib inline\n",
    "import numpy as np\n",
    "import matplotlib.pyplot as plt\n",
    "\n",
    "import btk"
   ]
  },
  {
   "cell_type": "code",
   "execution_count": null,
   "metadata": {},
   "outputs": [],
   "source": [
    "import scarlet # should run without error"
   ]
  },
  {
   "cell_type": "markdown",
   "metadata": {},
   "source": [
    "Now we will setup the draw blend generator for creating BTK blends. We copy the same one from the quickstart tutorial."
   ]
  },
  {
   "cell_type": "code",
   "execution_count": null,
   "metadata": {},
   "outputs": [],
   "source": [
    "max_n_sources = 3\n",
    "stamp_size = 24.0\n",
    "seed = 0\n",
    "max_shift = 2.0\n",
    "\n",
    "catalog = btk.catalog.CatsimCatalog.from_file('../data/input_catalog.fits')\n",
    "sampling_function = btk.sampling_functions.DefaultSampling(\n",
    "    max_number=max_n_sources, min_number=max_n_sources, # always 3 sources in every blend.\n",
    "    stamp_size=stamp_size, \n",
    "    max_shift=2.0, # shift is only 2 arcsecs = 10 pixels, which means blends are likely.\n",
    "    min_mag = 24, max_mag = 25,\n",
    "    seed = seed)\n",
    "LSST = btk.survey.get_surveys('LSST')\n",
    "\n",
    "batch_size = 100\n",
    "\n",
    "draw_generator = btk.draw_blends.CatsimGenerator(\n",
    "    catalog,\n",
    "    sampling_function,\n",
    "    LSST,\n",
    "    batch_size=batch_size,\n",
    "    stamp_size=stamp_size,\n",
    "    njobs=1,\n",
    "    add_noise=\"all\",\n",
    "    seed=seed, # use same seed here\n",
    ")"
   ]
  },
  {
   "cell_type": "code",
   "execution_count": null,
   "metadata": {},
   "outputs": [
    {
     "data": {
      "text/plain": [
       "BlendBatch(survey_name=LSST, \n",
       "\t blend_images: np.ndarray, shape [100, 6, 120, 120]\n",
       "\t isolated_images: np.ndarray, shape [100, 3, 6, 120, 120]\n",
       "\t catalog_list: list of <class 'astropy.table.table.Table'>, size 100\n",
       "\t psfs: list of <class 'galsim.gsobject.GSObject'>, size 6\n",
       "\t wcs: <class 'astropy.wcs.wcs.WCS'>)"
      ]
     },
     "execution_count": null,
     "metadata": {},
     "output_type": "execute_result"
    }
   ],
   "source": [
    "blend_batch = next(draw_generator)\n",
    "blend_batch"
   ]
  },
  {
   "cell_type": "markdown",
   "metadata": {},
   "source": [
    "# Run scarlet"
   ]
  },
  {
   "cell_type": "markdown",
   "metadata": {},
   "source": [
    "We can use the `Scarlet` class from BTK to run scarlet on the blend generated. "
   ]
  },
  {
   "cell_type": "code",
   "execution_count": null,
   "metadata": {},
   "outputs": [],
   "source": [
    "# use default scarlet settings, but can be customized here (see API)\n",
    "deblender = btk.deblend.Scarlet(max_n_sources) "
   ]
  },
  {
   "cell_type": "markdown",
   "metadata": {},
   "source": [
    "Scarlet needs detections to deblend sources. We pass in the truth catalog as the `reference_catalog` which are the detections it uses."
   ]
  },
  {
   "cell_type": "code",
   "execution_count": null,
   "metadata": {},
   "outputs": [
    {
     "data": {
      "text/plain": [
       "DeblendExample(max_n_sources = 3, n_bands = 6, image_size = 120), \n",
       " containing: \n",
       "\tcatalog: <class 'astropy.table.table.Table'>\n",
       "\tsegmentation: None\n",
       "\tdeblended_images: <class 'numpy.ndarray'>, shape [3, 6, 120, 120]"
      ]
     },
     "execution_count": null,
     "metadata": {},
     "output_type": "execute_result"
    }
   ],
   "source": [
    "deblend_ex = deblender.deblend(0, blend_batch, reference_catalogs=blend_batch.catalog_list)\n",
    "deblend_ex"
   ]
  },
  {
   "cell_type": "markdown",
   "metadata": {},
   "source": [
    "# Evaluation"
   ]
  },
  {
   "cell_type": "markdown",
   "metadata": {},
   "source": [
    "Let's compare the results of running scarlet with the true values. We will run Scarlet on entire batch and compare the ellipticities of true images with deblended images."
   ]
  },
  {
   "cell_type": "code",
   "execution_count": null,
   "metadata": {},
   "outputs": [],
   "source": [
    "# run on scarlet on entire batch.\n",
    "# Scarlet takes a while, ~1.5 min for 100 blends. \n",
    "deblend_batch = deblender(blend_batch, njobs=1, reference_catalogs=blend_batch.catalog_list)"
   ]
  },
  {
   "cell_type": "markdown",
   "metadata": {},
   "source": [
    "**Note:** Initialization can fail in Scarlet for a variety of reasons, we have catched the exception which is a `LinAlg` error. When this exception happens we return an empty catalog and zeroed out `deblend_images`. You can see how many errors occurred:"
   ]
  },
  {
   "cell_type": "code",
   "execution_count": null,
   "metadata": {},
   "outputs": [
    {
     "data": {
      "text/plain": [
       "1"
      ]
     },
     "execution_count": null,
     "metadata": {},
     "output_type": "execute_result"
    }
   ],
   "source": [
    "n_failures = np.sum([len(cat) == 0 for cat in deblend_batch.catalog_list], axis=0)\n",
    "n_failures"
   ]
  },
  {
   "cell_type": "markdown",
   "metadata": {},
   "source": [
    "Matching to exclude failures:"
   ]
  },
  {
   "cell_type": "code",
   "execution_count": null,
   "metadata": {},
   "outputs": [],
   "source": [
    "from btk.match import PixelHungarianMatcher\n",
    "\n",
    "matcher = PixelHungarianMatcher(pixel_max_sep=5.0 # maximum separation to consider match, in pixels\n",
    ")\n",
    "true_catalog_list = blend_batch.catalog_list\n",
    "pred_catalog_list = deblend_batch.catalog_list\n",
    "matching = matcher(true_catalog_list, pred_catalog_list) # matching object"
   ]
  },
  {
   "cell_type": "markdown",
   "metadata": {},
   "source": [
    "Now for measuring ellipticity we can follow the example in the `quickstart` tutorial: "
   ]
  },
  {
   "cell_type": "code",
   "execution_count": null,
   "metadata": {},
   "outputs": [],
   "source": [
    "from btk.measure import get_ksb_ellipticity\n",
    "\n",
    "#obtaining images\n",
    "iso_images1 = blend_batch.isolated_images[:, :, 2] # use r-band\n",
    "iso_images2 = deblend_batch.deblended_images[:, :, 2] \n",
    "psf_r = blend_batch.psf[2] # psf in r-band\n",
    "\n",
    "#matching\n",
    "iso_images_matched1 = matching.match_true_arrays(iso_images1)\n",
    "iso_images_matched2 = matching.match_pred_arrays(iso_images2)\n",
    "\n",
    "#compute ellipticity\n",
    "ellips1 = get_ksb_ellipticity(iso_images_matched1, psf_r, pixel_scale=0.2)\n",
    "\n",
    "# NOTE: assumed deblended images are psf convolved with same psf\n",
    "ellips2 = get_ksb_ellipticity(iso_images_matched2, psf_r, pixel_scale=0.2) \n",
    "\n",
    "\n",
    "# mask nan's (non-matches), look at first component only\n",
    "e11 = ellips1[:, :, 0].flatten()\n",
    "e12 = ellips2[:, :, 0].flatten()\n",
    "\n",
    "mask = (~np.isnan(e12)) & (np.abs(e12) < 1) & (~np.isnan(e11))\n",
    "e11 = e11[mask]\n",
    "e12 = e12[mask]"
   ]
  },
  {
   "cell_type": "code",
   "execution_count": null,
   "metadata": {},
   "outputs": [
    {
     "data": {
      "text/plain": [
       "[<matplotlib.lines.Line2D at 0x7ff093435180>]"
      ]
     },
     "execution_count": null,
     "metadata": {},
     "output_type": "execute_result"
    },
    {
     "data": {
      "image/png": "[encoded data removed]",
      "text/plain": [
       "<Figure size 640x480 with 1 Axes>"
      ]
     },
     "metadata": {},
     "output_type": "display_data"
    }
   ],
   "source": [
    "# look at first component \n",
    "plt.scatter(e11, e12)\n",
    "plt.plot([-1, 1], [-1, 1])"
   ]
  },
  {
   "cell_type": "code",
   "execution_count": null,
   "metadata": {},
   "outputs": [],
   "source": []
  }
 ],
 "metadata": {
  "kernelspec": {
   "display_name": "Python 3 (ipykernel)",
   "language": "python",
   "name": "python3"
  },
  "language_info": {
   "codemirror_mode": {
    "name": "ipython",
    "version": 3
   },
   "file_extension": ".py",
   "mimetype": "text/x-python",
   "name": "python",
   "nbconvert_exporter": "python",
   "pygments_lexer": "ipython3",
   "version": "3.9.18"
  },
  "latex_envs": {
   "LaTeX_envs_menu_present": true,
   "autoclose": false,
   "autocomplete": true,
   "bibliofile": "biblio.bib",
   "cite_by": "apalike",
   "current_citInitial": 1,
   "eqLabelWithNumbers": true,
   "eqNumInitial": 1,
   "hotkeys": {
    "equation": "meta-shift-y"
   },
   "labels_anchors": false,
   "latex_user_defs": false,
   "report_style_numbering": false,
   "user_envs_cfg": false
  },
  "toc": {
   "base_numbering": 1,
   "nav_menu": {},
   "number_sections": true,
   "sideBar": true,
   "skip_h1_title": false,
   "title_cell": "Table of Contents",
   "title_sidebar": "Contents",
   "toc_cell": false,
   "toc_position": {
    "height": "811.109375px",
    "left": "34px",
    "top": "110px",
    "width": "168.75px"
   },
   "toc_section_display": true,
   "toc_window_display": true
  },
  "toc-autonumbering": true,
  "toc-showcode": false,
  "toc-showmarkdowntxt": false,
  "toc-showtags": false,
  "vscode": {
   "interpreter": {
    "hash": "4040519260ba97c108b36f33e606617285580ee3cc88f560d6aaa311d215a2db"
   }
  }
 },
 "nbformat": 4,
 "nbformat_minor": 4
}
