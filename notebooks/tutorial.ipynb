{
 "cells": [
  {
   "cell_type": "markdown",
   "id": "87af5034",
   "metadata": {},
   "source": [
    "# Setup"
   ]
  },
  {
   "cell_type": "code",
   "execution_count": null,
   "id": "d8b9c9c9",
   "metadata": {},
   "outputs": [],
   "source": [
    "%matplotlib inline\n",
    "import matplotlib.pyplot as plt\n",
    "import numpy as np\n",
    "import os\n",
    "import sys\n",
    "\n",
    "import btk\n",
    "import btk.plot_utils\n",
    "import btk.survey\n",
    "import btk.draw_blends\n",
    "import btk.catalog\n",
    "import btk.sampling_functions\n",
    "import astropy.table"
   ]
  },
  {
   "cell_type": "code",
   "execution_count": null,
   "id": "e4a5a870",
   "metadata": {},
   "outputs": [],
   "source": [
    "!wget https://raw.githubusercontent.com/LSSTDESC/BlendingToolKit/main/data/sample_input_catalog.fits"
   ]
  },
  {
   "cell_type": "markdown",
   "id": "4698fc18",
   "metadata": {},
   "source": [
    "# Draw some blends"
   ]
  },
  {
   "cell_type": "markdown",
   "id": "1defd686",
   "metadata": {},
   "source": [
    "We will first explore the image generation part of BTK. We need to provide 3 main elements: the catalog, a sampling function and a survey."
   ]
  },
  {
   "cell_type": "markdown",
   "id": "cc66a45d",
   "metadata": {},
   "source": [
    "## Catalog"
   ]
  },
  {
   "cell_type": "markdown",
   "id": "001fc551",
   "metadata": {},
   "source": [
    "BTK uses a wrapper class for the actual catalog object, to get a standardized input for the generator. Currently BTK supports two kind of catalogs: Catsim-like catalogs and the COSMOS catalog (as provided with Galsim). Both have their own implementation of the `Catalog` class; we will only use the Catsim one here. You can easily import the catalog from a FITS file using the `from_file` method as demonstrated here with our example catalog."
   ]
  },
  {
   "cell_type": "code",
   "execution_count": null,
   "id": "ac51299f",
   "metadata": {},
   "outputs": [],
   "source": [
    "catalog_name = \"sample_input_catalog.fits\"\n",
    "catalog = btk.catalog.CatsimCatalog.from_file(catalog_name)"
   ]
  },
  {
   "cell_type": "markdown",
   "id": "ccb80c5e",
   "metadata": {},
   "source": [
    "It is also possible to instantiate the class by giving it the catalog directly; the `from_file` method is merely a shortcut."
   ]
  },
  {
   "cell_type": "code",
   "execution_count": null,
   "id": "05ad58e5",
   "metadata": {},
   "outputs": [],
   "source": [
    "_, ext = os.path.splitext(catalog_name)\n",
    "fmt = \"fits\" if ext.lower() == \".fits\" else \"ascii.basic\"\n",
    "raw_catalog = astropy.table.Table.read(catalog_name, format=fmt)\n",
    "catalog = btk.catalog.CatsimCatalog(raw_catalog)"
   ]
  },
  {
   "cell_type": "markdown",
   "id": "49b6ecf4",
   "metadata": {},
   "source": [
    "When the Catalog object is created, it creates internally a `table` attribute containing a modified table from the input, which will be used in the rest of the code."
   ]
  },
  {
   "cell_type": "code",
   "execution_count": null,
   "id": "81e7e006",
   "metadata": {},
   "outputs": [],
   "source": [
    "catalog.table"
   ]
  },
  {
   "cell_type": "markdown",
   "id": "b9577fc2",
   "metadata": {},
   "source": [
    "## Sampling function"
   ]
  },
  {
   "cell_type": "markdown",
   "id": "73ed7284",
   "metadata": {},
   "source": [
    "The sampling function is an object which is used to determine the informations about the blends, eg which galaxies are drawn, with what shifts, ... This is achieved using the `SamplingFunction` class, which is callable like a function, taking as argument the `Catalog.table` and returning modified selected entries corresponding to the galaxies being drawn. \n",
    "\n",
    "For this tutorial, we will use the default sampling function, which can be instantiated like this:"
   ]
  },
  {
   "cell_type": "code",
   "execution_count": null,
   "id": "97e1f62b",
   "metadata": {},
   "outputs": [],
   "source": [
    "stamp_size = 24.0  # Size of the stamp, in arcseconds\n",
    "max_number = 5     # Maximum number of galaxies in a blend\n",
    "max_shift = 3.0    # Maximum shift of the galaxies from center, in arcseconds\n",
    "sampling_function = btk.sampling_functions.DefaultSampling(max_number=max_number, stamp_size=stamp_size, maxshift=max_shift)"
   ]
  },
  {
   "cell_type": "markdown",
   "id": "7a05f937",
   "metadata": {},
   "source": [
    "This function chooses random galaxies (after applying a magnitude cut), computes random shifts for the galaxies and returns the entries from the table, adding two columns corresponding to the shifts."
   ]
  },
  {
   "cell_type": "markdown",
   "id": "f1369881",
   "metadata": {},
   "source": [
    "### Exercise: Understanding the sampling function"
   ]
  },
  {
   "cell_type": "markdown",
   "id": "41dfd8ce",
   "metadata": {},
   "source": [
    "For this exercise we will understand sampling functions in BTK a bit better by writing simplest possible sampling function together. "
   ]
  },
  {
   "cell_type": "code",
   "execution_count": null,
   "id": "aa6fa4e4",
   "metadata": {},
   "outputs": [],
   "source": [
    "# Here is a template. \n",
    "# You can ignore the first two methods which are boiler-plate.\n",
    "\n",
    "class SimpleSampling(btk.sampling_functions.SamplingFunction):\n",
    "    \"\"\"Default sampling function used for producing blend tables.\"\"\"\n",
    "\n",
    "    def __init__(self, max_number=2, stamp_size=24.0):\n",
    "        \"\"\"\n",
    "        Args:\n",
    "            max_number (int): Defined in parent class\n",
    "            stamp_size (float): Size of the desired stamp in arcseconds.\n",
    "        \"\"\"\n",
    "        super().__init__(max_number)\n",
    "        self.stamp_size = stamp_size\n",
    "\n",
    "    @property\n",
    "    def compatible_catalogs(self):\n",
    "        return (\"CatsimCatalog\", )\n",
    "\n",
    "    def __call__(self, table):\n",
    "        # (1) First, we need to determine the # of objects in the blend.\n",
    "        # TODO: set n_sources to a random number between 1 and self.max_number.\n",
    "\n",
    "        # (2) Some of the objects in the catalog might be too dim, so let's \n",
    "        # apply a magnitude cut.\n",
    "\n",
    "        # TODO: Apply a magnitude cut of 25.3 on table via the `ref_mag` column.\n",
    "\n",
    "        # (3) Extract a random set of `n_sources` galaxies from the filtered table.\n",
    "        # as a subset of this table. \n",
    "\n",
    "        # TODO: Select `n_sources` random indices between (0, len(my_table)-1) and slice.\n",
    "        # set this to `blend_table`\n",
    "\n",
    "\n",
    "        # (4) Our `blend_table` is not ready yet, we need to set the 'ra', 'dec' entries \n",
    "        # to be sensible values with respect to the center of the postage stamp we are \n",
    "        # drawing with this blend (0, 0).\n",
    "\n",
    "        # TODO: Create 2 vectors (x,y) of size `n_sources` containing (random) reasonable values\n",
    "        # for the positions of the sources relative to postage stamp center in arcseconds. The objects' centers\n",
    "        # should always lie inside the postage stamp. \n",
    "\n",
    "\n",
    "        # TODO: Finally set the 'ra', 'dec' columns of `blend_table` to the new \n",
    "        # values you calculated.\n",
    "        \n",
    "        return blend_table"
   ]
  },
  {
   "cell_type": "markdown",
   "id": "4ea903ea",
   "metadata": {},
   "source": [
    "Now we will apply your sampling function to our catalog to check if it works. (**NOTE:** BTK does this for your automatically if your sampling function is constructed correctly. )"
   ]
  },
  {
   "cell_type": "code",
   "execution_count": null,
   "id": "49a6c92e",
   "metadata": {},
   "outputs": [],
   "source": [
    "# first, we extract astropy table from the catalog object. \n",
    "table = catalog.table"
   ]
  },
  {
   "cell_type": "code",
   "execution_count": null,
   "id": "df84263d",
   "metadata": {},
   "outputs": [],
   "source": [
    "# take a look at the summary of the table.\n",
    "table"
   ]
  },
  {
   "cell_type": "code",
   "execution_count": null,
   "id": "28740f8f",
   "metadata": {},
   "outputs": [],
   "source": [
    "# TODO: Create and apply the sampling function you just wrote above to the\n",
    "# `table`, what happens if you run this cell multiple times?"
   ]
  },
  {
   "cell_type": "markdown",
   "id": "3e14e25e",
   "metadata": {},
   "source": [
    "You might want to write more complex sampling functions to have more control over how the galaxies are drawn; there are some other examples in the [sampling_functions.py](https://github.com/LSSTDESC/BlendingToolKit/blob/main/btk/sampling_functions.py) file. Please also take a look at the [custom-tutorial.ipynb](https://github.com/LSSTDESC/BlendingToolKit/blob/main/notebooks/02b-custom-tutorial.ipynb) notebook, which will show what to do in more detail."
   ]
  },
  {
   "cell_type": "markdown",
   "id": "e99a6ff8",
   "metadata": {},
   "source": [
    "## Survey"
   ]
  },
  {
   "cell_type": "markdown",
   "id": "6fcaf1ad",
   "metadata": {},
   "source": [
    "The BTK `Survey` object defines the observing conditions relative to a survey. It is a light wrapper around the `Survey` class in `galcheat`. Read more about `galcheat` [here](https://aboucaud.github.io/galcheat/index.html). \n",
    "\n",
    "Basically, it's a class containing different attributes for survey properties like pixel scale and effective area, etc. Let's check them out: \n"
   ]
  },
  {
   "cell_type": "code",
   "execution_count": null,
   "id": "73329d63",
   "metadata": {},
   "outputs": [],
   "source": [
    "lsst = btk.survey.get_surveys(\"LSST\")"
   ]
  },
  {
   "cell_type": "code",
   "execution_count": null,
   "id": "35ac399d",
   "metadata": {},
   "outputs": [],
   "source": [
    "lsst.pixel_scale, lsst.effective_area"
   ]
  },
  {
   "cell_type": "markdown",
   "id": "98925463",
   "metadata": {},
   "source": [
    "Note that these are `astropy.Quantity` objects that have associated units. To get only the value you can do e.g."
   ]
  },
  {
   "cell_type": "code",
   "execution_count": null,
   "id": "b91ba812",
   "metadata": {},
   "outputs": [],
   "source": [
    "print(lsst.effective_area.to_value('m2'))\n",
    "print(lsst.effective_area.to_value('cm2')) # other compatible units"
   ]
  },
  {
   "cell_type": "markdown",
   "id": "0b195095",
   "metadata": {},
   "source": [
    "You can modify them: "
   ]
  },
  {
   "cell_type": "code",
   "execution_count": null,
   "id": "c909fc89",
   "metadata": {},
   "outputs": [],
   "source": [
    "from astropy import units as u\n",
    "lsst.pixel_scale = 0.3 * u.arcsec\n",
    "lsst.pixel_scale"
   ]
  },
  {
   "cell_type": "markdown",
   "id": "b5ae1002",
   "metadata": {},
   "source": [
    "Rerunning `xx = btk.survey.get_surveys(XX)` gives you a fresh copy."
   ]
  },
  {
   "cell_type": "code",
   "execution_count": null,
   "id": "3199042f",
   "metadata": {},
   "outputs": [],
   "source": [
    "lsst = btk.survey.get_surveys(\"LSST\")\n",
    "lsst.pixel_scale"
   ]
  },
  {
   "cell_type": "markdown",
   "id": "916fa4fa",
   "metadata": {},
   "source": [
    "The `Survey` object like `lsst` above also contains a list of `filters`, which corresponds to each of the filters available for that survey. "
   ]
  },
  {
   "cell_type": "code",
   "execution_count": null,
   "id": "cfec6507",
   "metadata": {},
   "outputs": [],
   "source": [
    "lsst.available_filters"
   ]
  },
  {
   "cell_type": "markdown",
   "id": "032cc7f7",
   "metadata": {},
   "source": [
    "You can access them via:"
   ]
  },
  {
   "cell_type": "code",
   "execution_count": null,
   "id": "4235ee3f",
   "metadata": {},
   "outputs": [],
   "source": [
    "r = lsst.get_filter('r')"
   ]
  },
  {
   "cell_type": "markdown",
   "id": "53a99ccd",
   "metadata": {},
   "source": [
    "The attributes of the filter include things like `sky_brightness` and `full_exposure_time` for a detailed description see [here](https://aboucaud.github.io/galcheat/parameters.html#filter-parameters). The `Filter` object works analogously to the `Survey` object. "
   ]
  },
  {
   "cell_type": "code",
   "execution_count": null,
   "id": "458ebc51",
   "metadata": {},
   "outputs": [],
   "source": [
    "r.psf_fwhm"
   ]
  },
  {
   "cell_type": "markdown",
   "id": "8b1c5b7a",
   "metadata": {},
   "source": [
    "Most attributes should be pretty straightforward to modify; please take a look at the [API](https://lsstdesc.org/BlendingToolKit/src/btk.survey.html) for a description of the attributes. The [custom tutorial](https://github.com/LSSTDESC/BlendingToolKit/blob/main/notebooks/02b-custom-tutorial.ipynb) also provides descriptions of the attributes and more information on how to customize surveys."
   ]
  },
  {
   "cell_type": "markdown",
   "id": "d4710d20",
   "metadata": {},
   "source": [
    "Finally, note that `get_filter` returns a view of the `Filter` object not a copy: modifications made to the `Filter` objects stay unless you create a fresh `Survey` object"
   ]
  },
  {
   "cell_type": "code",
   "execution_count": null,
   "id": "1f7ba7e2",
   "metadata": {},
   "outputs": [],
   "source": [
    "r.psf_fwhm = r.psf_fwhm / 2\n",
    "r = lsst.get_filter('r')\n",
    "r.psf_fwhm"
   ]
  },
  {
   "cell_type": "markdown",
   "id": "c5fc16f3",
   "metadata": {},
   "source": [
    "The `psf` attribute deserves an additionnal explanation: it corresponds to the PSF for each filter. It can be provided either directly as a Galsim model e.g. `galsim.Kolmogorov(fwhm=1.5)` or as a function returning a Galsim model, for randomization purposes.\n",
    "\n",
    "If we look at the psf for our `r` filter above, we see that it's a galsim object. This is the default PSF in BTK which includes a atmospheric `Kolmogorov` component and `Airy` function for the optical part."
   ]
  },
  {
   "cell_type": "code",
   "execution_count": null,
   "id": "f80c3709",
   "metadata": {},
   "outputs": [],
   "source": [
    "r.psf"
   ]
  },
  {
   "cell_type": "markdown",
   "id": "578bfe57",
   "metadata": {},
   "source": [
    "## Drawing the blends"
   ]
  },
  {
   "cell_type": "markdown",
   "id": "25099448",
   "metadata": {},
   "source": [
    "Now that we have all the objects at our disposal, we can create the DrawBlendsGenerator. This object is a python generator, meaning it can be called with `next(generator)` to generate a new batch. It is again declined for Catsim and COSMOS, and we will use the Catsim one here. We suggest you refer to the [documentation](https://lsstdesc.org/BlendingToolKit/src/btk.draw_blends.html) for information on the additionnal parameters here."
   ]
  },
  {
   "cell_type": "code",
   "execution_count": null,
   "id": "6d1d532d",
   "metadata": {},
   "outputs": [],
   "source": [
    "draw_generator = btk.draw_blends.CatsimGenerator(\n",
    "    catalog,\n",
    "    sampling_function,\n",
    "    lsst,\n",
    "    batch_size=100,\n",
    "    stamp_size=stamp_size,\n",
    "    cpus=1,\n",
    "    add_noise='all',\n",
    ")"
   ]
  },
  {
   "cell_type": "markdown",
   "id": "b4715ae2",
   "metadata": {},
   "source": [
    "The results from the `next` call are stored in the dictionnary; the keys are:\n",
    "- `blend_images` for the actual images (as a (batch_size,stamp_size,stamp_size,len(survey.filters))-sized numpy array )\n",
    "- `isolated_images` for the isolated images (as a (batch_size,sampling_function.max_number,stamp_size,stamp_size,len(survey.filters))-sized numpy array )\n",
    "- `blend_list` for the blend information (as a list of astropy tables corresponding to the output of the sampling function for each blend)\n",
    "- `psf` for the PSF (as a list of Galsim objects)\n",
    "- `wcs` for the World Coordinate System corresponding to the images (as a list of astropy.wcs.WCS objects)"
   ]
  },
  {
   "cell_type": "markdown",
   "id": "7ddfcb5d",
   "metadata": {},
   "source": [
    "Please note that several surveys can be provided as a list to the generator. In that case, each of the entry will contain a dictionnary indexed by the surveys, which in turn contains the results described as above (you would access it with `batch['blend_images']['LSST']` for instance."
   ]
  },
  {
   "cell_type": "code",
   "execution_count": null,
   "id": "952aea63",
   "metadata": {},
   "outputs": [],
   "source": [
    "# here is an utility function you can use to plot blends.\n",
    "def plot_blends(draw_generator, n_blends=5):\n",
    "    batch = next(draw_generator)\n",
    "    blend_images = batch['blend_images']\n",
    "    blend_list = batch['blend_list']\n",
    "    btk.plot_utils.plot_blends(blend_images[:n_blends], blend_list[:n_blends], limits=(30,90))"
   ]
  },
  {
   "cell_type": "code",
   "execution_count": null,
   "id": "494e34af",
   "metadata": {},
   "outputs": [],
   "source": [
    "plot_blends(draw_generator)"
   ]
  },
  {
   "cell_type": "markdown",
   "id": "78a8f5ae",
   "metadata": {},
   "source": [
    "We can also plot the distributions in size and magnitude of the galaxies in the batch inside BTK:"
   ]
  },
  {
   "cell_type": "code",
   "execution_count": null,
   "id": "7521a6af",
   "metadata": {},
   "outputs": [],
   "source": [
    "batch = next(draw_generator)\n",
    "blend_list = batch['blend_list']\n",
    "btk.plot_utils.plot_gal_parameters(blend_list)"
   ]
  },
  {
   "cell_type": "markdown",
   "id": "f74cd407",
   "metadata": {},
   "source": [
    "### Exercise: Impact of sampling function and survey on blend images"
   ]
  },
  {
   "cell_type": "markdown",
   "id": "2d6e2221",
   "metadata": {},
   "source": [
    "For this exercise we will experiment with different sampling functions and survey parameters and see their effect in teh blend images created by the `draw_blend_generator`. "
   ]
  },
  {
   "cell_type": "code",
   "execution_count": null,
   "id": "aff779dd",
   "metadata": {},
   "outputs": [],
   "source": [
    "# TODO: Create a new draw_generator using the sampling function you created in the previous exercise.\n",
    "simple_draw_generator = ..."
   ]
  },
  {
   "cell_type": "code",
   "execution_count": null,
   "id": "f12e40ac",
   "metadata": {},
   "outputs": [],
   "source": [
    "# TODO: Uncomment the next line once you created your draw_generator above.\n",
    "# plot_blends(simple_draw_generator)"
   ]
  },
  {
   "cell_type": "markdown",
   "id": "f6700e09",
   "metadata": {},
   "source": [
    "**Question:** Does the resulting images agree with what you expected your sampling function to do? "
   ]
  },
  {
   "cell_type": "markdown",
   "id": "a6908b31",
   "metadata": {},
   "source": [
    "Here is another example of a sampling function that is also available in the custom-tutorial [notebook](https://github.com/LSSTDESC/BlendingToolKit/blob/main/notebooks/02b-custom-tutorial.ipynb). You can take a look at the code below if you are interested, the main idea is that this function will return one bright centered galaxy and one dim galaxy randomly shifted."
   ]
  },
  {
   "cell_type": "code",
   "execution_count": null,
   "id": "387b928a",
   "metadata": {},
   "outputs": [],
   "source": [
    "class PairSampling(btk.sampling_functions.SamplingFunction):\n",
    "    \n",
    "    def __init__(self, stamp_size=24.0, maxshift=None):\n",
    "        super().__init__(2)\n",
    "        self.stamp_size = stamp_size\n",
    "        self.maxshift = maxshift if maxshift else self.stamp_size / 10.0\n",
    "\n",
    "    @property\n",
    "    def compatible_catalogs(self):\n",
    "        return \"CatsimCatalog\", \"CosmosCatalog\"\n",
    "\n",
    "    def __call__(self,table):\n",
    "        number_of_objects = np.random.randint(1, self.max_number + 1)\n",
    "        (q_bright,) = np.where(table[\"ref_mag\"] <= 25.3)\n",
    "        (q_dim,) = np.where((table[\"ref_mag\"] > 25.3) & (table[\"ref_mag\"] <= 28))\n",
    "        \n",
    "        indexes = [np.random.choice(q_bright),np.random.choice(q_dim)]\n",
    "        blend_table = table[indexes]\n",
    "        \n",
    "        blend_table[\"ra\"] = 0.0\n",
    "        blend_table[\"dec\"] = 0.0\n",
    "        \n",
    "        x_peak, y_peak = _get_random_center_shift(1, self.maxshift)\n",
    "        \n",
    "        blend_table[\"ra\"][1] += x_peak\n",
    "        blend_table[\"dec\"][1] += y_peak\n",
    "\n",
    "        if np.any(blend_table[\"ra\"] > self.stamp_size / 2.0) or np.any(\n",
    "            blend_table[\"dec\"] > self.stamp_size / 2.0\n",
    "        ):\n",
    "            warnings.warn(\"Object center lies outside the stamp\")\n",
    "        return blend_table"
   ]
  },
  {
   "cell_type": "code",
   "execution_count": null,
   "id": "e892b760",
   "metadata": {},
   "outputs": [],
   "source": [
    "# TODO: Create a new draw_generator using the PairSampling function above. \n",
    "pair_draw_generator = ..."
   ]
  },
  {
   "cell_type": "code",
   "execution_count": null,
   "id": "f18b73ca",
   "metadata": {},
   "outputs": [],
   "source": [
    "# TODO: Uncomment the next line once you created your draw_generator above.\n",
    "# plot_blends(pair_draw_generator)"
   ]
  },
  {
   "cell_type": "markdown",
   "id": "9b00f001",
   "metadata": {},
   "source": [
    "**Question**: Does the resulting images agree with what you expected the sampling function to do? "
   ]
  },
  {
   "cell_type": "markdown",
   "id": "cac66c3c",
   "metadata": {},
   "source": [
    "Finally let's experiment with changing the survey parameters.  Here is an example of creating a survey which is the same as the Rubin survey but with half the pixel scale and double sky brightness in the 'u' band."
   ]
  },
  {
   "cell_type": "code",
   "execution_count": null,
   "id": "1ee212f8",
   "metadata": {},
   "outputs": [],
   "source": [
    "my_lsst = btk.survey.get_surveys('LSST')\n",
    "my_lsst.pixel_scale = 0.1 \n",
    "my_u = my_lsst.get_filter('u')\n",
    "my_u.sky_brightness = my_u.sky_brightness*2"
   ]
  },
  {
   "cell_type": "markdown",
   "id": "12e87f0b",
   "metadata": {},
   "source": [
    "Now it's your turn to create a custom survey. (It might be easier to refer to the link [here](https://lsstdesc.org/BlendingToolKit/tutorials.html#survey) rather than scrolling back-and-forth in the notebook)."
   ]
  },
  {
   "cell_type": "code",
   "execution_count": null,
   "id": "c1b25e47",
   "metadata": {},
   "outputs": [],
   "source": [
    "# TODO: Create your own `my_Rubin` survey which is the same as `Rubin` but which \n",
    "# has 1/10th of the full_exposure_time in each band. \n",
    "# HINT: Use list comprehension over the named bands in Rubin. \n"
   ]
  },
  {
   "cell_type": "code",
   "execution_count": null,
   "id": "cead26a5",
   "metadata": {},
   "outputs": [],
   "source": [
    "# TODO: Use this survey to create a new draw_blend_generator.\n",
    "custom_survey_draw_generator = ..."
   ]
  },
  {
   "cell_type": "code",
   "execution_count": null,
   "id": "71492b99",
   "metadata": {},
   "outputs": [],
   "source": [
    "# TODO: Uncomment the next line once you created your draw_generator above.\n",
    "# plot_blends(custom_survey_draw_generator)"
   ]
  },
  {
   "cell_type": "markdown",
   "id": "5dc78d49",
   "metadata": {},
   "source": [
    "**Question**: Does the resulting images agree with what you expected from the changed survey parameters?"
   ]
  },
  {
   "cell_type": "markdown",
   "id": "53e98857",
   "metadata": {},
   "source": [
    "# Measurement"
   ]
  },
  {
   "cell_type": "markdown",
   "id": "7d500b50",
   "metadata": {},
   "source": [
    "Now that we have some images, we can carry on with the measurements. \n",
    "\n",
    "What we call measurements in BTK is one of the three main targets of deblending: detections, segmentations and deblended images. You can use BTK to directly carry out the measurements on the generated data. To do this, you need to define a measure function.\n",
    "\n",
    "The measure function is a regular function with two arguments: `batch` and `idx`. Batch is the direct output of a `DrawBlendsGenerator`, and `idx` is the index of the blend on which the measurements should be done. Here is an example of what the function looks like for `SEP` (python implementation of Source Extractor). "
   ]
  },
  {
   "cell_type": "code",
   "execution_count": null,
   "id": "f61a8392",
   "metadata": {},
   "outputs": [],
   "source": [
    "import sep\n",
    "def sep_measure(batch, idx, channels_last=False, sigma_noise=1.5, **kwargs):\n",
    "    \"\"\"Return detection, segmentation and deblending information with SEP.\n",
    "\n",
    "    NOTE: This is a simplified version of the actual function that does not \n",
    "    support multi-resolution. \n",
    "\n",
    "    Args:\n",
    "        batch (dict): Output of DrawBlendsGenerator object's `__next__` method.\n",
    "        idx (int): Index number of blend scene in the batch to preform\n",
    "            measurement on.\n",
    "        sigma_noise (float): Sigma threshold for detection against noise.\n",
    "\n",
    "    Returns:\n",
    "        dict with the centers of sources detected by SEP detection algorithm.\n",
    "    \"\"\"\n",
    "    channel_indx = 0 if not channels_last else -1\n",
    "\n",
    "\n",
    "    image = batch[\"blend_images\"][idx]\n",
    "    coadd = np.mean(image, axis=channel_indx)\n",
    "    wcs = batch[\"wcs\"]\n",
    "\n",
    "    stamp_size = coadd.shape[0]\n",
    "    bkg = sep.Background(coadd)\n",
    "    catalog, segmentation = sep.extract(\n",
    "        coadd, sigma_noise, err=bkg.globalrms, segmentation_map=True\n",
    "    )\n",
    "\n",
    "    n_objects = len(catalog)\n",
    "\n",
    "    # organizing returned images into numpy arrays\n",
    "    segmentation_exp = np.zeros((n_objects, stamp_size, stamp_size), dtype=bool)\n",
    "    deblended_images = np.zeros((n_objects, *image.shape), dtype=image.dtype)\n",
    "    for i in range(n_objects):\n",
    "        seg_i = segmentation == i + 1\n",
    "        segmentation_exp[i] = seg_i\n",
    "        seg_i_reshaped = np.zeros((np.min(image.shape), stamp_size, stamp_size))\n",
    "        for j in range(np.min(image.shape)):\n",
    "            seg_i_reshaped[j] = seg_i\n",
    "        seg_i_reshaped = np.moveaxis(seg_i_reshaped, 0, np.argmin(image.shape))\n",
    "        deblended_images[i] = image * seg_i_reshaped\n",
    "\n",
    "    # translate from pixel to sky coordinates. \n",
    "    t = astropy.table.Table()\n",
    "    t[\"ra\"], t[\"dec\"] = wcs.pixel_to_world_values(catalog[\"x\"], catalog[\"y\"])\n",
    "\n",
    "    return {\n",
    "        \"catalog\": t,\n",
    "        \"segmentation\": segmentation_exp,\n",
    "        \"deblended_images\": deblended_images,\n",
    "    }"
   ]
  },
  {
   "cell_type": "markdown",
   "id": "82bda46e",
   "metadata": {},
   "source": [
    "The function is not required to output all three measurements, only the catalog with `ra, dec` columns containing the detections is mandatory. Note that in the example above the `batch` also contains the `wcs` information so it's easy to convert between pixel and sky coordinates. \n",
    "\n",
    "Once the measure function is defined, it can be given to a ``MeasureGenerator`` together with the ``DrawBlendsGenerator`` from the previous step."
   ]
  },
  {
   "cell_type": "code",
   "execution_count": null,
   "id": "ff9f99a5",
   "metadata": {},
   "outputs": [],
   "source": [
    "meas_generator = btk.measure.MeasureGenerator(btk.measure.sep_measure,draw_generator)"
   ]
  },
  {
   "cell_type": "markdown",
   "id": "3a5550ca",
   "metadata": {},
   "source": [
    "The results returned by the `MeasureGenerator`are both the results from the `DrawBlendsGenerator` and the measures, as a dictioniary with the same keys as the measure function output but containing a list with the results from all the blends."
   ]
  },
  {
   "cell_type": "code",
   "execution_count": null,
   "id": "93fa04e7",
   "metadata": {},
   "outputs": [],
   "source": [
    "blend_results,meas_results = next(meas_generator)"
   ]
  },
  {
   "cell_type": "markdown",
   "id": "c011add1",
   "metadata": {},
   "source": [
    "You can find more on how to write your own measure function, or how to provide several measure functions at the same time in the multi tutorial [notebook](https://github.com/LSSTDESC/BlendingToolKit/blob/8624d087f155b52185946a5f990b4ebe7bcedf8a/notebooks/02a-multi-tutorial.ipynb); you will also find how to use the `measure_kwargs` feature there.\n",
    "\n",
    "To have a comparison point for the next section, we also provide a measure function using the deblender `SCARLET` ; we can easily modify the measure generator by providing a list containing the two measure functions instead of a single measure function."
   ]
  },
  {
   "cell_type": "code",
   "execution_count": null,
   "id": "a123f0b1",
   "metadata": {},
   "outputs": [],
   "source": [
    "meas_generator = btk.measure.MeasureGenerator([btk.measure.sep_measure],draw_generator)"
   ]
  },
  {
   "cell_type": "markdown",
   "id": "7118fcfd",
   "metadata": {},
   "source": [
    "# Metrics"
   ]
  },
  {
   "cell_type": "markdown",
   "id": "bb471b9f",
   "metadata": {},
   "source": [
    "Finally, now that we have the measurements, we can compute metrics to evaluate the performance of those measurements. This is done using a `MetricsGenerator`, which takes a `MeasureGenerator` as an input, as well as a handful of parameters. \n",
    "\n",
    "It will match the true galaxies with the detected galaxies and compute metrics evaluating the quality of the detection (precision, recall, F1 score), the segmentation (Intersection over Union) and the reconstruction of the galaxy images (Mean Square Residual, Peak Signal to Noise Ratio, Structure Similarity Index, error on the target measures). \n",
    "\n",
    "You can find more details on those metrics on the [API page](https://lsstdesc.org/BlendingToolKit/src/btk.metrics.html)."
   ]
  },
  {
   "cell_type": "code",
   "execution_count": null,
   "id": "fb79b455",
   "metadata": {},
   "outputs": [],
   "source": [
    "import btk.metrics\n",
    "import btk.plot_utils\n",
    "\n",
    "metrics_generator = btk.metrics.MetricsGenerator(meas_generator,\n",
    "                                                 target_meas={\"ellipticity\":btk.metrics.meas_ksb_ellipticity},\n",
    "                                                 meas_band_name='r')\n",
    "blend_results,meas_results,results = next(metrics_generator)"
   ]
  },
  {
   "cell_type": "markdown",
   "id": "dbcc67d2",
   "metadata": {},
   "source": [
    "Once we got the results, we can plot them using functions found in the ``plot_utils`` module. While you can access all the raw data with the keys ``\"detection\"``, ``\"segmentation\"`` and ``\"reconstruction\"``, you can directly access all the segmentation and reconstruction metrics with the ``\"galaxy_summary\"`` key, which contains an astropy Table with all galaxies from all blends and the associated parameters and metrics.\n",
    "\n",
    " We can use the ``plot_metrics_summary`` to easily plot the results from the metrics."
   ]
  },
  {
   "cell_type": "code",
   "execution_count": null,
   "id": "ca683a29",
   "metadata": {},
   "outputs": [],
   "source": [
    "btk.plot_utils.plot_metrics_summary(results,interactive=True, target_meas_keys=['ellipticity0'], target_meas_limits=[(-1, 1)])"
   ]
  },
  {
   "cell_type": "markdown",
   "id": "d32e063a",
   "metadata": {},
   "source": [
    "We can also use the matches from the metrics to plot the isolated galaxy images along with the matching deblended galaxies:"
   ]
  },
  {
   "cell_type": "code",
   "execution_count": null,
   "id": "6c4345db",
   "metadata": {},
   "outputs": [],
   "source": [
    "btk.plot_utils.plot_with_deblended(\n",
    "    blend_results[\"blend_images\"],\n",
    "    blend_results[\"isolated_images\"],\n",
    "    blend_results[\"blend_list\"],\n",
    "    meas_results[\"catalog\"][\"sep_measure\"],\n",
    "    meas_results[\"deblended_images\"][\"sep_measure\"],\n",
    "    results[\"matches\"][\"sep_measure\"],\n",
    "    indexes=list(range(5)),\n",
    "    band_indices=[1, 2, 3]\n",
    ")"
   ]
  }
 ],
 "metadata": {
  "kernelspec": {
   "display_name": "Python 3 (ipykernel)",
   "language": "python",
   "name": "python3"
  },
  "language_info": {
   "codemirror_mode": {
    "name": "ipython",
    "version": 3
   },
   "file_extension": ".py",
   "mimetype": "text/x-python",
   "name": "python",
   "nbconvert_exporter": "python",
   "pygments_lexer": "ipython3",
   "version": "3.8.13"
  },
  "toc": {
   "base_numbering": 1,
   "nav_menu": {},
   "number_sections": true,
   "sideBar": true,
   "skip_h1_title": false,
   "title_cell": "Table of Contents",
   "title_sidebar": "Contents",
   "toc_cell": false,
   "toc_position": {
    "height": "686.25px",
    "left": "21px",
    "top": "180px",
    "width": "212px"
   },
   "toc_section_display": true,
   "toc_window_display": true
  }
 },
 "nbformat": 4,
 "nbformat_minor": 5
}
