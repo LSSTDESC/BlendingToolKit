{
 "cells": [
  {
   "cell_type": "markdown",
   "metadata": {},
   "source": [
    "*Authors:* Ismael Mendoza, Andrii Torchylo"
   ]
  },
  {
   "cell_type": "markdown",
   "metadata": {},
   "source": [
    "*Outline*\n",
    "\n",
    "- How to use each deblender and example detections or reconstructions (plots)\n",
    "\n",
    "- At least one example of customizing the hyper-parameters of a given deblender and how that changes output\n",
    "\n",
    "- How to run multiple deblenders simultaneously on the same data (sep + peak_finder)"
   ]
  },
  {
   "cell_type": "markdown",
   "metadata": {},
   "source": []
  }
 ],
 "metadata": {
  "language_info": {
   "name": "python"
  }
 },
 "nbformat": 4,
 "nbformat_minor": 2
}
