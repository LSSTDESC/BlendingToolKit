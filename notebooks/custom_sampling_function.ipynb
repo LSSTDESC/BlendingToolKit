{
 "cells": [
  {
   "cell_type": "markdown",
   "metadata": {},
   "source": [
    "In this notebook we show how the user can create custom input functions for btk. These functions could be how the blends are created, how a new detection algorithm could analyze the images etc. It must me noted that for now only parametric bulge+disk galaxies can be drawn by btk. These galaxies are described by parameters in the input CatSim-like catalog.\n",
    "\n",
    "Here we show custom functions that:\n",
    "1. Generate blends with galaxies sampled randomly from CatSim catalog, while their position on the postage stamp is randomly drawn from a distribution.\n",
    "2. Draw blends from a pre-processed wld output with objects being assigned to a \"group\" if any of their pixels overlap.\n",
    "3. Draw galaxies from cosmo DC2 catalo gwith blends from a pre-processed wld output with objects being assigned to a \"group\" if any of their pixels overlap.\n",
    "4. Generate blend scenes comprised of galaxies within a certain radial distance (in the pixel plane) from a randomly selected CatSim galaxy.\n",
    "5. Generate blends with different observing conditions (PSF size and exposure time)."
   ]
  },
  {
   "cell_type": "code",
   "execution_count": null,
   "metadata": {},
   "outputs": [],
   "source": [
    "%matplotlib inline\n",
    "import matplotlib.pyplot as plt\n",
    "import os\n",
    "import random\n",
    "import sys\n",
    "import astropy.table\n",
    "import numpy as np\n",
    "\n",
    "sys.path.insert(0,os.path.dirname(os.getcwd()))\n",
    "import btk\n",
    "import btk.config, btk.plot_utils"
   ]
  },
  {
   "cell_type": "markdown",
   "metadata": {},
   "source": [
    "## 1. Custom sampling function\n",
    "### Generate blends with galaxies sampled randomly from CatSim catalog, while their position on the postage stamp is randomly drawn from a distrution.\n",
    "\n",
    "Here we define a new function that: \n",
    "- Sample galaxies randomly from the input CatSim catalog.\n",
    "- Select only galaxies with i band magnitude < 25.3 and r-i > 0.5.\n",
    "- Number of galaxies in each blend is modelled as a poisson distribution of mean 3.\n",
    "- x and y coordinates of the galaxies are a determined from normal distribution of 1 arcsec standard deviation.\n",
    "\n",
    "This new sampling function is input to `btk.create_blend_generator.generate` to create catalogs for each blend scene.\n",
    "\n",
    "\n",
    "Note: This function uses the One square Degree CatSim catalog as input. For more details on the input catalog refer [here](https://blendingtoolkit.readthedocs.io/en/latest/catalog.html)."
   ]
  },
  {
   "cell_type": "code",
   "execution_count": null,
   "metadata": {
    "code_folding": [
     2
    ]
   },
   "outputs": [],
   "source": [
    "def new_center_shift(Args, number_of_objects):\n",
    "    \"\"\"Shift galaxy centers with a value drawn from a normal distribution with\n",
    "    mean 0 and std 1 arcseconds.\"\"\"\n",
    "    mean, sigma = 0, 1 #arcseconds\n",
    "    dx = np.random.normal(mean, sigma, number_of_objects)\n",
    "    dy = np.random.normal(mean, sigma, number_of_objects)\n",
    "    return dx, dy\n",
    "    \n",
    "def new_sampling_function(Args, catalog):\n",
    "    \"\"\"Returns catalog with parametrs to draw one blend scene.\n",
    "    \n",
    "    Samples galaxies with i<24, r-i>1. Number of objects ber blend is selected from a poisson\n",
    "    distribution of mean 3. The number of objects is restricted to max_number. The centers of the objects \n",
    "    are set in new function new_center_shift().\n",
    "    Note:Sampling function must clip the number of objects to Args.max_number!\n",
    "    \"\"\"\n",
    "    # Determine number of objets per blend\n",
    "    number_of_objects = np.random.poisson(3)\n",
    "    number_of_objects = np.minimum(number_of_objects, Args.max_number)\n",
    "    \n",
    "    # Make galaxy sample\n",
    "    q, = np.where((catalog['i_ab'] <= 25.3) & (np.abs(catalog['i_ab'] - catalog['r_ab']) > 0.5))\n",
    "    blend_catalog = catalog[np.random.choice(q, size=number_of_objects)]\n",
    "    \n",
    "    # galaxy centers are sent as random shift from 0,0\n",
    "    blend_catalog['ra'], blend_catalog['dec'] = 0., 0.\n",
    "    dx, dy = new_center_shift(Args, number_of_objects)\n",
    "    blend_catalog['ra'] += dx\n",
    "    blend_catalog['dec'] += dy\n",
    "    return blend_catalog"
   ]
  },
  {
   "cell_type": "code",
   "execution_count": null,
   "metadata": {},
   "outputs": [],
   "source": [
    "#Input catalog name\n",
    "catalog_name = os.path.join(os.path.dirname(os.getcwd()), 'data', 'OneDegSq.fits')\n",
    "# Load parameters\n",
    "param = btk.config.Simulation_params(catalog_name, max_number=6, batch_size=5)\n",
    "np.random.seed(param.seed)\n",
    "\n",
    "#Load input catalog\n",
    "catalog = btk.get_input_catalog.load_catalog(param)\n",
    "\n",
    "#Generate catalogs of blended objects \n",
    "blend_generator = btk.create_blend_generator.generate(param, catalog, new_sampling_function)\n",
    "\n",
    "#Generates observing conditions for the selected survey_name and all input bands\n",
    "observing_genrator = btk.create_observing_generator.generate(param)\n",
    "\n",
    "#Generate images of blends in all the observing bands\n",
    "draw_blend_generator = btk.draw_blends.generate(param, blend_generator, observing_genrator)    "
   ]
  },
  {
   "cell_type": "code",
   "execution_count": null,
   "metadata": {},
   "outputs": [],
   "source": [
    "# This cell generates new batch_size number of blends each time it's executed\n",
    "\n",
    "# Draw blend\n",
    "blend_results = next(draw_blend_generator)\n",
    "output = blend_results\n",
    "blend_images = output['blend_images']\n",
    "isolated_images = output['isolated_images']\n",
    "blend_list = output['blend_list']\n",
    "\n",
    "# Plot blended images\n",
    "btk.plot_utils.plot_blends(blend_images, blend_list, limits=(30,90))"
   ]
  },
  {
   "cell_type": "markdown",
   "metadata": {},
   "source": [
    "## 2. Draw blends from a pre-processed wld output with objects being assigned to a \"group\" if any of their pixels overlap.\n",
    "\n",
    "Here we use real galaxy blend configurations from the input 'OneDegSq.fits' CatSim catalog. The CatSim catalog was processed through the WeakLensingDeblending package (wld) to determine which galaxies are part of the same group. The wld processed catalog consists of galaxy parameters whose profiles were drawn upto a threshold where the pixel value was of 0.1 $\\times$ std of noise in the i band. A group consistis of all galaxies that have atleast one overlapping counterpart in the group. See wld [documentation](https://weaklensingdeblending.readthedocs.io/en/latest/index.html) for more details.\n",
    "\n",
    "In this example we use 'data/sample_group_catalog.fits' a small subsample of the pre-processed wld output catalog with only 10 groups. \n",
    "We define a new function, `group_sampling_function`, to sample groups from this catalog and draw them.\n",
    "\n",
    "We also demonstrate how a selection function can be used to make sure only objects that pass the selection criterion are drawned. Here `new_selection_function` makes sure only galaxies that are brighter than 27 mag in the $i$ band amd smaller than 2 arcsec are drawn."
   ]
  },
  {
   "cell_type": "code",
   "execution_count": null,
   "metadata": {
    "code_folding": [
     12,
     56
    ]
   },
   "outputs": [],
   "source": [
    "def group_sampling_function(Args, catalog):\n",
    "    \"\"\"Blends are defined from *groups* of galaxies from the CatSim\n",
    "    catalog previously analyzed with WLD.\n",
    "\n",
    "    The group is centered on the middle of the postage stamp.\n",
    "    Function only draws galaxies that lie within the postage stamp size\n",
    "    determined in Args.\n",
    "\n",
    "    Note: the pre-run WLD images are not used here. We only use the pre-run\n",
    "    catalog (in i band) to identify galaxies that belong to a group.\n",
    "    \"\"\"\n",
    "    if not hasattr(Args, 'wld_catalog_name'):\n",
    "        raise Exception(\"A pre-run WLD catalog  name should be input as \"\n",
    "                        \"Args.wld_catalog_name\")\n",
    "    else:\n",
    "        wld_catalog = astropy.table.Table.read(Args.wld_catalog_name,\n",
    "                                               format='fits')\n",
    "    # randomly sample a group with atleast 2 objects.\n",
    "    group_ids = np.unique(wld_catalog['grp_id'][wld_catalog['grp_size'] >= 2])\n",
    "    group_id = np.random.choice(group_ids, replace=False)\n",
    "    # get all galaxies belonging to the group.\n",
    "    ids = wld_catalog['db_id'][wld_catalog['grp_id'] == group_id]\n",
    "    blend_catalog = astropy.table.vstack([catalog[catalog['galtileid'] == i] for i in ids])\n",
    "    # Set mean x and y coordinates of the group galaxies to the center of the postage stamp. \n",
    "    blend_catalog['ra'] -= np.mean(blend_catalog['ra'])\n",
    "    blend_catalog['dec'] -= np.mean(blend_catalog['dec'])\n",
    "    # convert ra dec from degrees to arcsec\n",
    "    blend_catalog['ra'] *= 3600\n",
    "    blend_catalog['dec'] *= 3600\n",
    "    # make sure galaxy centers don't lie too close to edge\n",
    "    cond1 = np.abs(blend_catalog['ra']) < Args.stamp_size/2. - 3\n",
    "    cond2 = np.abs(blend_catalog['dec']) < Args.stamp_size/2. - 3\n",
    "    no_boundary = blend_catalog[cond1 & cond2]\n",
    "    if len(no_boundary) == 0:\n",
    "        return no_boundary\n",
    "    # make sure number of galaxies in blend is less than Args.max_number\n",
    "    # randomly select max_number of objects if larger.\n",
    "    num = min([len(no_boundary), Args.max_number])\n",
    "    select = np.random.choice(range(len(no_boundary)), num, replace=False)\n",
    "    return no_boundary[select]\n",
    "\n",
    "def new_selection_function(catalog):\n",
    "    \"\"\"Apply selection cuts to the input catalog\"\"\"\n",
    "    a = np.hypot(catalog['a_d'], catalog['a_b'])\n",
    "    q, = np.where((a <= 2) & (catalog['i_ab'] <= 27))\n",
    "    return catalog[q]"
   ]
  },
  {
   "cell_type": "code",
   "execution_count": null,
   "metadata": {},
   "outputs": [],
   "source": [
    "# Load catalog reviously run through WLD\n",
    "wld_catalog_name = os.path.join(os.path.dirname(os.getcwd()), 'data/sample_group_catalog.fits')\n",
    "\n",
    "#Input catalog name\n",
    "catalog_name = os.path.join(os.path.dirname(os.getcwd()), 'data', 'OneDegSq.fits')\n",
    "param = btk.config.Simulation_params(catalog_name, max_number=10, batch_size=6)\n",
    "param.wld_catalog_name = wld_catalog_name\n",
    "np.random.seed(param.seed)\n",
    "# Load input catalog\n",
    "catalog = btk.get_input_catalog.load_catalog(param, selection_function=new_selection_function)\n",
    "\n",
    "# Generate catalogs of blended objects. \n",
    "# Input group_sampling_function here\n",
    "blend_generator = btk.create_blend_generator.generate(param, catalog, group_sampling_function)\n",
    "\n",
    "#Generates observing conditions for the selected survey_name and all input bands\n",
    "observing_generator = btk.create_observing_generator.generate(param)\n",
    "\n",
    "#Generate images of blends in all the observing bands\n",
    "draw_blend_generator = btk.draw_blends.generate(param, blend_generator, observing_generator) "
   ]
  },
  {
   "cell_type": "code",
   "execution_count": null,
   "metadata": {},
   "outputs": [],
   "source": [
    "# This cell generates new batch_size number of blends each time it's executed\n",
    "\n",
    "# Draw blend\n",
    "blend_results = next(draw_blend_generator)\n",
    "output = blend_results\n",
    "blend_images = output['blend_images']\n",
    "isolated_images = output['isolated_images']\n",
    "blend_list = output['blend_list']\n",
    "\n",
    "# Plot blended images\n",
    "btk.plot_utils.plot_blends(blend_images, blend_list, limits=(15,105))"
   ]
  },
  {
   "cell_type": "markdown",
   "metadata": {},
   "source": [
    "## 3. Draw galaxies from cosmo DC2 catalo gwith blends from a pre-processed wld output with objects being assigned to a \"group\" if any of their pixels overlap.\n",
    "\n",
    "here the galaxies re drawn from cosmo DC2 catalog instead of CatSim. We use a small subsample of the DC2 catalog comprising of only 61 galaxies. For more details on creating your own DC2 catlog that can be nalyzed with btk refer to this [notebook](https://github.com/LSSTDESC/WeakLensingDeblending/blob/cosmoDC2_ingestion/notebooks/wld_ingestion_cosmoDC2.ipynb).\n",
    "\n",
    "The DC2 catalog was processed through the WeakLensingDeblending package (wld) to determine which galaxies are part of the same group. The wld processed catalog consists of galaxy parameters whose profiles were drawn upto a threshold where the pixel value was of 1 $\\times$ std of noise in the i band. A group consistis of all galaxies that have atleast one overlapping counterpart in the group. See wld [documentation](https://weaklensingdeblending.readthedocs.io/en/latest/index.html) for more details.\n",
    "\n",
    "In this example we use 'data/sample_dc2_group_catalog.fits' a small subsample of the pre-processed wld output catalog with only 15 groups. \n",
    "We use the function, `group_sampling_function_numbered`, to sample groups from this catalog and draw them. This function requires a parameter, group_id_count, to be input in the config params along with the wld_catalog which tracks the group id returned. Each time the generator is called,1 gets added to the count. If the count is larger than the number of groups input, the generator is forced to exit.\n"
   ]
  },
  {
   "cell_type": "code",
   "execution_count": null,
   "metadata": {},
   "outputs": [],
   "source": [
    "from astropy.table import Table\n",
    "#Input catalog name\n",
    "catalog_name = os.path.join(os.path.dirname(os.getcwd()), 'data', 'sample_dc2_group_input_catalog.fits')\n",
    "param = btk.config.Simulation_params(catalog_name, max_number=10, batch_size=4, add_noise=True)\n",
    "wld_catalog_name = os.path.join(os.path.dirname(os.getcwd()), 'data/sample_dc2_group_catalog.fits')\n",
    "param.wld_catalog = Table.read(wld_catalog_name, format='fits')\n",
    "param.group_id_count = 0\n",
    "np.random.seed(param.seed)\n",
    "# Load input catalog\n",
    "catalog = btk.get_input_catalog.load_catalog(param)\n",
    "\n",
    "# Generate catalogs of blended objects. \n",
    "# Input group_sampling_function here\n",
    "blend_generator = btk.create_blend_generator.generate(param, catalog, btk.utils.group_sampling_function_numbered)\n",
    "\n",
    "#Generates observing conditions for the selected survey_name and all input bands\n",
    "observing_generator = btk.create_observing_generator.generate(param)\n",
    "\n",
    "#Generate images of blends in all the observing bands\n",
    "draw_blend_generator = btk.draw_blends.generate(param, blend_generator, observing_generator) \n",
    "# This cell generates new batch_size number of blends each time it's executed\n",
    "\n",
    "# Draw blend\n",
    "blend_results = next(draw_blend_generator)\n",
    "output = blend_results\n",
    "blend_images = output['blend_images']\n",
    "isolated_images = output['isolated_images']\n",
    "blend_list = output['blend_list']\n",
    "\n",
    "# Plot blended images\n",
    "btk.plot_utils.plot_blends(blend_images, blend_list, limits=(15,105))"
   ]
  },
  {
   "cell_type": "code",
   "execution_count": null,
   "metadata": {},
   "outputs": [],
   "source": [
    "# because the sampling is numbered, if the genertor is called more then the number of groups, the genrator exits\n",
    "for i in range(3):\n",
    "    next(draw_blend_generator)"
   ]
  },
  {
   "cell_type": "markdown",
   "metadata": {},
   "source": [
    "## 4. Draw all galaxies within a radius\n",
    "\n",
    "We define a function `select_within_radius` that picks a galaxy at random and creates a blend scene with it and all objects within a radius of stamp size/5 from its center. \n",
    "\n",
    "We also define a new selection function `select_only_gold` that draws only the galaxies in the gold sample (i<25.3)"
   ]
  },
  {
   "cell_type": "code",
   "execution_count": null,
   "metadata": {},
   "outputs": [],
   "source": [
    "def select_within_radius(Args, catalog):\n",
    "    \"\"\"Returns all galaxies within a radius of stamp_size/5 of a galaxy\n",
    "    randomly selected from the input catalog.\n",
    "    \n",
    "    The function centers the blend to the middle of the postage stamp. It also\n",
    "    limits the number of objects to max_number\n",
    "    \"\"\"\n",
    "    pick_gal = np.random.choice(len(catalog), 1)\n",
    "    dx = (catalog['ra'] - catalog['ra'][pick_gal]) * 3600\n",
    "    dy = (catalog['dec']- catalog['dec'][pick_gal]) * 3600\n",
    "    dh = np.hypot(dx,dy)  \n",
    "    q, = np.where(dh < Args.stamp_size/5.)\n",
    "    blend_catalog = catalog[q]\n",
    "    # Set mean x and y coordinates of the group galaxies to the center of the postage stamp. \n",
    "    blend_catalog['ra'] -= np.mean(blend_catalog['ra'])\n",
    "    blend_catalog['dec'] -= np.mean(blend_catalog['dec'])\n",
    "    # convert ra dec from degrees to arcsec\n",
    "    blend_catalog['ra'] *= 3600\n",
    "    blend_catalog['dec'] *= 3600\n",
    "    # make sure number of galaxies in blend is less than Args.max_number\n",
    "    # randomly select max_number of objects if larger.\n",
    "    num = min([len(blend_catalog), Args.max_number])\n",
    "    select = np.random.choice(range(len(blend_catalog)), num, replace=False)\n",
    "    return blend_catalog[select]\n",
    "\n",
    "def select_only_gold(catalog):\n",
    "    \"\"\"Apply gold sample selection cut (i<25.3) to the input catalog\"\"\"\n",
    "    a = np.hypot(catalog['a_d'], catalog['a_b'])\n",
    "    q, = np.where(catalog['i_ab'] <= 25.3)\n",
    "    return catalog[q]"
   ]
  },
  {
   "cell_type": "code",
   "execution_count": null,
   "metadata": {},
   "outputs": [],
   "source": [
    "param = btk.config.Simulation_params(catalog_name, max_number=10, batch_size=3)\n",
    "\n",
    "np.random.seed(param.seed)\n",
    "# Load input catalog\n",
    "catalog = btk.get_input_catalog.load_catalog(param, selection_function=select_only_gold)\n",
    "\n",
    "# Generate catalogs of blended objects. \n",
    "# Input group_sampling_function here\n",
    "blend_generator = btk.create_blend_generator.generate(param, catalog, select_within_radius)\n",
    "\n",
    "#Generates observing conditions for the selected survey_name and all input bands\n",
    "observing_generator = btk.create_observing_generator.generate(param)\n",
    "\n",
    "#Generate images of blends in all the observing bands\n",
    "draw_blend_generator = btk.draw_blends.generate(param, blend_generator, observing_generator) "
   ]
  },
  {
   "cell_type": "code",
   "execution_count": null,
   "metadata": {},
   "outputs": [],
   "source": [
    "# This cell generates new batch_size number of blends each time it's executed\n",
    "\n",
    "# Draw blend\n",
    "blend_results = next(draw_blend_generator)\n",
    "output = blend_results\n",
    "blend_images = output['blend_images']\n",
    "isolated_images = output['isolated_images']\n",
    "blend_list = output['blend_list']\n",
    "\n",
    "# Plot blended images\n",
    "btk.plot_utils.plot_blends(blend_images, blend_list, limits=(15,105))"
   ]
  },
  {
   "cell_type": "markdown",
   "metadata": {},
   "source": [
    "## 5.Generate blends with different observing conditions (PSF size and exposure time)."
   ]
  },
  {
   "cell_type": "markdown",
   "metadata": {},
   "source": [
    "Here we define a function, `custom_obs_condition`, that sets a different observing conditions for each band and blend. Each blend in the batch will have different seeing (atmosphere effects) and PSF (telescope effects) in each band. \n",
    "The exposure time is selected from a uniform distribution between 100s and the LSST survey defaults. The PSF fwhm is perturbed slightly from the default FWHM by a value sampled uniformly between -0.1 to 0.1 arcsec.\n",
    "\n",
    "To more clearly demonstarte this we input a catalog with just 1 galaxy, so that our batch has the same object.\n",
    "\n",
    "Note: This part uses scarlet.display normalizing function to recscale the displayed rgb images."
   ]
  },
  {
   "cell_type": "code",
   "execution_count": null,
   "metadata": {},
   "outputs": [],
   "source": [
    "import descwl\n",
    "import scarlet.display"
   ]
  },
  {
   "cell_type": "code",
   "execution_count": null,
   "metadata": {
    "code_folding": [
     0,
     17
    ]
   },
   "outputs": [],
   "source": [
    "def custom_obs_condition(Args, band):\n",
    "    \"\"\"Returns observing conditions from the WLD package\n",
    "    for a given survey_name and band with a small offset from\n",
    "    the default parametrs.\n",
    "    Args\n",
    "        Args: Class containing parameters to generate blends\n",
    "        band: filter name to get observing conditions for.\n",
    "    Returns\n",
    "        survey: WLD survey class with observing conditions.\n",
    "    \"\"\"\n",
    "    survey = descwl.survey.Survey.get_defaults(\n",
    "        survey_name=Args.survey_name,\n",
    "        filter_band=band)\n",
    "    survey['exposure_time'] = random.uniform(10, survey['exposure_time'])\n",
    "    survey['zenith_psf_fwhm'] += random.uniform(-0.3,0.3)\n",
    "    return survey\n",
    "\n",
    "def same_sample_function(Args, catalog):\n",
    "    \"\"\"Returns catalog with parametrs to draw the same galaxy at the\n",
    "    center of the postage stamp.\n",
    "    \"\"\"\n",
    "    blend_catalog = catalog[catalog['i_ab']<23][0:1]\n",
    "    blend_catalog['ra'], blend_catalog['dec'] = 0., 0.\n",
    "    return blend_catalog\n",
    "\n",
    "def plot_blends_same_scale(blend_images, blend_list, norm ,vmin,\n",
    "                           vmax, titles=None, limits=None):\n",
    "    \"\"\"Plots blend images as RGB(g,r,i) image, and i band image\"\"\"\n",
    "    batch_size = len(blend_list)\n",
    "    if titles is None:\n",
    "        titles = ['i band']*batch_size\n",
    "    for i in range(batch_size):    \n",
    "        num = len(blend_list[i])\n",
    "        images = np.transpose(blend_images[i, :, :, 1:4], axes=(2,0,1))\n",
    "        blend_img_rgb = scarlet.display.img_to_rgb(images, norm=norm)\n",
    "        plt.figure(figsize=(6,3))\n",
    "        plt.subplot(121)\n",
    "        plt.imshow(blend_img_rgb)\n",
    "        if limits:\n",
    "            plt.xlim(limits)\n",
    "            plt.ylim(limits)\n",
    "        plt.title(\"gri bands\")\n",
    "        plt.axis('off')\n",
    "        plt.subplot(122)\n",
    "        plt.imshow(blend_images[i, :, :, 3],\n",
    "                  vmin=vmin, vmax=vmax)\n",
    "        plt.title(titles[i])\n",
    "        if limits:\n",
    "            plt.xlim(limits)\n",
    "            plt.ylim(limits)\n",
    "        plt.axis('off')\n"
   ]
  },
  {
   "cell_type": "code",
   "execution_count": null,
   "metadata": {},
   "outputs": [],
   "source": [
    "param = btk.config.Simulation_params(catalog_name, max_number=1, batch_size=1)\n",
    "np.random.seed(param.seed)\n",
    "random.seed(param.seed)\n",
    "#Load input catalog\n",
    "catalog = btk.get_input_catalog.load_catalog(param)\n",
    "#Generate catalogs of blended objects \n",
    "blend_generator = btk.create_blend_generator.generate(param, catalog, same_sample_function)\n",
    "\n",
    "#Generates observing conditions for the selected survey_name and all input bands\n",
    "observing_generator = btk.create_observing_generator.generate(param, obs_function=custom_obs_condition)\n",
    "\n",
    "#Generate images of blends in all the observing bands\n",
    "draw_blend_generator = btk.draw_blends.generate(param, blend_generator, observing_generator) "
   ]
  },
  {
   "cell_type": "code",
   "execution_count": null,
   "metadata": {},
   "outputs": [],
   "source": [
    "# Same galaxy is drawn with different observing conditions. All image shave same color scale. \n",
    "\n",
    "# This cell generates new batch_size number of blends each time it's executed\n",
    "\n",
    "# Draw blend\n",
    "rgb_norm = None\n",
    "i_vmax, i_vmin = None, None\n",
    "for j in range(4):\n",
    "    blend_results = next(draw_blend_generator)\n",
    "    output = blend_results\n",
    "    blend_images = output['blend_images']\n",
    "    isolated_images = output['isolated_images']\n",
    "    blend_list = output['blend_list']\n",
    "    if rgb_norm is None:\n",
    "        Q = 10\n",
    "        minimum = np.ma.min(blend_images[0, :, :, 1:4])\n",
    "        maximum = np.ma.max(blend_images[0, :, :, 1:4])\n",
    "        stretch = maximum - minimum\n",
    "        rgb_norm = scarlet.display.AsinhMapping(\n",
    "            minimum=minimum, stretch=stretch, Q=Q)\n",
    "        i_vmin, i_vmax = np.min(blend_images[0, :, :, 3]), np.max(blend_images[0, :, :, 3])\n",
    "\n",
    "    # Plot blended images\n",
    "    titles = [\n",
    "        \"PSF fwhm:{:.2f} arcsec, exposure:{:.0f}s\".format(o[4].zenith_psf_fwhm, o[4].exposure_time) for o in output['obs_condition']]\n",
    "    plot_blends_same_scale(blend_images, blend_list, rgb_norm, i_vmin, i_vmax, limits=(15,105), titles=titles)"
   ]
  },
  {
   "cell_type": "code",
   "execution_count": null,
   "metadata": {},
   "outputs": [],
   "source": []
  }
 ],
 "metadata": {
  "kernelspec": {
   "display_name": "Python 3",
   "language": "python",
   "name": "python3"
  },
  "language_info": {
   "codemirror_mode": {
    "name": "ipython",
    "version": 3
   },
   "file_extension": ".py",
   "mimetype": "text/x-python",
   "name": "python",
   "nbconvert_exporter": "python",
   "pygments_lexer": "ipython3",
   "version": "3.6.1"
  },
  "varInspector": {
   "cols": {
    "lenName": 16,
    "lenType": 16,
    "lenVar": 40
   },
   "kernels_config": {
    "python": {
     "delete_cmd_postfix": "",
     "delete_cmd_prefix": "del ",
     "library": "var_list.py",
     "varRefreshCmd": "print(var_dic_list())"
    },
    "r": {
     "delete_cmd_postfix": ") ",
     "delete_cmd_prefix": "rm(",
     "library": "var_list.r",
     "varRefreshCmd": "cat(var_dic_list()) "
    }
   },
   "types_to_exclude": [
    "module",
    "function",
    "builtin_function_or_method",
    "instance",
    "_Feature"
   ],
   "window_display": false
  }
 },
 "nbformat": 4,
 "nbformat_minor": 4
}
