{
 "cells": [
  {
   "cell_type": "markdown",
   "id": "52431e07-1929-41ca-a88e-a4d0f831f080",
   "metadata": {},
   "source": [
    "# GENERATE"
   ]
  },
  {
   "cell_type": "code",
   "execution_count": null,
   "id": "9279da64-313e-4a76-95e4-2b671662c11a",
   "metadata": {},
   "outputs": [],
   "source": [
    "from btk.draw_blends import *\n",
    "from btk.blend_batch import *\n",
    "from btk.catalog import CatsimCatalog\n",
    "from btk.sampling_functions import DefaultSampling\n",
    "from btk.draw_blends import CatsimGenerator\n",
    "from btk.survey import get_surveys"
   ]
  },
  {
   "cell_type": "code",
   "execution_count": null,
   "id": "c94fb772-798d-4583-a3ce-ad2072761821",
   "metadata": {},
   "outputs": [],
   "source": [
    "catalog = CatsimCatalog.from_file(\"data/sample_input_catalog.fits\")\n",
    "sampling_function = DefaultSampling(stamp_size=24)\n",
    "draw_generator = CatsimGenerator(catalog, sampling_function, get_surveys([\"LSST\", \"HSC\"]), batch_size=5)"
   ]
  },
  {
   "cell_type": "code",
   "execution_count": null,
   "id": "9ec331cc-5c94-4c6d-b82d-b3393340a8dd",
   "metadata": {},
   "outputs": [
    {
     "data": {
      "application/vnd.jupyter.widget-view+json": {
       "model_id": "2ac0e311385b42839167529c19f5d2c6",
       "version_major": 2,
       "version_minor": 0
      },
      "text/plain": [
       "Generating blends for LSST survey:   0%|          | 0/5 [00:00<?, ?it/s]"
      ]
     },
     "metadata": {},
     "output_type": "display_data"
    },
    {
     "data": {
      "application/vnd.jupyter.widget-view+json": {
       "model_id": "9f918d3e5d6d444eb1b2fa52fa337bf9",
       "version_major": 2,
       "version_minor": 0
      },
      "text/plain": [
       "Generating blends for HSC survey:   0%|          | 0/5 [00:00<?, ?it/s]"
      ]
     },
     "metadata": {},
     "output_type": "display_data"
    }
   ],
   "source": [
    "multiresolution_batch = next(draw_generator)"
   ]
  },
  {
   "cell_type": "code",
   "execution_count": null,
   "id": "f5bf333c-ca4c-4457-938b-0c502800d94b",
   "metadata": {},
   "outputs": [],
   "source": [
    "multiresolution_batch.save('../blend_batch_data/')\n",
    "multiresolution_batch = MultiResolutionBlendBatch.load('../blend_batch_data/')"
   ]
  },
  {
   "cell_type": "code",
   "execution_count": null,
   "id": "faef63af-433b-4b27-894f-b4a91c6fc711",
   "metadata": {},
   "outputs": [],
   "source": [
    "lsst_batch = multiresolution_batch[0] # access by indx\n",
    "hsc_batch = multiresolution_batch['HSC'] # access by key"
   ]
  },
  {
   "cell_type": "code",
   "execution_count": null,
   "id": "364699c7-c3d6-4e56-ba76-62ff100e9e1d",
   "metadata": {},
   "outputs": [],
   "source": [
    "lsst_batch.save('../blend_batch_data/')\n",
    "lsst_batch = BlendBatch.load('../blend_batch_data/')"
   ]
  },
  {
   "cell_type": "markdown",
   "id": "d376af1d-478a-4614-bf29-7c069a0d47d1",
   "metadata": {},
   "source": [
    "# DEBLENDERS"
   ]
  },
  {
   "cell_type": "code",
   "execution_count": null,
   "id": "a8c53d56-d727-497a-bc93-2c40666e5622",
   "metadata": {},
   "outputs": [],
   "source": [
    "from btk.deblend import PeakLocalMax, SepSingleband, SepMultiband, Scarlet\n",
    "from btk.deblend import DeblendGenerator"
   ]
  },
  {
   "cell_type": "code",
   "execution_count": null,
   "id": "c0533c52-05b6-41f3-bc07-1c4b44ad7e58",
   "metadata": {
    "tags": []
   },
   "outputs": [],
   "source": [
    "# This code will not run because draw_generator will generate `MultiResolutionBlendBatch'\n",
    "\n",
    "# draw_generator = CatsimGenerator(catalog, sampling_function, get_surveys([\"LSST\", \"HSC\"]), batch_size=5)\n",
    "# deblend_generator = DeblendGenerator(deblenders, draw_generator)\n",
    "# blend, deblended = next(deblend_generator)"
   ]
  },
  {
   "cell_type": "code",
   "execution_count": null,
   "id": "38fb5325-3f4a-4c69-a981-10f99986ac63",
   "metadata": {},
   "outputs": [
    {
     "data": {
      "application/vnd.jupyter.widget-view+json": {
       "model_id": "d9c518e36bb34e34b27e35efeb3ac7b2",
       "version_major": 2,
       "version_minor": 0
      },
      "text/plain": [
       "Generating blends for LSST survey:   0%|          | 0/5 [00:00<?, ?it/s]"
      ]
     },
     "metadata": {},
     "output_type": "display_data"
    }
   ],
   "source": [
    "deblenders = [\n",
    "    PeakLocalMax(use_mean=True),\n",
    "    SepSingleband(use_mean=True), \n",
    "    SepMultiband(), \n",
    "    #Scarlet(), # scarlet needs to be debugged\n",
    "]\n",
    "\n",
    "draw_generator = CatsimGenerator(catalog, sampling_function, get_surveys(\"LSST\"), batch_size=5)\n",
    "deblend_generator = DeblendGenerator(deblenders, draw_generator)\n",
    "blend, deblended = next(deblend_generator)"
   ]
  },
  {
   "cell_type": "code",
   "execution_count": null,
   "id": "f55c8a10-7022-4135-bb87-e02841585bc4",
   "metadata": {},
   "outputs": [
    {
     "data": {
      "text/plain": [
       "{'PeakLocalMax': DeblendBatch(batch_size = 5, max_n_sources = 2, stamp_size = 120, image_size = 120), containing: \n",
       " \tcatalog_list: list of <class 'astropy.table.table.Table'>, size 5\n",
       " \tsegmentation: None\n",
       " \tdeblended_images: None,\n",
       " 'SepSingleband': DeblendBatch(batch_size = 5, max_n_sources = 2, stamp_size = 120, image_size = 120), containing: \n",
       " \tcatalog_list: list of <class 'astropy.table.table.Table'>, size 5\n",
       " \tsegmentation: <class 'numpy.ndarray'>, shape [5, 2, 120, 120]\n",
       " \tdeblended_images: <class 'numpy.ndarray'>, shape [5, 2, 120, 120],\n",
       " 'SepMultiband': DeblendBatch(batch_size = 5, max_n_sources = 2, stamp_size = 120, image_size = 120), containing: \n",
       " \tcatalog_list: list of <class 'astropy.table.table.Table'>, size 5\n",
       " \tsegmentation: None\n",
       " \tdeblended_images: None}"
      ]
     },
     "execution_count": null,
     "metadata": {},
     "output_type": "execute_result"
    }
   ],
   "source": [
    "deblended"
   ]
  },
  {
   "cell_type": "code",
   "execution_count": null,
   "id": "eed6f20e",
   "metadata": {},
   "outputs": [],
   "source": [
    "deblended['SepMultiband'].save('../deblend_batch_data/')\n",
    "deblended = DeblendBatch.load('../deblend_batch_data/')"
   ]
  },
  {
   "cell_type": "code",
   "execution_count": null,
   "id": "f2c2243f",
   "metadata": {},
   "outputs": [
    {
     "data": {
      "text/plain": [
       "DeblendBatch(batch_size = 5, max_n_sources = 2, stamp_size = 120, image_size = 120), containing: \n",
       "\tcatalog_list: list of <class 'astropy.table.table.Table'>, size 5\n",
       "\tsegmentation: None\n",
       "\tdeblended_images: None"
      ]
     },
     "execution_count": null,
     "metadata": {},
     "output_type": "execute_result"
    }
   ],
   "source": [
    "deblended"
   ]
  },
  {
   "cell_type": "code",
   "execution_count": null,
   "id": "2ba9e59e-f6a3-4abb-bb73-7634a53389ee",
   "metadata": {},
   "outputs": [],
   "source": []
  }
 ],
 "metadata": {
  "kernelspec": {
   "display_name": "Python 3 (ipykernel)",
   "language": "python",
   "name": "python3"
  },
  "language_info": {
   "codemirror_mode": {
    "name": "ipython",
    "version": 3
   },
   "file_extension": ".py",
   "mimetype": "text/x-python",
   "name": "python",
   "nbconvert_exporter": "python",
   "pygments_lexer": "ipython3",
   "version": "3.10.5"
  }
 },
 "nbformat": 4,
 "nbformat_minor": 5
}
